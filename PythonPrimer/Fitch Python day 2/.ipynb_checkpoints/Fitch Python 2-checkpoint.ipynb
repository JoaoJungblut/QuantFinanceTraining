{
 "cells": [
  {
   "cell_type": "markdown",
   "id": "0ae0cd03",
   "metadata": {},
   "source": [
    "# Sympy - Symbolic algebra in Python"
   ]
  },
  {
   "cell_type": "markdown",
   "id": "d87da7c1",
   "metadata": {
    "collapsed": true
   },
   "source": [
    "## Introduction\n",
    "Sympy is one of two Computer Algebra Systems (CAS) for Python. Its focus is on code simplicity while becoming a complete symbolic algebra package. To get started import the module sympy. "
   ]
  },
  {
   "cell_type": "code",
   "execution_count": 1,
   "id": "711e2137",
   "metadata": {
    "ExecuteTime": {
     "end_time": "2023-06-10T21:01:19.083813Z",
     "start_time": "2023-06-10T21:01:18.418498Z"
    }
   },
   "outputs": [],
   "source": [
    "import sympy as sp\n",
    "# or we can do import with from sympy import *"
   ]
  },
  {
   "cell_type": "markdown",
   "id": "eb23164b",
   "metadata": {},
   "source": [
    "We can produce very nice LATEX formatted output using the **init_printing()** function. However we do need to import a function **symbol**. Let's start with something really basic. Suppose we want to simplify $(2x+1)(x-1)$"
   ]
  },
  {
   "cell_type": "code",
   "execution_count": 22,
   "id": "2c111172",
   "metadata": {
    "ExecuteTime": {
     "end_time": "2023-06-10T21:15:42.102263Z",
     "start_time": "2023-06-10T21:15:42.087272Z"
    }
   },
   "outputs": [],
   "source": [
    "from sympy import init_printing\n",
    "init_printing()\n",
    "from sympy import init_session"
   ]
  },
  {
   "cell_type": "code",
   "execution_count": 23,
   "id": "09d66b86",
   "metadata": {
    "ExecuteTime": {
     "end_time": "2023-06-10T21:15:44.640707Z",
     "start_time": "2023-06-10T21:15:42.951178Z"
    }
   },
   "outputs": [
    {
     "data": {
      "image/png": "[encoded data removed]",
      "text/latex": [
       "$\\displaystyle \\left(x - 1\\right)^{2} \\cdot \\left(2 x + 2\\right)$"
      ],
      "text/plain": [
       "       2          \n",
       "(x - 1) ⋅(2⋅x + 2)"
      ]
     },
     "execution_count": 23,
     "metadata": {},
     "output_type": "execute_result"
    }
   ],
   "source": [
    "x=sp.Symbol('x') # this is the variable being used\n",
    "2*(x+1)*(x-1)**2"
   ]
  },
  {
   "cell_type": "markdown",
   "id": "1ce9112d",
   "metadata": {},
   "source": [
    "What makes this module powerful is the algebraic manipulation it performs. Let's stay with the previous expression and expand it using the **expand()** function"
   ]
  },
  {
   "cell_type": "code",
   "execution_count": null,
   "id": "a298787e",
   "metadata": {
    "ExecuteTime": {
     "end_time": "2023-06-08T15:24:18.854023Z",
     "start_time": "2023-06-08T15:24:18.670541Z"
    }
   },
   "outputs": [],
   "source": [
    "sp.expand((2*x+1)*(x-1)**2) # expand and simplify\n"
   ]
  },
  {
   "cell_type": "markdown",
   "id": "97defcb3",
   "metadata": {},
   "source": [
    "And if we want to factorise this cubic then use the **factor()** function"
   ]
  },
  {
   "cell_type": "code",
   "execution_count": null,
   "id": "fb65b842",
   "metadata": {
    "ExecuteTime": {
     "end_time": "2023-06-08T15:24:24.201448Z",
     "start_time": "2023-06-08T15:24:24.013847Z"
    }
   },
   "outputs": [],
   "source": [
    "sp.factor(2*x**3-3*x**2+1) # note that BIDMAS is used for hierarchy"
   ]
  },
  {
   "cell_type": "markdown",
   "id": "745a5692",
   "metadata": {},
   "source": [
    "An alternative way to defining symbols is"
   ]
  },
  {
   "cell_type": "code",
   "execution_count": null,
   "id": "54a29dd0",
   "metadata": {
    "ExecuteTime": {
     "end_time": "2023-06-08T16:08:15.376643Z",
     "start_time": "2023-06-08T16:08:15.368698Z"
    }
   },
   "outputs": [],
   "source": [
    "a,b,c=sp.symbols('a,b,c') # note function\n",
    "type(a) # only takes one argument"
   ]
  },
  {
   "cell_type": "code",
   "execution_count": null,
   "id": "843e2cf0",
   "metadata": {
    "ExecuteTime": {
     "end_time": "2023-06-08T16:08:17.127355Z",
     "start_time": "2023-06-08T16:08:16.934831Z"
    }
   },
   "outputs": [],
   "source": [
    "sp.expand((a+b+c)**2) # remember to include brackets"
   ]
  },
  {
   "cell_type": "code",
   "execution_count": null,
   "id": "a846dfaa",
   "metadata": {
    "ExecuteTime": {
     "end_time": "2023-06-08T16:08:23.491273Z",
     "start_time": "2023-06-08T16:08:23.288764Z"
    }
   },
   "outputs": [],
   "source": [
    "a+2*b+6*c+4*a-9*c+8*b # will simplify and present"
   ]
  },
  {
   "cell_type": "code",
   "execution_count": null,
   "id": "c7f040e2",
   "metadata": {
    "ExecuteTime": {
     "end_time": "2023-06-08T16:08:24.840220Z",
     "start_time": "2023-06-08T16:08:24.647733Z"
    }
   },
   "outputs": [],
   "source": [
    "sp.expand(sp.sin(a+b),  trig=True) # needs second param. to produce identity"
   ]
  },
  {
   "cell_type": "code",
   "execution_count": null,
   "id": "cbee0a40",
   "metadata": {
    "ExecuteTime": {
     "end_time": "2023-06-08T16:14:11.827009Z",
     "start_time": "2023-06-08T16:14:11.623594Z"
    }
   },
   "outputs": [],
   "source": [
    "sp.expand(sp.tan(a+b), trig=True)"
   ]
  },
  {
   "cell_type": "markdown",
   "id": "b2bae5c6",
   "metadata": {},
   "source": [
    "The **simplify** function attempts to simplify an expression into a set of nicer looking smaller terms using various techniques."
   ]
  },
  {
   "cell_type": "code",
   "execution_count": null,
   "id": "5a5b484a",
   "metadata": {
    "ExecuteTime": {
     "end_time": "2023-06-08T16:14:13.583343Z",
     "start_time": "2023-06-08T16:14:13.398398Z"
    }
   },
   "outputs": [],
   "source": [
    "#(sp.expand(sp.sin(x-sp.pi/2)))\n",
    "(sp.simplify((sp.sin(x-sp.pi/2))))\n",
    "# simplify can also be used"
   ]
  },
  {
   "cell_type": "code",
   "execution_count": null,
   "id": "93fd440e",
   "metadata": {
    "ExecuteTime": {
     "end_time": "2023-06-08T16:32:39.364572Z",
     "start_time": "2023-06-08T16:32:39.174549Z"
    }
   },
   "outputs": [],
   "source": [
    "sp.simplify(sp.cos(x)/sp.sin(x)/sp.cos(x))"
   ]
  },
  {
   "cell_type": "markdown",
   "id": "f1dd579f",
   "metadata": {},
   "source": [
    "We can add assumptions to variables when we create them"
   ]
  },
  {
   "cell_type": "code",
   "execution_count": null,
   "id": "20ff5ce5",
   "metadata": {
    "ExecuteTime": {
     "end_time": "2023-06-08T16:33:46.785261Z",
     "start_time": "2023-06-08T16:33:46.773296Z"
    }
   },
   "outputs": [],
   "source": [
    "z=sp.Symbol('z',real=True)\n",
    "z.is_imaginary"
   ]
  },
  {
   "cell_type": "markdown",
   "id": "239d1307",
   "metadata": {
    "collapsed": true
   },
   "source": [
    "The imaginary unit $i=\\sqrt{-1}$ denoted I in sympy"
   ]
  },
  {
   "cell_type": "code",
   "execution_count": null,
   "id": "9fdb8023",
   "metadata": {
    "ExecuteTime": {
     "end_time": "2023-06-08T16:33:49.103184Z",
     "start_time": "2023-06-08T16:33:49.092182Z"
    }
   },
   "outputs": [],
   "source": [
    "z=sp.I #labourious but the essence of good coding\n",
    "z.is_imaginary"
   ]
  },
  {
   "cell_type": "code",
   "execution_count": null,
   "id": "7ac2a012",
   "metadata": {
    "ExecuteTime": {
     "end_time": "2023-06-08T16:34:47.118376Z",
     "start_time": "2023-06-08T16:34:46.932872Z"
    }
   },
   "outputs": [],
   "source": [
    "2+sp.I"
   ]
  },
  {
   "cell_type": "code",
   "execution_count": null,
   "id": "2e0b7593",
   "metadata": {
    "ExecuteTime": {
     "end_time": "2023-06-08T16:34:49.640220Z",
     "start_time": "2023-06-08T16:34:49.469087Z"
    }
   },
   "outputs": [],
   "source": [
    "sp.I**2"
   ]
  },
  {
   "cell_type": "markdown",
   "id": "3c4ea9f0",
   "metadata": {},
   "source": [
    "## Rational numbers\n",
    "There are three different numerical types in SymPy - **real, rational, integer**. "
   ]
  },
  {
   "cell_type": "code",
   "execution_count": null,
   "id": "b2189970",
   "metadata": {
    "ExecuteTime": {
     "end_time": "2023-06-08T17:08:08.482375Z",
     "start_time": "2023-06-08T17:08:08.319817Z"
    }
   },
   "outputs": [],
   "source": [
    "r1=sp.Rational(2,3)\n",
    "r2=sp.Rational(3,4) # no sp required as sympy imported as *\n",
    "r1+r2"
   ]
  },
  {
   "cell_type": "markdown",
   "id": "f934cc38",
   "metadata": {},
   "source": [
    "## Calculus Applications\n",
    "A powerful feature of CAS is its Calculus functionality like derivatives and integrals of algebraic expressions.\n",
    "\n",
    "**Differentiation** – Use the diff function. The first argument is the expression to take the derivative of, and the second is the symbol by which to take the derivative:"
   ]
  },
  {
   "cell_type": "code",
   "execution_count": null,
   "id": "9104b980",
   "metadata": {
    "ExecuteTime": {
     "end_time": "2023-06-08T17:21:22.150477Z",
     "start_time": "2023-06-08T17:21:21.959886Z"
    }
   },
   "outputs": [],
   "source": [
    "x,y = sp.symbols('x,y') # define symbols\n",
    "y=(x+sp.pi)**4 # define function\n",
    "ydash=sp.diff(y,x)\n",
    "ydash"
   ]
  },
  {
   "cell_type": "code",
   "execution_count": null,
   "id": "bc908f50",
   "metadata": {
    "ExecuteTime": {
     "end_time": "2023-06-08T17:21:34.584281Z",
     "start_time": "2023-06-08T17:21:34.406774Z"
    }
   },
   "outputs": [],
   "source": [
    "sp.diff(y,x,x) # 2nd order derivative"
   ]
  },
  {
   "cell_type": "code",
   "execution_count": null,
   "id": "1e4e53b2",
   "metadata": {
    "ExecuteTime": {
     "end_time": "2023-06-08T17:21:38.463743Z",
     "start_time": "2023-06-08T17:21:38.279135Z"
    }
   },
   "outputs": [],
   "source": [
    "sp.diff(y,x,x,x,) # 3rd order derivative"
   ]
  },
  {
   "cell_type": "code",
   "execution_count": null,
   "id": "5bdce117",
   "metadata": {
    "ExecuteTime": {
     "end_time": "2023-06-08T17:22:20.144187Z",
     "start_time": "2023-06-08T17:22:19.958626Z"
    }
   },
   "outputs": [],
   "source": [
    "# or diff ydash\n",
    "sp.diff(ydash,x)"
   ]
  },
  {
   "cell_type": "markdown",
   "id": "688ccb3c",
   "metadata": {},
   "source": [
    "Trig functions and transcendental functions can also be differentiated"
   ]
  },
  {
   "cell_type": "code",
   "execution_count": null,
   "id": "c9d14651",
   "metadata": {
    "ExecuteTime": {
     "end_time": "2023-06-08T17:22:25.245391Z",
     "start_time": "2023-06-08T17:22:25.047949Z"
    }
   },
   "outputs": [],
   "source": [
    "y=sp.exp(x)*sp.cos(x)\n",
    "dy_dx=sp.diff(y,x)\n",
    "dy_dx"
   ]
  },
  {
   "cell_type": "code",
   "execution_count": null,
   "id": "3469a931",
   "metadata": {
    "ExecuteTime": {
     "end_time": "2023-06-08T17:22:31.390785Z",
     "start_time": "2023-06-08T17:22:31.214707Z"
    }
   },
   "outputs": [],
   "source": [
    "y=3**x\n",
    "dy_dx=sp.diff(y,x)\n",
    "dy_dx"
   ]
  },
  {
   "cell_type": "code",
   "execution_count": null,
   "id": "da22453b",
   "metadata": {
    "ExecuteTime": {
     "end_time": "2023-06-08T17:22:43.133499Z",
     "start_time": "2023-06-08T17:22:42.934932Z"
    }
   },
   "outputs": [],
   "source": [
    "import numpy as np\n",
    "y=sp.log(sp.tan(x),np.e)\n",
    "sp.diff(y,x)"
   ]
  },
  {
   "cell_type": "markdown",
   "id": "02ea8832",
   "metadata": {},
   "source": [
    "multivariate functions $f(x,y,z)$ can also be differentiated to give $\\frac{\\partial{f}}{\\partial{x}}$, $\\frac{\\partial{f}}{\\partial{y}}$, $\\frac{\\partial{f}}{\\partial{z}}$ as well second order derivatives and mixed partial derivatives"
   ]
  },
  {
   "cell_type": "code",
   "execution_count": null,
   "id": "9f008e51",
   "metadata": {
    "ExecuteTime": {
     "end_time": "2023-06-08T17:22:50.732478Z",
     "start_time": "2023-06-08T17:22:50.719512Z"
    }
   },
   "outputs": [],
   "source": [
    "x,y,z=sp.symbols('x y z')\n",
    "f=sp.sin(x*y)+sp.cos(y*z)+sp.exp(x*z)\n",
    "# in this cell 3 variables x,y,z and f(x,y,z) defined"
   ]
  },
  {
   "cell_type": "code",
   "execution_count": null,
   "id": "2bf49248",
   "metadata": {
    "ExecuteTime": {
     "end_time": "2023-06-08T17:23:12.869851Z",
     "start_time": "2023-06-08T17:23:12.685229Z"
    }
   },
   "outputs": [],
   "source": [
    "sp.diff(f,x) # x derivative"
   ]
  },
  {
   "cell_type": "code",
   "execution_count": null,
   "id": "9917399b",
   "metadata": {
    "ExecuteTime": {
     "end_time": "2023-06-08T17:23:14.130597Z",
     "start_time": "2023-06-08T17:23:13.934539Z"
    }
   },
   "outputs": [],
   "source": [
    "sp.diff(f,y) # y derivative"
   ]
  },
  {
   "cell_type": "code",
   "execution_count": null,
   "id": "41499a34",
   "metadata": {
    "ExecuteTime": {
     "end_time": "2023-06-08T17:23:15.200111Z",
     "start_time": "2023-06-08T17:23:15.021742Z"
    }
   },
   "outputs": [],
   "source": [
    "sp.diff(f,z) # z derivative"
   ]
  },
  {
   "cell_type": "code",
   "execution_count": null,
   "id": "61341e77",
   "metadata": {
    "ExecuteTime": {
     "end_time": "2023-06-08T17:23:16.300869Z",
     "start_time": "2023-06-08T17:23:16.110611Z"
    }
   },
   "outputs": [],
   "source": [
    "sp.diff(f,x,y) # mixed derivative"
   ]
  },
  {
   "cell_type": "code",
   "execution_count": null,
   "id": "4042f874",
   "metadata": {
    "ExecuteTime": {
     "end_time": "2023-06-08T17:23:17.467011Z",
     "start_time": "2023-06-08T17:23:17.285499Z"
    }
   },
   "outputs": [],
   "source": [
    "sp.diff(f,y,x) # other mixed partial deriv"
   ]
  },
  {
   "cell_type": "markdown",
   "id": "b2c8f92f",
   "metadata": {},
   "source": [
    "**Integration**: Integration is done in a similar fashion using the function integrate(). To simplify$$\\int_{a}^{b} f(x) dx$$ \n",
    "we do integrate($f(x)$, $($x$,$a$, $b$)$)"
   ]
  },
  {
   "cell_type": "code",
   "execution_count": null,
   "id": "c547706d",
   "metadata": {
    "ExecuteTime": {
     "end_time": "2023-06-08T18:11:21.817006Z",
     "start_time": "2023-06-08T18:11:21.632113Z"
    }
   },
   "outputs": [],
   "source": [
    "y=sp.sin(x)\n",
    "sp.integrate(y,(x,0,sp.pi/2))"
   ]
  },
  {
   "cell_type": "code",
   "execution_count": null,
   "id": "dd9211af",
   "metadata": {
    "ExecuteTime": {
     "end_time": "2023-06-08T17:56:27.641271Z",
     "start_time": "2023-06-08T17:56:27.464774Z"
    }
   },
   "outputs": [],
   "source": [
    "sp.integrate(y,x) # indefinite integral"
   ]
  },
  {
   "cell_type": "code",
   "execution_count": null,
   "id": "b5e53375",
   "metadata": {
    "ExecuteTime": {
     "end_time": "2023-06-08T18:11:40.699343Z",
     "start_time": "2023-06-08T18:11:40.247460Z"
    }
   },
   "outputs": [],
   "source": [
    "f=sp.exp(-x**2)\n",
    "sp.integrate(f,(x,-sp.oo,sp.oo)) # oo is the SymPy notation for infinity"
   ]
  },
  {
   "cell_type": "markdown",
   "id": "3638fb3a",
   "metadata": {},
   "source": [
    "Double integration can also be performed e.g.\n",
    "\\begin{equation*}\n",
    "\\int_{-\\infty }^{\\infty }\\int_{-\\infty }^{\\infty }e^{-x^{2}-y^{2}}dxdy\n",
    "\\end{equation*}\n"
   ]
  },
  {
   "cell_type": "code",
   "execution_count": null,
   "id": "78b276d8",
   "metadata": {
    "ExecuteTime": {
     "end_time": "2023-06-08T18:11:54.399378Z",
     "start_time": "2023-06-08T18:11:54.176449Z"
    }
   },
   "outputs": [],
   "source": [
    "x,y=sp.symbols('x y') # need to redefine variables\n",
    "F=sp.exp(-x**2-y**2)\n",
    "sp.integrate(F, (x, -sp.oo, sp.oo), (y, -sp.oo, sp.oo))"
   ]
  },
  {
   "cell_type": "code",
   "execution_count": null,
   "id": "231697cb",
   "metadata": {
    "ExecuteTime": {
     "end_time": "2023-06-08T18:12:08.695133Z",
     "start_time": "2023-06-08T18:12:08.334892Z"
    }
   },
   "outputs": [],
   "source": [
    "import sympy as sp\n",
    "import math as math\n",
    "y=sp.exp(-(x**2))/math.sqrt(2*math.pi)\n",
    "sp.integrate(y,(x,-0.0428571,0.0428571))"
   ]
  },
  {
   "cell_type": "code",
   "execution_count": 26,
   "id": "f0b84567",
   "metadata": {
    "ExecuteTime": {
     "end_time": "2023-06-10T21:16:31.446545Z",
     "start_time": "2023-06-10T21:16:31.256055Z"
    }
   },
   "outputs": [
    {
     "data": {
      "image/png": "[encoded data removed]",
      "text/latex": [
       "$\\displaystyle \\frac{\\log{\\left(x^{2} + 1 \\right)}}{2}$"
      ],
      "text/plain": [
       "   ⎛ 2    ⎞\n",
       "log⎝x  + 1⎠\n",
       "───────────\n",
       "     2     "
      ]
     },
     "execution_count": 26,
     "metadata": {},
     "output_type": "execute_result"
    }
   ],
   "source": [
    "f=(x/(1+x**2))\n",
    "sp.integrate(f,x)"
   ]
  },
  {
   "cell_type": "code",
   "execution_count": 30,
   "id": "d7d6e248",
   "metadata": {
    "ExecuteTime": {
     "end_time": "2023-06-10T21:18:05.440015Z",
     "start_time": "2023-06-10T21:18:05.231222Z"
    }
   },
   "outputs": [
    {
     "data": {
      "image/png": "[encoded data removed]",
      "text/latex": [
       "$\\displaystyle \\frac{e^{x} \\sin{\\left(x \\right)}}{2} + \\frac{e^{x} \\cos{\\left(x \\right)}}{2}$"
      ],
      "text/plain": [
       " x           x       \n",
       "ℯ ⋅sin(x)   ℯ ⋅cos(x)\n",
       "───────── + ─────────\n",
       "    2           2    "
      ]
     },
     "execution_count": 30,
     "metadata": {},
     "output_type": "execute_result"
    }
   ],
   "source": [
    "g=sp.exp(x)*sp.cos(x)\n",
    "sp.integrate(g,x)"
   ]
  },
  {
   "cell_type": "markdown",
   "id": "9b4df15f",
   "metadata": {},
   "source": [
    "# Sympy - Symbolic algebra in Python"
   ]
  },
  {
   "cell_type": "markdown",
   "id": "a7dfdd76",
   "metadata": {
    "collapsed": true
   },
   "source": [
    "## Introduction\n",
    "If we think of algebra we are thinking of symbolic computation. **Symbolic computation** deals with the computation of mathematical objects symbolically, i.e. mathematical objects are represented exactly, not approximately, and mathematical expressions with unevaluated variables are left in symbolic form.\n",
    "\n",
    "Let’s take an example. Say we wanted to use the built-in Python functions to compute square roots. Using the maths library\n",
    "$\\sqrt{8}=2.828427124746190097$. If we perform the same computation symbolically we have $\\sqrt{8}=2\\sqrt{2}$\n",
    "\n",
    "\n",
    "Sympy is one of two Computer Algebra Systems (CAS) for Python. Its focus is on code simplicity while becoming a complete symbolic algebra package. To get started import the module sympy. Recall the difference between a closed form solution and numerical one. "
   ]
  },
  {
   "cell_type": "code",
   "execution_count": null,
   "id": "efb03a03",
   "metadata": {
    "ExecuteTime": {
     "end_time": "2023-02-27T21:01:38.308124Z",
     "start_time": "2023-02-27T21:01:38.295155Z"
    }
   },
   "outputs": [],
   "source": [
    "import sympy as sp\n",
    "# or we can do import with from sympy import *"
   ]
  },
  {
   "cell_type": "markdown",
   "id": "9fab08a4",
   "metadata": {},
   "source": [
    "We can produce very nice LATEX formatted output using the **init_printing()** function. However we do need to import a function **symbol**. Let's start with something really basic. Suppose we want to simplify $(2x+1)(x-1)$"
   ]
  },
  {
   "cell_type": "code",
   "execution_count": null,
   "id": "ddfcc4db",
   "metadata": {
    "ExecuteTime": {
     "end_time": "2023-02-27T21:01:38.323109Z",
     "start_time": "2023-02-27T21:01:38.310114Z"
    }
   },
   "outputs": [],
   "source": [
    "from sympy import init_printing\n",
    "init_printing()\n",
    "from sympy import init_session"
   ]
  },
  {
   "cell_type": "markdown",
   "id": "58d3b4d1",
   "metadata": {},
   "source": [
    "Here's a basic maths problem in surds. Simplify $\\sqrt{96} + \\sqrt{24} $"
   ]
  },
  {
   "cell_type": "code",
   "execution_count": null,
   "id": "029f8dba",
   "metadata": {
    "ExecuteTime": {
     "end_time": "2023-06-08T18:14:05.588901Z",
     "start_time": "2023-06-08T18:14:05.414659Z"
    }
   },
   "outputs": [],
   "source": [
    "sp.sqrt(96)+sp.sqrt(24)"
   ]
  },
  {
   "cell_type": "markdown",
   "id": "75154a0e",
   "metadata": {},
   "source": [
    "What makes this module powerful is the algebraic manipulation it performs. Let's stay with the previous expression and expand it using the **expand()** function"
   ]
  },
  {
   "cell_type": "markdown",
   "id": "10c300f3",
   "metadata": {},
   "source": [
    "Here's an interesting example"
   ]
  },
  {
   "cell_type": "code",
   "execution_count": null,
   "id": "d1e350a9",
   "metadata": {
    "ExecuteTime": {
     "end_time": "2023-06-08T18:15:05.184960Z",
     "start_time": "2023-06-08T18:15:05.006661Z"
    }
   },
   "outputs": [],
   "source": [
    "expression1 = (x-1)**2\n",
    "expression2=expression1-1+3*x\n",
    "expression2"
   ]
  },
  {
   "cell_type": "code",
   "execution_count": null,
   "id": "dd098a4b",
   "metadata": {
    "ExecuteTime": {
     "end_time": "2023-06-08T18:15:16.037262Z",
     "start_time": "2023-06-08T18:15:16.031254Z"
    }
   },
   "outputs": [],
   "source": [
    "type(expression2)"
   ]
  },
  {
   "cell_type": "code",
   "execution_count": null,
   "id": "211693ba",
   "metadata": {
    "ExecuteTime": {
     "end_time": "2023-06-08T18:15:38.662677Z",
     "start_time": "2023-06-08T18:15:38.470191Z"
    }
   },
   "outputs": [],
   "source": [
    "sp.simplify(expression2)"
   ]
  },
  {
   "cell_type": "markdown",
   "id": "8e0f4332",
   "metadata": {},
   "source": [
    "simplify and expand perform different operations"
   ]
  },
  {
   "cell_type": "code",
   "execution_count": null,
   "id": "44d950e1",
   "metadata": {
    "ExecuteTime": {
     "end_time": "2023-06-08T18:16:08.864461Z",
     "start_time": "2023-06-08T18:16:08.702262Z"
    }
   },
   "outputs": [],
   "source": [
    "sp.expand(expression2)"
   ]
  },
  {
   "cell_type": "code",
   "execution_count": null,
   "id": "65b6b942",
   "metadata": {
    "ExecuteTime": {
     "end_time": "2023-06-08T18:16:17.496799Z",
     "start_time": "2023-06-08T18:16:17.479845Z"
    }
   },
   "outputs": [],
   "source": [
    "%%latex\n",
    "$$\\lim_{n\\to +\\infty}x(n)$$\n"
   ]
  },
  {
   "cell_type": "markdown",
   "id": "d2a55c06",
   "metadata": {},
   "source": [
    "An alternative way to defining symbols is"
   ]
  },
  {
   "cell_type": "markdown",
   "id": "fdd029ea",
   "metadata": {},
   "source": [
    "## Solvers"
   ]
  },
  {
   "cell_type": "markdown",
   "id": "510dc672",
   "metadata": {},
   "source": [
    "Many equations can be solved using SymPy solvers. This includes algebraic equations and differential equations. The built-in function **solve()** is a general routine/module which performs numerous powerful and rather kool computations. \n",
    "\n",
    "Currently the following can be solved:\n",
    "\n",
    "* polynomial\n",
    "\n",
    "* transcendental (circular and exponential) \n",
    "\n",
    "* piecewise combinations of the above\n",
    "\n",
    "* linear systems \n",
    "\n",
    "* systems of polynomial equations\n",
    "\n",
    "* systems containing relational expressions, i.e. $f(x)>0$\n",
    "\n",
    "\n",
    "Start by importing solve, or use sp.solve"
   ]
  },
  {
   "cell_type": "code",
   "execution_count": null,
   "id": "b17f5560",
   "metadata": {
    "ExecuteTime": {
     "end_time": "2023-06-08T18:29:14.248332Z",
     "start_time": "2023-06-08T18:29:14.238331Z"
    }
   },
   "outputs": [],
   "source": [
    "from sympy import solve"
   ]
  },
  {
   "cell_type": "code",
   "execution_count": null,
   "id": "a9bbdee9",
   "metadata": {
    "ExecuteTime": {
     "end_time": "2023-06-08T18:29:17.780044Z",
     "start_time": "2023-06-08T18:29:17.589123Z"
    }
   },
   "outputs": [],
   "source": [
    "sp.solve(x<=3) # here the sp. is not required"
   ]
  },
  {
   "cell_type": "markdown",
   "id": "f1b94839",
   "metadata": {},
   "source": [
    "The $ \\wedge$ means **and**. We can also write the solution in maths as $x \\in (-\\infty, 3]$. <br>\n",
    "$ \\vee$ means **joins**. "
   ]
  },
  {
   "cell_type": "code",
   "execution_count": null,
   "id": "34321988",
   "metadata": {
    "ExecuteTime": {
     "end_time": "2023-06-08T18:30:11.982004Z",
     "start_time": "2023-06-08T18:30:11.780952Z"
    }
   },
   "outputs": [],
   "source": [
    "sp.solve(x**2 + 3*x + 2 > 0)"
   ]
  },
  {
   "cell_type": "markdown",
   "id": "5b1d88e2",
   "metadata": {},
   "source": [
    "At school we would have expressed the above solution mathematically as $x<-2 \\cup x>-1$."
   ]
  },
  {
   "cell_type": "markdown",
   "id": "6743207f",
   "metadata": {},
   "source": [
    "A slightly more exacting example involving absolute values $|x+2|\\leq 3$ can be solved a follows"
   ]
  },
  {
   "cell_type": "code",
   "execution_count": null,
   "id": "1d9bc8eb",
   "metadata": {
    "ExecuteTime": {
     "end_time": "2023-06-08T18:32:50.556051Z",
     "start_time": "2023-06-08T18:32:50.357655Z"
    }
   },
   "outputs": [],
   "source": [
    "sp.solve(sp.Abs(x+2)<=3)"
   ]
  },
  {
   "cell_type": "code",
   "execution_count": null,
   "id": "3c004c55",
   "metadata": {
    "ExecuteTime": {
     "end_time": "2023-06-08T18:33:02.536763Z",
     "start_time": "2023-06-08T18:33:02.324329Z"
    }
   },
   "outputs": [],
   "source": [
    "sp.solve(sp.Abs(x+2)<=sp.Abs(x+1))"
   ]
  },
  {
   "cell_type": "markdown",
   "id": "b8cdb319",
   "metadata": {},
   "source": [
    "### Root finding"
   ]
  },
  {
   "cell_type": "markdown",
   "id": "bc75f3bc",
   "metadata": {},
   "source": [
    "Let's start by looking at some root finding problems in SymPy, i.e. algebraic functions. <br> As a first example consider $x^4 - 10x^3 + 21x^2 + 40x - 100 = 0.$"
   ]
  },
  {
   "cell_type": "code",
   "execution_count": null,
   "id": "d4b0f14d",
   "metadata": {
    "ExecuteTime": {
     "end_time": "2023-06-08T19:35:48.827874Z",
     "start_time": "2023-06-08T19:35:48.645481Z"
    }
   },
   "outputs": [],
   "source": [
    "sp.solveset(x ** 4 -10*x**3+21*x**2+40*x-100, x)"
   ]
  },
  {
   "cell_type": "markdown",
   "id": "c27af364",
   "metadata": {},
   "source": [
    "Next the classic starting point for studying complex numbers, solving $x^2+1=0$."
   ]
  },
  {
   "cell_type": "code",
   "execution_count": null,
   "id": "b28370e6",
   "metadata": {
    "ExecuteTime": {
     "end_time": "2023-06-08T19:35:52.550811Z",
     "start_time": "2023-06-08T19:35:52.382560Z"
    }
   },
   "outputs": [],
   "source": [
    "sp.solveset(x ** 2 +1, x)"
   ]
  },
  {
   "cell_type": "markdown",
   "id": "59c20950",
   "metadata": {},
   "source": [
    "We can create a new data type by assigning the solutions to a variable. Consider the problem above"
   ]
  },
  {
   "cell_type": "code",
   "execution_count": null,
   "id": "28414a19",
   "metadata": {
    "ExecuteTime": {
     "end_time": "2023-06-08T19:34:24.930721Z",
     "start_time": "2023-06-08T19:34:24.687853Z"
    }
   },
   "outputs": [],
   "source": [
    "import sympy as sp\n",
    "sp.solveset(x ** 3 -57.004*x**2+173.534*x-134.24-x, x)"
   ]
  },
  {
   "cell_type": "code",
   "execution_count": null,
   "id": "5947257f",
   "metadata": {
    "ExecuteTime": {
     "end_time": "2023-06-08T19:33:54.693488Z",
     "start_time": "2023-06-08T19:33:54.495845Z"
    }
   },
   "outputs": [],
   "source": [
    "sp.solveset(sp.cos(x)-1,x)"
   ]
  },
  {
   "cell_type": "code",
   "execution_count": null,
   "id": "d58eb590",
   "metadata": {
    "ExecuteTime": {
     "end_time": "2023-06-08T19:36:34.840046Z",
     "start_time": "2023-06-08T19:36:34.662919Z"
    }
   },
   "outputs": [],
   "source": [
    "from sympy.solvers import solve\n",
    "from sympy import Symbol\n",
    "x = Symbol('x')\n",
    "solve(x**2 - 7*x-30, x)"
   ]
  },
  {
   "cell_type": "markdown",
   "id": "fe4754bd",
   "metadata": {},
   "source": [
    "## Limits\n",
    "SymPy can manipulate limits \n",
    "$$\\lim_{x\\to 3}x^2+2x+2$$"
   ]
  },
  {
   "cell_type": "code",
   "execution_count": null,
   "id": "873dce9f",
   "metadata": {
    "ExecuteTime": {
     "end_time": "2023-06-08T19:37:19.214693Z",
     "start_time": "2023-06-08T19:37:19.037719Z"
    }
   },
   "outputs": [],
   "source": [
    "sp.limit(x**2+2*x+2, x, 3)"
   ]
  },
  {
   "cell_type": "markdown",
   "id": "6b8b782d",
   "metadata": {},
   "source": [
    "Does it handle indeterminate forms? Consider $$\\lim_{x\\to 3}\\frac{x^2-9}{x-3}$$"
   ]
  },
  {
   "cell_type": "code",
   "execution_count": null,
   "id": "38080d74",
   "metadata": {
    "ExecuteTime": {
     "end_time": "2023-06-08T19:37:25.591137Z",
     "start_time": "2023-06-08T19:37:25.405379Z"
    }
   },
   "outputs": [],
   "source": [
    "sp.limit((x**2-9)/(x-3), x, 3)"
   ]
  },
  {
   "cell_type": "markdown",
   "id": "bac0150b",
   "metadata": {},
   "source": [
    "Here's the classic problem $$\\lim_{x\\to 0}\\frac{\\sin{x}}{x}\\longrightarrow 1$$"
   ]
  },
  {
   "cell_type": "code",
   "execution_count": null,
   "id": "001d98b4",
   "metadata": {
    "ExecuteTime": {
     "end_time": "2023-06-08T19:37:33.217785Z",
     "start_time": "2023-06-08T19:37:33.044390Z"
    }
   },
   "outputs": [],
   "source": [
    "sp.limit((sp.sin(x))/x, x, 0)"
   ]
  },
  {
   "cell_type": "code",
   "execution_count": null,
   "id": "25196540",
   "metadata": {
    "ExecuteTime": {
     "end_time": "2023-06-08T19:38:05.826360Z",
     "start_time": "2023-06-08T19:38:05.597110Z"
    }
   },
   "outputs": [],
   "source": [
    "sp.limit((sp.log(x))*sp.exp(-3*x), x, sp.oo)"
   ]
  },
  {
   "cell_type": "markdown",
   "id": "211cbbff",
   "metadata": {},
   "source": [
    "## Complex numbers"
   ]
  },
  {
   "cell_type": "code",
   "execution_count": 9,
   "id": "c984ba9e",
   "metadata": {
    "ExecuteTime": {
     "end_time": "2023-06-10T21:02:53.392674Z",
     "start_time": "2023-06-10T21:02:53.383699Z"
    }
   },
   "outputs": [],
   "source": [
    "from sympy import I, sqrt"
   ]
  },
  {
   "cell_type": "code",
   "execution_count": 10,
   "id": "3ee95dde",
   "metadata": {
    "ExecuteTime": {
     "end_time": "2023-06-10T21:02:54.289535Z",
     "start_time": "2023-06-10T21:02:54.280624Z"
    }
   },
   "outputs": [
    {
     "data": {
      "text/latex": [
       "$\\displaystyle \\frac{\\pi}{4}$"
      ],
      "text/plain": [
       "pi/4"
      ]
     },
     "execution_count": 10,
     "metadata": {},
     "output_type": "execute_result"
    }
   ],
   "source": [
    "sp.arg(1+I)"
   ]
  },
  {
   "cell_type": "code",
   "execution_count": 11,
   "id": "dc8a2aab",
   "metadata": {
    "ExecuteTime": {
     "end_time": "2023-06-10T21:02:55.051315Z",
     "start_time": "2023-06-10T21:02:55.033332Z"
    }
   },
   "outputs": [
    {
     "data": {
      "text/latex": [
       "$\\displaystyle \\operatorname{atan}{\\left(\\frac{3}{4} \\right)}$"
      ],
      "text/plain": [
       "atan(3/4)"
      ]
     },
     "execution_count": 11,
     "metadata": {},
     "output_type": "execute_result"
    }
   ],
   "source": [
    "sp.arg(4+3*sp.I)"
   ]
  },
  {
   "cell_type": "code",
   "execution_count": null,
   "id": "40e7ef8a",
   "metadata": {
    "ExecuteTime": {
     "end_time": "2023-06-10T19:14:20.324470Z",
     "start_time": "2023-06-10T19:14:20.307519Z"
    }
   },
   "outputs": [],
   "source": [
    "from sympy import *"
   ]
  },
  {
   "cell_type": "code",
   "execution_count": 12,
   "id": "08087acc",
   "metadata": {
    "ExecuteTime": {
     "end_time": "2023-06-10T21:03:00.255046Z",
     "start_time": "2023-06-10T21:03:00.233074Z"
    }
   },
   "outputs": [
    {
     "data": {
      "text/latex": [
       "$\\displaystyle \\frac{\\pi}{4}$"
      ],
      "text/plain": [
       "pi/4"
      ]
     },
     "execution_count": 12,
     "metadata": {},
     "output_type": "execute_result"
    }
   ],
   "source": [
    "sp.arg(sqrt(2) + I*sqrt(2))"
   ]
  },
  {
   "cell_type": "code",
   "execution_count": 16,
   "id": "cc4ee64f",
   "metadata": {
    "ExecuteTime": {
     "end_time": "2023-06-10T21:03:34.751464Z",
     "start_time": "2023-06-10T21:03:34.713201Z"
    }
   },
   "outputs": [
    {
     "data": {
      "text/latex": [
       "$\\displaystyle \\sqrt{2} \\cdot \\left(1 + i\\right)$"
      ],
      "text/plain": [
       "sqrt(2)*(1 + I)"
      ]
     },
     "execution_count": 16,
     "metadata": {},
     "output_type": "execute_result"
    }
   ],
   "source": [
    "sp.simplify(sqrt(2) + I*sqrt(2))"
   ]
  },
  {
   "cell_type": "code",
   "execution_count": 17,
   "id": "a317f1af",
   "metadata": {
    "ExecuteTime": {
     "end_time": "2023-06-10T21:03:43.185538Z",
     "start_time": "2023-06-10T21:03:43.176564Z"
    }
   },
   "outputs": [
    {
     "data": {
      "text/latex": [
       "$\\displaystyle \\sqrt{i}$"
      ],
      "text/plain": [
       "sqrt(I)"
      ]
     },
     "execution_count": 17,
     "metadata": {},
     "output_type": "execute_result"
    }
   ],
   "source": [
    "sqrt(I)"
   ]
  },
  {
   "cell_type": "code",
   "execution_count": 19,
   "id": "ff267e70",
   "metadata": {
    "ExecuteTime": {
     "end_time": "2023-06-10T21:04:18.663821Z",
     "start_time": "2023-06-10T21:04:18.646871Z"
    }
   },
   "outputs": [
    {
     "data": {
      "text/latex": [
       "$\\displaystyle 5$"
      ],
      "text/plain": [
       "5"
      ]
     },
     "execution_count": 19,
     "metadata": {},
     "output_type": "execute_result"
    }
   ],
   "source": [
    "abs(3+4*I)"
   ]
  }
 ],
 "metadata": {
  "kernelspec": {
   "display_name": "Python 3 (ipykernel)",
   "language": "python",
   "name": "python3"
  },
  "language_info": {
   "codemirror_mode": {
    "name": "ipython",
    "version": 3
   },
   "file_extension": ".py",
   "mimetype": "text/x-python",
   "name": "python",
   "nbconvert_exporter": "python",
   "pygments_lexer": "ipython3",
   "version": "3.8.8"
  },
  "latex_envs": {
   "LaTeX_envs_menu_present": true,
   "autoclose": false,
   "autocomplete": true,
   "bibliofile": "biblio.bib",
   "cite_by": "apalike",
   "current_citInitial": 1,
   "eqLabelWithNumbers": true,
   "eqNumInitial": 1,
   "hotkeys": {
    "equation": "Ctrl-E",
    "itemize": "Ctrl-I"
   },
   "labels_anchors": false,
   "latex_user_defs": false,
   "report_style_numbering": false,
   "user_envs_cfg": false
  },
  "toc": {
   "base_numbering": 1,
   "nav_menu": {},
   "number_sections": true,
   "sideBar": true,
   "skip_h1_title": false,
   "title_cell": "Table of Contents",
   "title_sidebar": "Contents",
   "toc_cell": false,
   "toc_position": {},
   "toc_section_display": true,
   "toc_window_display": true
  },
  "varInspector": {
   "cols": {
    "lenName": 16,
    "lenType": 16,
    "lenVar": 40
   },
   "kernels_config": {
    "python": {
     "delete_cmd_postfix": "",
     "delete_cmd_prefix": "del ",
     "library": "var_list.py",
     "varRefreshCmd": "print(var_dic_list())"
    },
    "r": {
     "delete_cmd_postfix": ") ",
     "delete_cmd_prefix": "rm(",
     "library": "var_list.r",
     "varRefreshCmd": "cat(var_dic_list()) "
    }
   },
   "types_to_exclude": [
    "module",
    "function",
    "builtin_function_or_method",
    "instance",
    "_Feature"
   ],
   "window_display": false
  }
 },
 "nbformat": 4,
 "nbformat_minor": 5
}
