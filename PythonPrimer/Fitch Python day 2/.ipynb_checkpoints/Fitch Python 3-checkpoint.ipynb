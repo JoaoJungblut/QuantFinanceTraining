{
 "cells": [
  {
   "cell_type": "markdown",
   "metadata": {},
   "source": [
    "<br> <font color = red size=6> Markdown Reports - The wonderful world of text formatting</font> "
   ]
  },
  {
   "cell_type": "markdown",
   "metadata": {},
   "source": [
    "Here we discuss Markdown in the Jupyter notebook. We note there are two types of cells above - Markdown and Code. The other two are less frequently used. Markdown is a smart and easy to use mark-up language for formatting text. \n",
    "\n",
    "Markdown is a syntax (a type of programming language) that allows you to incorporate rich text elements (like in a MS Word document) into plain text documents.\n",
    "\n",
    "It is similar to HTML (Hypertext Markup Language) which is made of Markup tags which consist of the opening tag <...> and closing tag as </...>. We will explore both formats. Markdown is a superset of HTML.\n",
    "\n",
    "There is a huge amount of material and tutorials online to get you started. The result is visually stunning formatted output! Double click on a cell in this notebook to see the markdown content.\n",
    "\n",
    "There is also a cheat sheet at https://github.com/adam-p/markdown-here/wiki/Markdown-Cheatsheet\n",
    "\n",
    "In the first cell it is useful to see how font size and colour can be controlled.\n",
    "\n",
    "Let's start with the different types of headings"
   ]
  },
  {
   "cell_type": "markdown",
   "metadata": {},
   "source": [
    "**The general advantages of using Markdown:**\n",
    "* Keeps you focused on the task at hand, which is to write! - one avoids the distraction of formatting. In MS word it's easy to be more concerned with formatting i.e. do the margins look right?; which font is best?; bold or italic?. \n",
    "* One write-up works for multiple formats - can export to many mediums, e.g. HTML, pdf or even word!\n",
    "* This is the big one - it's future proof. Plain text is the same as it was years ago and will remain the same for decades to come.\n",
    "* Synchronising between devices is simple - due to its small size. Also easy for many programs to read. So start on your PC, continue working on your iPhone or iPad (sorry couldn't resist the apple plug!!)\n",
    "* Makes collaborating easy - doesn't matter what platform members are using - just like Jupyter notebook!"
   ]
  },
  {
   "cell_type": "markdown",
   "metadata": {},
   "source": [
    "# Headings - First Header\n",
    "\n",
    "<!--  Here is a single line comment --> \n",
    "\n",
    "<!--- Note the space between the octothorp and heading --->"
   ]
  },
  {
   "cell_type": "markdown",
   "metadata": {},
   "source": [
    "## Subsection"
   ]
  },
  {
   "cell_type": "markdown",
   "metadata": {},
   "source": [
    "### Sub-sub-heading"
   ]
  },
  {
   "cell_type": "markdown",
   "metadata": {},
   "source": [
    "#### and so on"
   ]
  },
  {
   "cell_type": "markdown",
   "metadata": {},
   "source": [
    "What about other header formats that work in Markdown?"
   ]
  },
  {
   "cell_type": "markdown",
   "metadata": {},
   "source": [
    "<h1> Here is a Section Heading using HTML </h1>"
   ]
  },
  {
   "cell_type": "markdown",
   "metadata": {},
   "source": [
    "Note how this continues from the previous numbering"
   ]
  },
  {
   "cell_type": "markdown",
   "metadata": {},
   "source": [
    "Headers for subsections, subsubsections are also available\n",
    "<h2> Subsection <h2>\n",
    "    <h3> Subsubsection <h3> \n",
    "        <h4> and so on .. <h4>\n",
    "            \n",
    "<!--- Note the automatic indenting above --->"
   ]
  },
  {
   "cell_type": "markdown",
   "metadata": {
    "collapsed": true
   },
   "source": [
    "# Managing fonts"
   ]
  },
  {
   "cell_type": "markdown",
   "metadata": {},
   "source": [
    "## Bold"
   ]
  },
  {
   "cell_type": "markdown",
   "metadata": {},
   "source": [
    "A bold font is placed between a pair of double asterisks, i.e. **Remember to select Markdown mode in the cell above!**"
   ]
  },
  {
   "cell_type": "markdown",
   "metadata": {},
   "source": [
    "Also use a pair of underscores to open and close, i.e. __ __\n",
    "__Remember to select Markdown mode in the cell above!__"
   ]
  },
  {
   "cell_type": "markdown",
   "metadata": {},
   "source": [
    "<strong>Here's another way to produce bold font using a tag.</strong>\n",
    "\n",
    "That is &lt;strong&gt; element\n",
    "\n",
    "<!-- how to convert to bold font using a tag -->"
   ]
  },
  {
   "cell_type": "markdown",
   "metadata": {},
   "source": [
    "The italic font can be invoked by placing text inside a pair of single asterisks *Caligraphy can be fun.*"
   ]
  },
  {
   "cell_type": "markdown",
   "metadata": {},
   "source": [
    "## Italic"
   ]
  },
  {
   "cell_type": "markdown",
   "metadata": {},
   "source": [
    "For italics, put the text between a single underscore symbol with no spaces, e.g. _use underscores either side_ <br> \n",
    "Or like bold font, but use single asterisk - *look at this* <br>\n",
    "\n",
    "<p>You can have <em>emphasized</em> text using the &lt;em&gt; element. </p>\n",
    "<em> we also use the emphasized tag</em>."
   ]
  },
  {
   "cell_type": "markdown",
   "metadata": {},
   "source": [
    "## Underline"
   ]
  },
  {
   "cell_type": "markdown",
   "metadata": {},
   "source": [
    "Text cannot be underlined in Markdown, however using the &lt;u&gt; tags in HTML allows this. Here is an example.<p>\n",
    "<u>One cannot stress enough the importance of technology<u>    "
   ]
  },
  {
   "cell_type": "markdown",
   "metadata": {},
   "source": [
    "## Combining styles"
   ]
  },
  {
   "cell_type": "markdown",
   "metadata": {},
   "source": [
    "Suppose we wish to make bold our emphasised text. Use an opening and closing triple of asterisks, i.e. maths is ***great***"
   ]
  },
  {
   "cell_type": "markdown",
   "metadata": {},
   "source": [
    "The function \\_version\\_ is embedded in a pair of backslashes. If we want to make it bold then use earlier syntax with a pair of asterisks **\\_version\\_**"
   ]
  },
  {
   "cell_type": "markdown",
   "metadata": {},
   "source": [
    "# Paragraphs"
   ]
  },
  {
   "cell_type": "markdown",
   "metadata": {},
   "source": [
    "<p> I switched on the TV late one night and found two men arguing. The slightly younger looking of the two was getting very personal about the son of the other chap. Later I found out the vicious one was in fact the leader of the apparent and self-appointed 'free world'! </p> <p> I later came to know that this was in fact meant to resemble a civilised debate, as opposed to a slanging match in the wild west. But it reminded me of growing up in a Brent comprehensive secondary school, and watching two teenagers in the playground cussing each others parents.<p> <p> I suspect while great strides and changes have been made in all areas of human endeavour, this is one human attribute that remains unchanged.<p> <p> Would you Adam and Eve it??</p>\n",
    "   \n",
    "<!-- Note how all text can be one continuous paragraph without any breaks -->"
   ]
  },
  {
   "cell_type": "markdown",
   "metadata": {},
   "source": [
    "**br** placed in **<>** produces a line break. A soft line break is two or more spaces followed by enter"
   ]
  },
  {
   "cell_type": "markdown",
   "metadata": {},
   "source": [
    "<p>You can have <em>emphasized</em> text using the &lt;em&gt; element. </p>"
   ]
  },
  {
   "cell_type": "markdown",
   "metadata": {},
   "source": [
    "# Lists\n",
    "\n",
    "We can create a number of list formats - bullet, numbered, sub-lists"
   ]
  },
  {
   "cell_type": "markdown",
   "metadata": {},
   "source": [
    "## Bullet points"
   ]
  },
  {
   "cell_type": "markdown",
   "metadata": {},
   "source": [
    "We use an asterisk at the start of each line. Why Jupyter?\n",
    "* It is open source\n",
    "* Very easy to use\n",
    "* stunning visuals"
   ]
  },
  {
   "cell_type": "markdown",
   "metadata": {},
   "source": [
    "We can also have sub-bullet points by simply pressing tab in the above. What are the libraries available to us in python?\n",
    "* Mathematics - notice the bullet is shaded circular\n",
    "    * Math\n",
    "    * NumPy\n",
    "    * SciPy  \n",
    "    * the sub-bullet is shaded square\n",
    "* Machine Learning\n",
    "    * scikit-learn\n",
    "    * matplotlib\n",
    "    * TensorFlow\n",
    "        * The subsub-bullet is a transparent circle\n",
    "            \n",
    "These are standard built-in simple designs. Note the space between the asterisk and text\n",
    "* L 1\n",
    "    * L 2\n",
    "        * L 3\n",
    "            * L 4\n",
    "                * L 5\n",
    "        "
   ]
  },
  {
   "cell_type": "markdown",
   "metadata": {},
   "source": [
    "## Numbered List\n",
    "In Markdown having a numbered list is just as easy. There are two simple ways to do this. Here's my Asda shopping:\n",
    "1. Milk\n",
    "2. Bread\n",
    "3. Eggs\n",
    "4. Bananas \n",
    "5. Cod liver oil capsules\n"
   ]
  },
  {
   "cell_type": "markdown",
   "metadata": {},
   "source": [
    "Here's an even simpler method where we don't have to create the numbers sequentially. This is what we need from Sainsbury's:\n",
    "1. Royal Gala Apples\n",
    "1. Biscuits\n",
    "1. Fish fingers"
   ]
  },
  {
   "cell_type": "markdown",
   "metadata": {},
   "source": [
    "So we simply start at 1. and repeat, Markdown automatically increments the first number by one."
   ]
  },
  {
   "cell_type": "markdown",
   "metadata": {},
   "source": [
    "A third way is to start at 1. and then use asterisks. My Iceland shopping list can be used to demonstrate this:\n",
    "1. Frozen section\n",
    "* Ice cream (surprise surprise!)\n",
    "* Coleslaw and potato salad\n",
    "* Battered and breaded haddock"
   ]
  },
  {
   "cell_type": "markdown",
   "metadata": {},
   "source": [
    "## Heterogeneous Lists\n",
    "It's not difficult to combine the two, i.e. a numbered list which nests bullet points\n",
    "1. Here is L 1\n",
    "    * Simply place an asterisk at the start of line 2 and press tab\n",
    "    * Keep going\n",
    "    * And on\n",
    "1. Now g back to L1 and type 2.\n",
    "1. You get the picture!\n"
   ]
  },
  {
   "cell_type": "markdown",
   "metadata": {},
   "source": [
    "# Lines\n",
    "We can easily divide text or graphs with lines by placing a sequence of 3 asterisks (no spaces) in a cell. We'll put this in the next cell and then run "
   ]
  },
  {
   "cell_type": "markdown",
   "metadata": {},
   "source": [
    "***\n",
    "<!--- Run this cell --->"
   ]
  },
  {
   "cell_type": "markdown",
   "metadata": {},
   "source": [
    "We have created a separating line between the two lines of text. "
   ]
  },
  {
   "cell_type": "markdown",
   "metadata": {},
   "source": [
    "# Highlighted Text"
   ]
  },
  {
   "cell_type": "markdown",
   "metadata": {},
   "source": [
    "There are a couple of ways of highlighting selected text. One way is to use the tag &lt;mark&gt; and surround the required text to form an element."
   ]
  },
  {
   "cell_type": "markdown",
   "metadata": {},
   "source": [
    "**Shortcuts** Jupyter has plenty of shortcuts to save time:\n",
    "\n",
    "<mark>Shift + Enter</mark>: Run current cell and take cursor to the next one\n",
    "\n",
    "<mark>Ctrl + Enter</mark>: Run current cell\n",
    "\n",
    "<mark>Alt + Enter</mark>: Run current cell and insert new cell below"
   ]
  },
  {
   "cell_type": "markdown",
   "metadata": {},
   "source": [
    "Method 2 for producing the above is to use the small acute accent or angled single speech mark found on the left hand side of the keyboard above the tab key (where the numerical keys start). The proper name is *backtick*. Here's the above repeated:\n"
   ]
  },
  {
   "cell_type": "markdown",
   "metadata": {},
   "source": [
    "`Shift + Enter`: Run current cell and take cursor to the next one\n",
    "\n",
    "`Ctrl + Enter`: Run current cell\n"
   ]
  },
  {
   "cell_type": "markdown",
   "metadata": {},
   "source": [
    "# Embedded code"
   ]
  },
  {
   "cell_type": "markdown",
   "metadata": {},
   "source": [
    "We format text in Markdown mode; while Python syntax for executing is done by selecting code in the cell above. But what if you simply wish to illustrate your Python code rather than run it? The use of multiple backticks achieves such output. The following is in code "
   ]
  },
  {
   "cell_type": "code",
   "execution_count": 9,
   "metadata": {
    "ExecuteTime": {
     "end_time": "2023-06-08T00:26:17.198725Z",
     "start_time": "2023-06-08T00:26:17.179776Z"
    }
   },
   "outputs": [],
   "source": [
    "import math as math\n",
    "def function(x):\n",
    "    y=math.exp(x)+math.sin(x)\n",
    "    return y"
   ]
  },
  {
   "cell_type": "markdown",
   "metadata": {},
   "source": [
    "We are going to embed this in our report so it looks exactly the same"
   ]
  },
  {
   "cell_type": "markdown",
   "metadata": {},
   "source": [
    "```python\n",
    "\n",
    "import math as math\n",
    "def function(x):\n",
    "    y=math.exp(x)+math.sin(x)\n",
    "    return y\n",
    "\n",
    "```"
   ]
  },
  {
   "cell_type": "markdown",
   "metadata": {},
   "source": [
    "Here's another example"
   ]
  },
  {
   "cell_type": "markdown",
   "metadata": {},
   "source": [
    "```python\n",
    "\n",
    "print \"Hello mum\"\n",
    "\n",
    "```\n",
    "\n",
    "```javascript\n",
    "\n",
    "console.log(\"Hello dad)\n",
    "            \n",
    "```"
   ]
  },
  {
   "cell_type": "markdown",
   "metadata": {},
   "source": [
    "# Latex"
   ]
  },
  {
   "cell_type": "markdown",
   "metadata": {},
   "source": [
    "## Example\n",
    "\n",
    "What about applying some of these methods to Monte Carlo approximation of integrals? Consider the following motivating example: \n",
    "\n",
    "Estimate $\\theta =\\mathbb{E}\\left[ e^{U^{2}}\\right] ,$\n",
    "where $U\\sim U\\left( 0,1\\right) .$\n",
    "\n",
    "We note that $\\mathbb{E}\\left[ e^{U^{2}}\\right] $ can be expressed in\n",
    "integral form, i.e.\n",
    "\\begin{equation*}\n",
    "\\mathbb{E}\\left[ e^{U^{2}}\\right] =\\int\\nolimits_{0}^{1}e^{x^{2}}p\\left(\n",
    "x\\right) dx\n",
    "\\end{equation*}\n",
    "where $p\\left( x\\right) $ is the density function of a $U\\left( 0,1\\right) $\n",
    "\\begin{equation*}\n",
    "p\\left( x\\right) =\\left\\{ \n",
    "\\begin{array}{c}\n",
    "1 \\\\ \n",
    "0\n",
    "\\end{array}\n",
    "\\begin{array}{c}\n",
    "0<x<1 \\\\ \n",
    "\\text{otherwise}\n",
    "\\end{array}\n",
    "\\right.\n",
    "\\end{equation*}\n",
    "hence\n",
    "\\begin{equation*}\n",
    "\\mathbb{E}\\left[ e^{U^{2}}\\right] =\\int\\nolimits_{0}^{1}e^{x^{2}}dx.\n",
    "\\end{equation*}\n",
    "This integral does not have an analytical solution. The theme of Monte Carlo integration is to consider solving numerically, using simulations. We use the Monte Carlo simulation procedures:\n",
    "\n",
    "* Generate a sequence $U_{1},U_{2},...,U_{n}\\sim U\\left( 0,1\\right) $ where $U_{i}$ are i.i.d (independent and identically distributed)\n",
    "\n",
    "* Compute $Y_{i}=e^{U_{i}^{2}}$ $\\left( i=1,...,n\\right) $\n",
    "\n",
    "* Estimate $\\theta $ by\n",
    "\\begin{eqnarray*}\n",
    "\\widehat{\\theta }_{n} &\\equiv &\\frac{1}{n}\\underset{i=1}{\\overset{n}{\\sum }}\n",
    "Y_{i} \\\\\n",
    "&=&\\frac{1}{n}\\underset{i=1}{\\overset{n}{\\sum }}e^{U_{i}^{2}}\n",
    "\\end{eqnarray*}\n",
    "i.e. use the sample mean of the $e^{U_{i}^{2}}$ terms.\n",
    "\n",
    "\n",
    "Suppose $f\\left( \\cdot \\right) $ is some function such that $f:\\left[ 0,1\n",
    "\\right] \\rightarrow \\mathbb{R}.$ The basic problem is to evaluate the\n",
    "integral\n",
    "\n",
    "$$I=\\int\\nolimits_{0}^{1}f\\left( x\\right) dx$$\n",
    "Consider e.g. the earlier problem $f\\left( x\\right) =e^{x^{2}},$ for which\n",
    "an analytical solution cannot be obtained.\n",
    "\n",
    "Note that if $U\\sim U\\left( 0,1\\right) $ then\n",
    "\\begin{equation*}\n",
    "\\mathbb{E}\\left[ f\\left( U\\right) \\right] =\\int\\nolimits_{0}^{1}f\\left(\n",
    "u\\right) p\\left( u\\right) du\n",
    "\\end{equation*}\n",
    "where the density $p\\left( u\\right) $ of a uniformly distributed random\n",
    "variable $U\\left( 0,1\\right) $ is given earlier. Hence \n",
    "\\begin{eqnarray*}\n",
    "\\mathbb{E}\\left[ f\\left( U\\right) \\right] &=&\\int\\nolimits_{0}^{1}f\\left(\n",
    "u\\right) p\\left( u\\right) du \\\\\n",
    "&=&I.\n",
    "\\end{eqnarray*}\n",
    "So the problem of estimating $I$ becomes equivalent to the exercise of\n",
    "estimating $\\mathbb{E}\\left[ f\\left( U\\right) \\right] $ where $U\\sim U\\left(\n",
    "0,1\\right) .$"
   ]
  },
  {
   "cell_type": "markdown",
   "metadata": {},
   "source": [
    "## nb extensions\n",
    "Here we experiment with the built-in facilities. Start ensuring you have Latex_envs"
   ]
  },
  {
   "cell_type": "markdown",
   "metadata": {},
   "source": [
    "# Inserting a weblink"
   ]
  },
  {
   "cell_type": "markdown",
   "metadata": {},
   "source": [
    "To insert a web link e.g. the maths site, place the text you want to link in square brackets and the URL in parentheses with no spaces between them: <br> [Mathematical Institute](https://www.maths.ox.ac.uk)"
   ]
  },
  {
   "cell_type": "markdown",
   "metadata": {},
   "source": [
    "# Strikethrough"
   ]
  },
  {
   "cell_type": "markdown",
   "metadata": {},
   "source": [
    "If you've done any editing of reports you'll appreciate being able to cross out text. In Markdown you can strikethrough words by putting a horizontal line through the centre, use two tilde symbols before and after the words, i.e. ~~ ~~ <br>\n",
    "Let's see that\n",
    "\n",
    "~~I was just using Python 3.7,~~ actually ignore that can you use version 3.8? "
   ]
  },
  {
   "cell_type": "markdown",
   "metadata": {},
   "source": [
    "# Importing pictures"
   ]
  },
  {
   "cell_type": "markdown",
   "metadata": {},
   "source": [
    "<img src=\"./img/oxlogomaths.png\" style=\"width:300px\">"
   ]
  },
  {
   "cell_type": "markdown",
   "metadata": {},
   "source": [
    "Let’s look at each bit of the syntax. The &lt;img&gt; tag is used to embed an image in an HTML page, by creating a holding space for the referenced image. The attribute **src** specifies the path to the image. Let's consider a few more function attributes. While centre is the default alignment, we can also left align and right align."
   ]
  },
  {
   "cell_type": "markdown",
   "metadata": {},
   "source": [
    "<img src=\"./img/oxlogomaths.png\"\n",
    "     style=\"width:600px; height:400px\" \n",
    "     align=\"right\"/>"
   ]
  },
  {
   "cell_type": "markdown",
   "metadata": {},
   "source": [
    "<img src=\"./img/bodleian.jpg\"\n",
    "     style=\"width:600px; height:400px\" \n",
    "     align=\"left\"/>"
   ]
  },
  {
   "cell_type": "markdown",
   "metadata": {},
   "source": [
    "# Images"
   ]
  },
  {
   "cell_type": "markdown",
   "metadata": {},
   "source": [
    "Taken from the webpage [MRC infectious modelling at Imperial](https://www.imperial.ac.uk/mrc-global-infectious-disease-analysis)"
   ]
  },
  {
   "cell_type": "markdown",
   "metadata": {},
   "source": [
    "![mrc](https://www.imperial.ac.uk/ImageCropToolT4/imageTool/uploaded-images/Influenza-H1N1--tojpeg_1537539695125_x1.jpg)"
   ]
  },
  {
   "cell_type": "markdown",
   "metadata": {},
   "source": [
    "**Probability Exercise:** Please send workings to riaz.ahmad@fitchlearning.com <br> \n",
    "Julia selects 3 letters at random, one at a time **without** replacement, from the word <p style=\"text-align: center;\">VARIANCE</p>\n",
    "The discrete random variable X represents the number of times she selects a letter A.  \n",
    "\n",
    "* Find the complete probability distribution of X.\n",
    "<br>\n",
    "\n",
    "Yuki selects 10 letters at random, one at a time **with** replacement, from the word <p style=\"text-align: center;\">DEVIATION</p>\n",
    "* Find the probability that she selects the letter E at least 4 times. \n"
   ]
  },
  {
   "cell_type": "code",
   "execution_count": null,
   "metadata": {},
   "outputs": [],
   "source": []
  },
  {
   "cell_type": "code",
   "execution_count": null,
   "metadata": {},
   "outputs": [],
   "source": []
  }
 ],
 "metadata": {
  "author": "This is a Title",
  "kernelspec": {
   "display_name": "Python 3 (ipykernel)",
   "language": "python",
   "name": "python3"
  },
  "language_info": {
   "codemirror_mode": {
    "name": "ipython",
    "version": 3
   },
   "file_extension": ".py",
   "mimetype": "text/x-python",
   "name": "python",
   "nbconvert_exporter": "python",
   "pygments_lexer": "ipython3",
   "version": "3.8.8"
  },
  "latex_envs": {
   "LaTeX_envs_menu_present": true,
   "autoclose": true,
   "autocomplete": true,
   "bibliofile": "biblio.bib",
   "cite_by": "apalike",
   "current_citInitial": 1,
   "eqLabelWithNumbers": true,
   "eqNumInitial": 1,
   "hotkeys": {
    "equation": "Ctrl-E",
    "itemize": "Ctrl-I"
   },
   "labels_anchors": true,
   "latex_user_defs": true,
   "report_style_numbering": true,
   "user_envs_cfg": true
  },
  "nbTranslate": {
   "displayLangs": [
    "*"
   ],
   "hotkey": "alt-t",
   "langInMainMenu": true,
   "sourceLang": "en",
   "targetLang": "fr",
   "useGoogleTranslate": true
  },
  "toc": {
   "base_numbering": 1,
   "nav_menu": {},
   "number_sections": true,
   "sideBar": true,
   "skip_h1_title": false,
   "title_cell": "Table of Contents",
   "title_sidebar": "Contents",
   "toc_cell": false,
   "toc_position": {},
   "toc_section_display": true,
   "toc_window_display": true
  },
  "varInspector": {
   "cols": {
    "lenName": 16,
    "lenType": 16,
    "lenVar": 40
   },
   "kernels_config": {
    "python": {
     "delete_cmd_postfix": "",
     "delete_cmd_prefix": "del ",
     "library": "var_list.py",
     "varRefreshCmd": "print(var_dic_list())"
    },
    "r": {
     "delete_cmd_postfix": ") ",
     "delete_cmd_prefix": "rm(",
     "library": "var_list.r",
     "varRefreshCmd": "cat(var_dic_list()) "
    }
   },
   "types_to_exclude": [
    "module",
    "function",
    "builtin_function_or_method",
    "instance",
    "_Feature"
   ],
   "window_display": false
  }
 },
 "nbformat": 4,
 "nbformat_minor": 4
}
