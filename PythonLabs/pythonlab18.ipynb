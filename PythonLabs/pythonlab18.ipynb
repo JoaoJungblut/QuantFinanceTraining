{
 "cells": [
  {
   "cell_type": "code",
   "execution_count": 2,
   "metadata": {},
   "outputs": [],
   "source": [
    "import numpy as np\n",
    "import warnings\n",
    "warnings.filterwarnings('ignore')"
   ]
  },
  {
   "cell_type": "code",
   "execution_count": 3,
   "metadata": {},
   "outputs": [
    {
     "name": "stdout",
     "output_type": "stream",
     "text": [
      "Reward Matrix \n",
      " \n",
      " [[ -1  -1  -1  -1   0  -1]\n",
      " [ -1  -1  -1   0  -1 100]\n",
      " [ -1  -1  -1   0  -1  -1]\n",
      " [ -1   0   0  -1   0  -1]\n",
      " [ -1   0   0  -1  -1 100]\n",
      " [ -1   0  -1  -1   0 100]]\n"
     ]
    }
   ],
   "source": [
    "# R matrix\n",
    "R = np.array([[-1,-1,-1,-1,0,-1], \n",
    "              [-1,-1,-1,0,-1,100],\n",
    "              [-1,-1,-1,0,-1,-1],\n",
    "              [-1,0,0,-1,0,-1],\n",
    "              [-1,0,0,-1,-1,100],\n",
    "              [-1,0,-1,-1,0,100]])\n",
    "print(f'Reward Matrix \\n \\n {R}')"
   ]
  },
  {
   "cell_type": "code",
   "execution_count": 4,
   "metadata": {},
   "outputs": [
    {
     "name": "stdout",
     "output_type": "stream",
     "text": [
      "Q Matrix \n",
      " \n",
      " [[0. 0. 0. 0. 0. 0.]\n",
      " [0. 0. 0. 0. 0. 0.]\n",
      " [0. 0. 0. 0. 0. 0.]\n",
      " [0. 0. 0. 0. 0. 0.]\n",
      " [0. 0. 0. 0. 0. 0.]\n",
      " [0. 0. 0. 0. 0. 0.]]\n"
     ]
    }
   ],
   "source": [
    "# Q Matrix\n",
    "Q = np.array(np.zeros([6,6]))\n",
    "print(f'Q Matrix \\n \\n {Q}')"
   ]
  },
  {
   "cell_type": "code",
   "execution_count": 5,
   "metadata": {},
   "outputs": [],
   "source": [
    "# Initial State - choosen at random\n",
    "initial_state = 1\n",
    "\n",
    "# Gamma (discount paramaters)\n",
    "gamma = 0.8"
   ]
  },
  {
   "cell_type": "code",
   "execution_count": 6,
   "metadata": {},
   "outputs": [
    {
     "data": {
      "text/plain": [
       "array([3, 5], dtype=int64)"
      ]
     },
     "execution_count": 6,
     "metadata": {},
     "output_type": "execute_result"
    }
   ],
   "source": [
    "np.where(R[1]>=0)[0]"
   ]
  },
  {
   "cell_type": "code",
   "execution_count": 7,
   "metadata": {},
   "outputs": [
    {
     "data": {
      "text/plain": [
       "array([3, 5], dtype=int64)"
      ]
     },
     "execution_count": 7,
     "metadata": {},
     "output_type": "execute_result"
    }
   ],
   "source": [
    "# Let's now return all available actions in the state given as an argument\n",
    "def available_actions(state):\n",
    "    current_state_row = R[state]\n",
    "    aaction = np.where(current_state_row >=0)[0]\n",
    "    return aaction\n",
    "\n",
    "# Get available actions in the current state\n",
    "available_act = available_actions(initial_state)\n",
    "available_act"
   ]
  },
  {
   "cell_type": "code",
   "execution_count": 8,
   "metadata": {},
   "outputs": [
    {
     "data": {
      "text/plain": [
       "3"
      ]
     },
     "execution_count": 8,
     "metadata": {},
     "output_type": "execute_result"
    }
   ],
   "source": [
    "# Next action to be performed\n",
    "def next_action(available_action_range):\n",
    "    naction = int(np.random.choice(available_act,1))\n",
    "    return naction\n",
    "\n",
    "# Action to be performed\n",
    "action = next_action(available_act)\n",
    "action"
   ]
  },
  {
   "cell_type": "code",
   "execution_count": 9,
   "metadata": {},
   "outputs": [],
   "source": [
    "# Update Q Matrix\n",
    "def update(current_state, action, gamma):\n",
    "\n",
    "    max_index = np.where(Q[action,] == np.max(Q[action,]))[0]\n",
    "\n",
    "    if max_index.shape[0] > 1:\n",
    "        max_index = int(np.random.choice(max_index,size=1))\n",
    "    else:\n",
    "        max_index = int(max_index)\n",
    "    \n",
    "    max_value = Q[action, max_index]\n",
    "\n",
    "    # Q learning formula\n",
    "    Q[current_state, action] = R[current_state, action] + gamma * max_value\n",
    "\n",
    "# Update Q-matrix\n",
    "update(initial_state, action, gamma)"
   ]
  },
  {
   "cell_type": "code",
   "execution_count": 10,
   "metadata": {},
   "outputs": [
    {
     "name": "stdout",
     "output_type": "stream",
     "text": [
      "Trained Q-Matrix \n",
      " \n",
      " [[  0.    0.    0.    0.   80.    0. ]\n",
      " [  0.    0.    0.   64.    0.  100. ]\n",
      " [  0.    0.    0.   64.    0.    0. ]\n",
      " [  0.   80.   51.2   0.   80.    0. ]\n",
      " [  0.   80.   51.2   0.    0.  100. ]\n",
      " [  0.   80.    0.    0.   80.  100. ]]\n"
     ]
    }
   ],
   "source": [
    "# Training for 10000 iterations\n",
    "for i in range(10000):\n",
    "    current_state = np.random.randint(0,int(Q.shape[0]))\n",
    "    available_act = available_actions(current_state)\n",
    "    action = next_action(available_act)\n",
    "    update(current_state, action, gamma)\n",
    "    \n",
    "# Normalize the Q matrix\n",
    "print(f'Trained Q-Matrix \\n \\n {Q/np.max(Q)*100}')"
   ]
  },
  {
   "cell_type": "code",
   "execution_count": 11,
   "metadata": {},
   "outputs": [],
   "source": [
    "current_state = 2\n",
    "steps = [current_state]\n",
    "\n",
    "while current_state !=5:\n",
    "    next_step_index = np.where(Q[current_state,] == np.max(Q[current_state,]))[0]\n",
    "\n",
    "    if next_step_index.shape[0] > 1:\n",
    "        next_step_index = int(np.random.choice(next_step_index,size=1))\n",
    "    else:\n",
    "        next_step_index = int(next_step_index)\n",
    "    \n",
    "    steps.append(next_step_index)\n",
    "    current_state = next_step_index"
   ]
  },
  {
   "cell_type": "code",
   "execution_count": 12,
   "metadata": {},
   "outputs": [
    {
     "name": "stdout",
     "output_type": "stream",
     "text": [
      "Selected Path [2, 3, 1, 5]\n"
     ]
    }
   ],
   "source": [
    "# Print selected sequence of steps\n",
    "print(f'Selected Path {steps}')"
   ]
  },
  {
   "cell_type": "code",
   "execution_count": 13,
   "metadata": {},
   "outputs": [],
   "source": [
    "import gymnasium as gym\n",
    "\n",
    "env = gym.make(\"CartPole-v1\", render_mode=\"human\")\n",
    "env.reset()\n",
    "\n",
    "for _ in range(200):\n",
    "    env.render()\n",
    "    env.step(env.action_space.sample()) # take a random action"
   ]
  },
  {
   "cell_type": "code",
   "execution_count": 14,
   "metadata": {},
   "outputs": [
    {
     "data": {
      "text/plain": [
       "Discrete(2)"
      ]
     },
     "execution_count": 14,
     "metadata": {},
     "output_type": "execute_result"
    }
   ],
   "source": [
    "# action space\n",
    "env.action_space"
   ]
  },
  {
   "cell_type": "code",
   "execution_count": 15,
   "metadata": {},
   "outputs": [
    {
     "data": {
      "text/plain": [
       "Box([-4.8000002e+00 -3.4028235e+38 -4.1887903e-01 -3.4028235e+38], [4.8000002e+00 3.4028235e+38 4.1887903e-01 3.4028235e+38], (4,), float32)"
      ]
     },
     "execution_count": 15,
     "metadata": {},
     "output_type": "execute_result"
    }
   ],
   "source": [
    "# state or observation space\n",
    "env.observation_space"
   ]
  },
  {
   "cell_type": "code",
   "execution_count": 16,
   "metadata": {},
   "outputs": [
    {
     "name": "stdout",
     "output_type": "stream",
     "text": [
      "High: [4.8000002e+00 3.4028235e+38 4.1887903e-01 3.4028235e+38]\n",
      "Low: [-4.8000002e+00 -3.4028235e+38 -4.1887903e-01 -3.4028235e+38]\n"
     ]
    }
   ],
   "source": [
    "# check box bounds\n",
    "print(f'High: {env.observation_space.high}')\n",
    "print(f'Low: {env.observation_space.low}')"
   ]
  },
  {
   "cell_type": "code",
   "execution_count": 17,
   "metadata": {},
   "outputs": [
    {
     "name": "stdout",
     "output_type": "stream",
     "text": [
      "step= 1 | state=[ 0.02241125 -0.17897816 -0.02181121  0.30261102] | action=0 | reward=1.0\n",
      "step= 2 | state=[ 0.01883169  0.01644775 -0.01575899  0.00312989] | action=1 | reward=1.0\n",
      "step= 3 | state=[ 0.01916064  0.21179211 -0.01569639 -0.29448324] | action=1 | reward=1.0\n",
      "step= 4 | state=[ 0.02339648  0.4071343  -0.02158606 -0.59207493] | action=1 | reward=1.0\n",
      "step= 5 | state=[ 0.03153917  0.6025517  -0.03342756 -0.89147854] | action=1 | reward=1.0\n",
      "step= 6 | state=[ 0.0435902   0.40789875 -0.05125713 -0.6094882 ] | action=0 | reward=1.0\n",
      "step= 7 | state=[ 0.05174818  0.6036984  -0.06344689 -0.9178648 ] | action=1 | reward=1.0\n",
      "step= 8 | state=[ 0.06382214  0.79961807 -0.08180419 -1.2297939 ] | action=1 | reward=1.0\n",
      "step= 9 | state=[ 0.07981451  0.60563827 -0.10640007 -0.9638209 ] | action=0 | reward=1.0\n",
      "step=10 | state=[ 0.09192728  0.41209424 -0.12567648 -0.7063692 ] | action=0 | reward=1.0\n",
      "step=11 | state=[ 0.10016916  0.2189168  -0.13980387 -0.45574015] | action=0 | reward=1.0\n",
      "step=12 | state=[ 0.10454749  0.41570988 -0.14891867 -0.7890183 ] | action=1 | reward=1.0\n",
      "step=13 | state=[ 0.11286169  0.22291264 -0.16469903 -0.5466437 ] | action=0 | reward=1.0\n",
      "step=14 | state=[ 0.11731994  0.41991884 -0.17563191 -0.88635695] | action=1 | reward=1.0\n",
      "step=15 | state=[ 0.12571833  0.61693406 -0.19335905 -1.2287043 ] | action=1 | reward=1.0\n",
      "step=16 | state=[ 0.13805701  0.42475277 -0.21793313 -1.0022985 ] | action=0 | reward=1.0\n",
      "*** FAILED ***\n"
     ]
    }
   ],
   "source": [
    "env.reset()\n",
    "for e in range(1, 200):\n",
    "    action = env.action_space.sample()\n",
    "    observation, reward, terminated, truncated, info = env.step(action) # stepping forward one step\n",
    "    \n",
    "    print(f'step={e:2d} | state={observation} | action={action} | reward={reward}')\n",
    "    \n",
    "    if (terminated or truncated) and (e + 1) <= 200: # failure if less than 200 steps\n",
    "        print('*** FAILED ***')\n",
    "        break"
   ]
  }
 ],
 "metadata": {
  "kernelspec": {
   "display_name": "Python 3",
   "language": "python",
   "name": "python3"
  },
  "language_info": {
   "codemirror_mode": {
    "name": "ipython",
    "version": 3
   },
   "file_extension": ".py",
   "mimetype": "text/x-python",
   "name": "python",
   "nbconvert_exporter": "python",
   "pygments_lexer": "ipython3",
   "version": "3.12.0"
  }
 },
 "nbformat": 4,
 "nbformat_minor": 2
}
