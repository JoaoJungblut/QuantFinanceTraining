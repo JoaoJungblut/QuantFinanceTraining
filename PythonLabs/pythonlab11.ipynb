{
 "cells": [
  {
   "cell_type": "code",
   "execution_count": 8,
   "metadata": {},
   "outputs": [],
   "source": [
    "# Data Manipulation\n",
    "from numpy import *\n",
    "from datetime import datetime\n",
    "# Import blackscholes object\n",
    "from optionpricer import BS\n",
    "from tabulate import tabulate"
   ]
  },
  {
   "cell_type": "code",
   "execution_count": 9,
   "metadata": {},
   "outputs": [],
   "source": [
    "def newton_iv(className, spot, strike, rate, dte, callprice=None, putprice=None):\n",
    "    x0 = 1 # initial guess\n",
    "    h = 0.001 # step size\n",
    "    tolerance = 1e-7 # 7-digit accuracy is desired\n",
    "    epsilon = 1e-14 # do not divide by a number smaller than this, some kind of error / floor\n",
    "    maxiter = 200 # maximum number of iterations to execute\n",
    "    # function whose root we are trying to find\n",
    "    # f(x) = Black Scholes Call price - Market Price - defining the f(x) here\n",
    "    if callprice:\n",
    "        f = lambda x: eval(className)(spot, strike, rate, dte, x).callPrice - callprice\n",
    "    if putprice:\n",
    "        f = lambda x: eval(className)(spot, strike, rate, dte, x).putPrice - putprice\n",
    "\n",
    "    for i in range(maxiter):\n",
    "        y = f(x0) # starting with initial guess\n",
    "        yprime = (f(x0+h) - f(x0-h))/(2*h) # central difference, the␣ derivative of the function\n",
    "        \n",
    "        if abs(yprime)<epsilon: # stop if the denominator is too small\n",
    "            break\n",
    "        \n",
    "        x1 = x0 - y/yprime # perform Newton's computation\n",
    "        \n",
    "        if (abs(x1-x0) <= tolerance*abs(x1)): # stop when the result is within the desired tolerance\n",
    "            break\n",
    "        \n",
    "        x0=x1 # update x0 to start the process again\n",
    "\n",
    "    return x1 # x1 is a solution within tolerance and maximum number of iterations"
   ]
  },
  {
   "cell_type": "code",
   "execution_count": 10,
   "metadata": {},
   "outputs": [
    {
     "data": {
      "text/plain": [
       "0.17657213831399154"
      ]
     },
     "execution_count": 10,
     "metadata": {},
     "output_type": "execute_result"
    }
   ],
   "source": [
    "# newton iv\n",
    "newton_iv('BS',100,100,0.02,1,callprice=8)"
   ]
  },
  {
   "cell_type": "code",
   "execution_count": 12,
   "metadata": {},
   "outputs": [],
   "source": [
    "# Bisection Method\n",
    "def bisection_iv(className, spot, strike, rate, dte, callprice=None, putprice=None, high=500.0, low=0.0):\n",
    "    \n",
    "    # this is market price\n",
    "    if callprice:\n",
    "        price = callprice\n",
    "        \n",
    "    if putprice and not callprice:\n",
    "        price = putprice\n",
    "        \n",
    "    tolerance = 1e-7\n",
    "    \n",
    "    for i in range(1000):\n",
    "        mid = (high + low) / 2 # c= (a+b)/2\n",
    "        \n",
    "        if mid < tolerance:\n",
    "            mid = tolerance\n",
    "            \n",
    "        if callprice:\n",
    "            estimate = eval(className)(spot, strike, rate, dte, mid).callPrice # Blackscholes price\n",
    "            \n",
    "        if putprice:\n",
    "            estimate = eval(className)(spot, strike, rate, dte, mid).putPrice\n",
    "            \n",
    "        if round(estimate,6) == price:\n",
    "            break\n",
    "        elif estimate > price:\n",
    "            high = mid # replace c with b | b = c\n",
    "        elif estimate < price:\n",
    "            low = mid # replace c with a | a = c\n",
    "            \n",
    "    return mid"
   ]
  },
  {
   "cell_type": "code",
   "execution_count": 13,
   "metadata": {},
   "outputs": [
    {
     "data": {
      "text/plain": [
       "0.17657213902566582"
      ]
     },
     "execution_count": 13,
     "metadata": {},
     "output_type": "execute_result"
    }
   ],
   "source": [
    "# bisection iv\n",
    "bisection_iv('BS',100,100,0.02,1,callprice=8)\n"
   ]
  },
  {
   "cell_type": "code",
   "execution_count": 14,
   "metadata": {},
   "outputs": [],
   "source": [
    "# Import updated blackscholes object\n",
    "from optionpricer import BS"
   ]
  },
  {
   "cell_type": "code",
   "execution_count": 15,
   "metadata": {},
   "outputs": [
    {
     "ename": "TypeError",
     "evalue": "BS.__init__() got an unexpected keyword argument 'callprice'",
     "output_type": "error",
     "traceback": [
      "\u001b[1;31m---------------------------------------------------------------------------\u001b[0m",
      "\u001b[1;31mTypeError\u001b[0m                                 Traceback (most recent call last)",
      "\u001b[1;32mc:\\Users\\joaor\\OneDrive\\Documentos\\GitHub\\CQF\\PythonLabs\\pythonlab11.ipynb Cell 7\u001b[0m line \u001b[0;36m2\n\u001b[0;32m      <a href='vscode-notebook-cell:/c%3A/Users/joaor/OneDrive/Documentos/GitHub/CQF/PythonLabs/pythonlab11.ipynb#X10sZmlsZQ%3D%3D?line=0'>1</a>\u001b[0m \u001b[39m# Initialize option\u001b[39;00m\n\u001b[1;32m----> <a href='vscode-notebook-cell:/c%3A/Users/joaor/OneDrive/Documentos/GitHub/CQF/PythonLabs/pythonlab11.ipynb#X10sZmlsZQ%3D%3D?line=1'>2</a>\u001b[0m option \u001b[39m=\u001b[39m BS(\u001b[39m100\u001b[39;49m,\u001b[39m100\u001b[39;49m,\u001b[39m0.05\u001b[39;49m,\u001b[39m1\u001b[39;49m,\u001b[39m0.2\u001b[39;49m, callprice\u001b[39m=\u001b[39;49m\u001b[39m8\u001b[39;49m)\n\u001b[0;32m      <a href='vscode-notebook-cell:/c%3A/Users/joaor/OneDrive/Documentos/GitHub/CQF/PythonLabs/pythonlab11.ipynb#X10sZmlsZQ%3D%3D?line=2'>3</a>\u001b[0m header \u001b[39m=\u001b[39m [\u001b[39m'\u001b[39m\u001b[39mOption Price\u001b[39m\u001b[39m'\u001b[39m, \u001b[39m'\u001b[39m\u001b[39mDelta\u001b[39m\u001b[39m'\u001b[39m, \u001b[39m'\u001b[39m\u001b[39mGamma\u001b[39m\u001b[39m'\u001b[39m, \u001b[39m'\u001b[39m\u001b[39mTheta\u001b[39m\u001b[39m'\u001b[39m, \u001b[39m'\u001b[39m\u001b[39mVega\u001b[39m\u001b[39m'\u001b[39m, \u001b[39m'\u001b[39m\u001b[39mRho\u001b[39m\u001b[39m'\u001b[39m, \u001b[39m'\u001b[39m\u001b[39mIV\u001b[39m\u001b[39m'\u001b[39m]\n\u001b[0;32m      <a href='vscode-notebook-cell:/c%3A/Users/joaor/OneDrive/Documentos/GitHub/CQF/PythonLabs/pythonlab11.ipynb#X10sZmlsZQ%3D%3D?line=3'>4</a>\u001b[0m table \u001b[39m=\u001b[39m [[option\u001b[39m.\u001b[39mcallPrice, option\u001b[39m.\u001b[39mcallDelta, option\u001b[39m.\u001b[39mgamma, option\u001b[39m.\u001b[39mcallTheta, option\u001b[39m.\u001b[39mvega, option\u001b[39m.\u001b[39mcallRho, option\u001b[39m.\u001b[39mimpvol]]\n",
      "\u001b[1;31mTypeError\u001b[0m: BS.__init__() got an unexpected keyword argument 'callprice'"
     ]
    }
   ],
   "source": [
    "# Initialize option\n",
    "option = BS(100,100,0.05,1,0.2, callprice=8)\n",
    "header = ['Option Price', 'Delta', 'Gamma', 'Theta', 'Vega', 'Rho', 'IV']\n",
    "table = [[option.callPrice, option.callDelta, option.gamma, option.callTheta, option.vega, option.callRho, option.impvol]]\n",
    "print(tabulate(table,header))"
   ]
  }
 ],
 "metadata": {
  "kernelspec": {
   "display_name": "Python 3",
   "language": "python",
   "name": "python3"
  },
  "language_info": {
   "codemirror_mode": {
    "name": "ipython",
    "version": 3
   },
   "file_extension": ".py",
   "mimetype": "text/x-python",
   "name": "python",
   "nbconvert_exporter": "python",
   "pygments_lexer": "ipython3",
   "version": "3.11.1"
  },
  "orig_nbformat": 4
 },
 "nbformat": 4,
 "nbformat_minor": 2
}
