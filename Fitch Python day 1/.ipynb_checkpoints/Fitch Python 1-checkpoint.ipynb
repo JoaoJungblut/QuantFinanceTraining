{
 "cells": [
  {
   "cell_type": "markdown",
   "metadata": {},
   "source": [
    " <br> <font color = blue size=10>Python Primer - An Introduction </font> "
   ]
  },
  {
   "cell_type": "markdown",
   "metadata": {
    "ExecuteTime": {
     "end_time": "2023-06-08T23:55:22.819896Z",
     "start_time": "2023-06-08T23:55:22.800949Z"
    }
   },
   "source": [
    "**A Polite Notice:**<br>\n",
    "This is an introduction to Python. Its primary audience is those who are\n",
    "* new to Python\n",
    "* new to Jupyter Notebook\n",
    "* new to coding - Python is an excellent introduction to programming in general\n",
    "* have limited knowledge thus requiring a refresher\n",
    "\n",
    "It is not for\n",
    "* experienced users\n",
    "* those looking to flash their knowledge in front of novices.   \n",
    "\n",
    "Once the CQF starts you will be doing a lot of intermediate and advanced Python with Kannan. \n",
    "All however are welcome - but the above notice should be observed. In exactly the same way I was particular during the maths primer not to let participants who are comfortable with their maths, not to derail things for delegates who were rusty. Hence your adherence to the above note is appreciated in anticipation. Many thanks."
   ]
  },
  {
   "cell_type": "markdown",
   "metadata": {},
   "source": [
    "# Introduction"
   ]
  },
  {
   "cell_type": "markdown",
   "metadata": {},
   "source": [
    "Those of us old enough (and fortunate) to remember, will recall the BBC comedy sketch series – Monty Python’s Flying Circus. Televised during the late 60s and early 70s, it was conceived, written and performed by the comedy geniuses collectively known as Monty Python (or simply The Pythons). These intellectual masters of humour were predominantly Oxbridge graduates. Fast forward two decades, and we see that this comedy series became the inspiration for the name of a new programming language! \n",
    "\n",
    "<img src=\"https://hungarytoday.hu/wp-content/uploads/2019/10/64620721_1335582536609599_8727357422164770816_o.jpg\" width=\"50%\" align=\"center\" style=\"vertical-align: top; padding-top: 23px;\"> <br>\n",
    "<br>\n",
    "\n",
    "Python was initially developed by Guido van Rossum in the late 1980s, who was a big fan of Monty Python's Flying Circus - so the name has no connection with any large serpent! Although, it's conception dates back to the late 1980s. https://en.wikipedia.org/wiki/History_of_Python\n",
    "\n",
    "\n",
    "This is a programming course in the use of Python as a scientific computing language for computational finance applications; as part of the Oxford MSc. It is intended for those who are new to  programming in Python. As well as an informal lecture style delivery we will also be doing exercises. We don’t want to be computer scientists or developers. Our goal is solve pricing problems numerically; handle/analyse data and plot data, using Python – simple and enjoyable! Where possible we use as much of the built-in functionality as possible – remember this is not a computer science course. The notes also form part of a textbook which is being prepared for Wiley Finance.\n",
    "\n",
    "Python is a general-purpose dynamic, interpreted (bytecode-compiled) programming language. This means we can type statements into the interpreter and they are executed immediately. In contrast, languages such as Java and C are compiled languages. \n",
    "\n",
    "Python was designed for two reasons - so code written in Python would be easy for humans to read; and to minimize the amount of time required to write code.  \n",
    "\n",
    "There are no type declarations of variables, parameters, functions, or methods in source code. This makes the code short; well structured; readable and flexible, and one loses the compile-time type checking of the source code. The philosophy is “we code what we think”. Python tracks the types of all values at runtime and flags code that does not make sense as it runs. An excellent way to see how Python code works is to run the Python interpreter and type code right into it. \n",
    "\n",
    "Science has traditionally consisted of two major disciplines, theory and experimentation. In the last several decades a third important and exciting component has emerged, i.e. scientific computing. Scientific computing acts as an intersection of the former two areas of science. It is often closely related to theory, but it also has many characteristics in common with experimental work. It is therefore often viewed as a third branch of science.\n",
    "\n",
    "In most areas of science, computation is an invaluable complement to both experiments and theory. Vast majority of both experimental and theoretical research involve some numerical calculations, simulations or computer modelling. In many studies, pure theory alone is insufficient in validating or demonstrating results. On the other hand, experimentation as a sole means of conducting an investigation may lack the scientific rigour necessary to hold up to scrutiny. Experimental work may not be possible or may prove too costly. \n"
   ]
  },
  {
   "cell_type": "markdown",
   "metadata": {},
   "source": [
    "***"
   ]
  },
  {
   "cell_type": "markdown",
   "metadata": {},
   "source": [
    "The need for mathematical modelling has never been greater. Most problems based on real life are often too complex and cannot be solved using analytical techniques alone – without computational methods and scientific computing techniques we would be greatly limited to the types of modelling  possible. In finance, unless the pricing problem is fairly basic or ideal, it is highly unlikely that a closed form solution is available.\n"
   ]
  },
  {
   "cell_type": "markdown",
   "metadata": {},
   "source": [
    "**Why Python?**\n",
    "\n",
    "\n",
    "The world is driven by technology with the last decade witnessing the greatest innovation in its advancement. Central to the success of this advancement has been programming languages such as C++, Python and R. This course focuses on Python and its application to finance, health and science.\n",
    "\n",
    "This is an obvious initial point to address when introducing Python. Python is rapidly becoming the standard in scientific computing, receiving much excitement about the application of Python to mathematical finance (although its presence is being felt in many sectors); its appeal continues to grow in both academia and industry. It is also the fastest growing langauge.\n",
    "\n",
    "Its features include:\n",
    "\n",
    "\n",
    "* (very) Simple to pick up language – easy to maintain  \n",
    "* Python offers concise and readable code\n",
    "* open-source and free language\n",
    "* growing amount of add-on modules\n",
    "* multi-platform (cross platform compatible) - available on Windows, Mac OS, Linux and almost all operating systems (Android also) used by Google, YouTube, Instagram, NASA, CERN, Disney, Dropbox. . .\n",
    "* particularly easy to interface with C++\n",
    "* powerful language  can be used extensively to solve problems in finance, economics and healthcare\n",
    "* Broadly adopted: Popularly used Machine Learning and Data Science\n"
   ]
  },
  {
   "cell_type": "markdown",
   "metadata": {},
   "source": [
    "**What is open-source?**\n",
    "* The programme must be freely distributed\n",
    "* Source code must be included\n",
    "* Anyone must be allowed to modify the source code – modification/customisation is in fact encouraged and further distribution is allowed\n",
    "* Certain licensing requirements need to be fulfilled\n",
    "\n",
    "There are other requirements that need to be satisfied for open-source approval.\n"
   ]
  },
  {
   "cell_type": "markdown",
   "metadata": {},
   "source": [
    "**Where does Python programing fit into your life?**\n",
    "\n",
    "* 'Super small' so shows up on embedded devices\n",
    "* Several libraries for building great web apps\n",
    "* Python popular at Disney and Lucas Film\n",
    "* Large community of users, easy to find help and documentation\n",
    "* Has a strong position in scientific computing. \n",
    "* Heavily used in science (CERN and NASA) with dedicated libraries to specific areas\n",
    "* Due to Machine Learning its popularity has taken off like a rocket\n",
    "* Python is an interpreted language (as opposed to compiled like C/ C++/FORTRAN)\n",
    "\n",
    "\n",
    "**Python has a library for almost anything**\n",
    "\n",
    "<img src=\"https://travelwithmk.com/wp-content/uploads/2017/02/Bodleian_Library_Oxford_Ilif.jpg\" width=\"60%\" align=\"center\" style=\"vertical-align: top; padding-top: 23px;\"> <br>\n",
    "<br>\n",
    "\n",
    "Python's strongest point is (probably) its guagillions of wonderfully maintained (and ever-growing) libraries. In programming, a library is a big bundle of code snippets (or functions) that someone else has written and made freely available for other people to download and modify (open source culture again!). A single library will usually be designed to help people write code for specific applications or purposes. For example:\n",
    "\n",
    "* SciPy is a library for general mathematical purposes\n",
    "* Pandas is a library for data science\n",
    "* Numpy is a library for numerical computing\n",
    "* NLTK is a library for natural language processing\n",
    "* Tensorflow is a machine learning (ML) library released by Google\n",
    "* Epipy is a library for epidemiology for analyzing and visualizing epidemiology data\n",
    "* Matplotlib is a library for graphics (static, animated, interactive)\n",
    "* Mesa is a library for agent based modelling\n",
    "\n",
    "Using libraries rather than writing your own code from scratch is always a smart move - you'll save time, and because open source code will have been reviewed and checked by hundreds and thousands of people, code from a library is far less likely to contain bugs than something you may write.\n",
    "\n",
    "\n",
    "**Why Python for Data Science?**\n",
    "\n",
    "Data analysis has become one of the fastest developing areas in IT. If you had access to a large dataset, would you be able to find the answers to important questions? We are surrounded and continuously bombarded with data. Data Science has emerged as a highly important academic and industrial based discipline which continues to expand rapidly. Combining both computational and statistical methods for data-driven problem solving, its applications are wide ranging to include finance, health, journalism and politics. This rapidly expanding area includes machine learning, deep learning, large-scale data analysis. At Oxford you can even do a MSc Social Data Science https://www.ox.ac.uk/admissions/graduate/courses/msc-social-data-science.\n",
    "So why has Python become so popular in this field?\n",
    "\n",
    "* Python is an interpreted language (as opposed to compiled e.g. C/ C++/FORTRAN)\n",
    "* Programmers find it particularly attractive\n",
    "* Dynamic (i.e. single line of code will run in the Python interpreter)\n",
    "* Used as glue language, existing legacy scientific computing software (written in C/C++/FORTRAN) can be combined as software libraries in python. \n",
    "* As listed above, the availability of many libraries\n",
    "* Object-oriented (structured around objects that contain variables and methods, where methods act on variables)\n",
    "\n",
    "**Python is object oriented**\n",
    "\n",
    "Object-oriented programming, or OOP for short, is a way of structuring programs so that groups of properties and behaviours are bundled into things called 'objects'.\n",
    "\n",
    "We'll learn more about why this is useful later.\n",
    "\n",
    "**Why Python for Machine Learning?**\n",
    "Artificial Intelligence (AI) and Machine Learning (AI) are terms from computer science that are mentioned extensively (whether in passing or at a deeper/technical level) and have become subjects in their own right. While AI has been referred to for a few decades now, ML is relatively new. There is also some confusion as to the difference between the two, and if the names can be used interchangeably. Whilst this discussion can be lengthy, a few key differences can be outlined. \n",
    "\n",
    "ML is a branch of AI. AI seeks to simulate natural intelligence to solve complex problems, while the goal of ML is to learn from data on a particular task to optimise the performance of the machine. AI is about decision making, whereas ML allows a system to learn new things by being trained on large amounts of data.\n",
    "\n",
    "In short ML is the process of teaching a computer system how to make accurate predictions when fed data. It is the technique whereby machines can tackle tasks that up until now have been carried out by humans. Hence it is clear that the key being lots and lots of data!\n",
    "\n",
    "So why Python? \n",
    "* The code is understandable by humans, which makes it easier to build models for ML\n",
    "* Extensive selection of frameworks and libraries \n",
    "\n",
    ">* Keras, TensorFlow, Scikit-learn for machine learning\n",
    ">* NumPy for high-performance scientific computing and data analysis\n",
    ">* SciPy for advanced scientific computing\n",
    ">* Pandas for general-purpose data analysis\n",
    ">* Seaborn for (fancy) data visualization\n",
    "* Platform independence and portability (Windows, IOS, Linux)\n",
    "* Great community and popularity\n"
   ]
  },
  {
   "cell_type": "markdown",
   "metadata": {},
   "source": [
    "**Applications of Python in Healthcare**\n",
    "\n",
    "* Medical Image Diagnostics\n",
    "* Hospital Operations Management\n",
    "* Genomic Studies\n",
    "* Medicine Discoveries\n",
    "* Predictive Prognosis"
   ]
  },
  {
   "cell_type": "markdown",
   "metadata": {},
   "source": [
    "We mentioned above that **Python is an interpreted language**. If you're new to programming, you probably have no idea what this means. Let's take a quick(ish) detour through the history of computing.\n",
    "\n",
    "## What is programming?\n",
    "\n",
    "What do we actually mean when we talk about coding or programming? This sounds like an obvious question, but it's worth discussing.\n",
    "\n",
    "When we write code (in any language from Python to C++) we're writing instructions that we want our computer to execute; those instructions could be as simple as 'add these two numbers and show me the result' or as complex as 'navigate this driverless car through rush hour traffic.'\n",
    "\n",
    "The CPU (central processing unit, or 'brain') in any computer can only understand and execute commands written in machine code, which looks something like this:"
   ]
  },
  {
   "cell_type": "markdown",
   "metadata": {},
   "source": [
    "<img src=\"http://4.bp.blogspot.com/-KE7qj3STvcY/Tje7MITSKJI/AAAAAAAABII/bbsFhWUF5Oo/s1600/Binaries.jpg\" width=\"30%\" align=\"center\" style=\"vertical-align: top; padding-top: 23px;\">"
   ]
  },
  {
   "cell_type": "markdown",
   "metadata": {},
   "source": [
    "For humans, machine code is:\n",
    "\n",
    "* Very error prone.\n",
    "* A nightmare to debug: imagine trying to spot a rogue 1 (Star Wars reference entirely unintentional but I'll take it) in a string of thousands of numbers and letters so you can fix your mistake.\n",
    "* Inefficient: it takes many lines of code to write even the simplest instructions.\n",
    "\n",
    "Luckily, nowadays we have at our disposal a huge range of programming languages from JavaScipt to Python to C++. All of these are much more similar to the English language, have their own vocabulary (commands that can be given to the computer) and syntax (rules for combining commands to write complex instructions) and feel far more intuitive than machine code.\n",
    "\n",
    "But if computers only understand machine code, how is this possible?"
   ]
  },
  {
   "cell_type": "markdown",
   "metadata": {},
   "source": [
    "In the 1950s a US Navy Rear Admiral named Grace Hopper was well aware of this problem. She built the first compiler, a middle-man piece of software that translated instructions written in a human-readable programming language called A-0 into computer-readable machine code.\n",
    "\n",
    "\n",
    "\n",
    "All the programming languages you might have heard of including FORTRAN, C++, Python, JavaScript, Swift, R and Matlab only exist today because of Hopper's innovation.\n",
    "\n",
    "These modern languages are compiled or interpreted into a format that can be directly executed by a CPU. The main difference between a compiled language (like C++) and an interpreted language (like Python) lies in the result of the compilation or interpretation process.\n",
    "\n",
    "Code written in an interpreted language is executed by an interpreter, which reads the source code and translates it on the fly into machine code, and gives us the desired result or output of the code- this could be a number, some text, or movement in a robotic arm. This means we can type statements into the interpreter and they are executed immediately, giving us near-instant results. The source code has to be re-interpreted each time the code is executed.\n",
    "\n",
    "Lines of code written in compiled languages are converted into machine code by a compiler, to produce an executable file. To get the desired results of the code, this executable file then needs to be run. Most of the software we use on a daily basis is delivered as compiled binaries.\n",
    "\n",
    "A program should not be confused with an *algorithm*. An algorithm is a description or sequence of steps required to  solve a problem. It is independent of any programming language or syntax,  and amounts to pseudo-code.  The steps defined in an algorithm are translated to the required language syntax, so it is the precursor to writing a program.  It means, understanding the problem we are modelling and  analysing it.  Often it will also incorporate a numerical scheme. \n"
   ]
  },
  {
   "cell_type": "markdown",
   "metadata": {},
   "source": [
    "***"
   ]
  },
  {
   "cell_type": "markdown",
   "metadata": {},
   "source": [
    "**Interpreted** versus Compiled 1 \n",
    "\n",
    "Programs are indirectly executed by an interpreter program which reads the source code and translates it while in motion, into a series of computations and system calls. The source has to be re-interpreted (and the interpreter present) each time the code is executed.\n",
    "* Slower than compiled, with limited access to the underlying operating system and hardware\n",
    "* Easier to program\n",
    "* Less strict on coding errors\n"
   ]
  },
  {
   "cell_type": "markdown",
   "metadata": {},
   "source": [
    "Interpreted versus **Compiled** 2\n",
    "\n",
    "Most conventional kind of language is compiled. Programs are converted into machine code by a compiler and then directly executed. This executable file can be run without the need to refer back to the source code.\n",
    "* Give excellent performance with limited access to the underlying operating system and hardware\n",
    "*\tCan be difficult to program in\n",
    "*\tMost of the software we use is delivered as compiled binaries, from software which the use doesn’t see\n"
   ]
  },
  {
   "cell_type": "markdown",
   "metadata": {},
   "source": [
    " <img src=\"./img/Python link.png\" style=\"width:400px\">"
   ]
  },
  {
   "cell_type": "markdown",
   "metadata": {},
   "source": [
    "<!--- This is an HTML comment in Markdown -->"
   ]
  },
  {
   "cell_type": "markdown",
   "metadata": {},
   "source": [
    "## What sort of language is Python?\n",
    "<img src=\"./img/scale.png\" style=\"width:600px\"> "
   ]
  },
  {
   "cell_type": "markdown",
   "metadata": {},
   "source": [
    "### C++ vs. Python\n",
    "C++ is very fast with very optimized compilers. For intense and heavy computations, it’s hard to outperform C++. In fact it's widely agreed in banking that \"C++ is used in situations where speed is everything\". The language retains its status as being *sexy*! More recently, some very optimized scientific libraries have been developed for these languages, e.g. BLAS (Basic Linear Algebra Subprograms). \n",
    "There are however plenty of drawbacks! It is a very hard langauge for non-computer scientists. It's difficult to use and not easy to learn - being non-interactive during development makes its usage quite painful. Its syntax can also be verbose. Manual memory management (via C) can also be tricky.\n",
    "\n",
    "Python may not be up there with C++ when it comes to speed, however, it makes up for this limitation in versatility."
   ]
  },
  {
   "cell_type": "markdown",
   "metadata": {
    "collapsed": true
   },
   "source": [
    "### Distributions of Python\n",
    "\n",
    "Python is a language, then there exist different distributions of Python (Python official, Anaconda Python, Enthought Canopy, pythonxy . . . ). Each distribution provides specific tools (Editors, packages pre-installed, support for a given platform . . . ). <br>\n",
    "\n",
    "We will be using Anaconda. Anaconda is a distribution of Python. This means it’s a piece of software that includes Python\n",
    "together with some useful tools that make programming in Python easier\n",
    "\n",
    "Jupyter Notebook (or 'Jupyter') is an environment for writing and running Python code. It’s widely used in industry and academia, and has lots of handy features that make it easier to use than many other programming environments. "
   ]
  },
  {
   "cell_type": "markdown",
   "metadata": {},
   "source": [
    "### Getting started\n",
    "\n",
    "On Linux and Mac OS, Python comes pre-installed with the operating system. However, many useful packages (e.g. SciPy) must be installed by hand. For its easy interface we will use Anaconda. This is an open source data science platform by CONTINUUM that has many tools; these include a Python distribution, a package manager conda, a way to manage environment and many preinstalled libraries and packages (e.g. NumPy, SciPy and Jupyter notebooks). Use of Anaconda greatly facilitates the learning process and avoids many issues new programmers to Python face. More importantly it is excellent for teaching in the classroom. To download simply google Python Anaconda. You will be taken to https://www.anaconda.com/download/\n"
   ]
  },
  {
   "cell_type": "markdown",
   "metadata": {},
   "source": [
    " <img src=\"./img/distribution.png\" style=\"width:800px\">"
   ]
  },
  {
   "cell_type": "markdown",
   "metadata": {},
   "source": [
    "### How to know if your PC/laptop is a 32 or 64-bit system?\n",
    "Linux uname -a and if you see x64 then 64-bit else 32-bit\n",
    "\n",
    "Mac uname -a also\n",
    "\n",
    "Windows (0ld) Click Start, right-click My Computer, and then click Properties if you see 64-bit it’s a 64-bit system\n",
    "\n",
    "Windows 10 In search, type device specifications then System Specifications. "
   ]
  },
  {
   "cell_type": "markdown",
   "metadata": {},
   "source": [
    "\n",
    "Choose your operating system from Windows, mac or Linux."
   ]
  },
  {
   "cell_type": "markdown",
   "metadata": {},
   "source": [
    "<img src=\"./img/install.png\" style=\"width:100x\">"
   ]
  },
  {
   "cell_type": "markdown",
   "metadata": {},
   "source": [
    "### Python 2 or Python 3\n",
    "\n",
    "* Python 2.x is legacy code\n",
    "* Two Python versions are in current use: Python 2 and Python 3.\n",
    "* Python 3 is not backward compatible with Python 2.\n",
    "* The largest community is still using Python 2 since there are still several packages incompatible with Python 3.\n",
    "\n",
    "We will however be using a version of Python 3\n",
    "\n",
    "### Anaconda – What is the jupyter notebook?\n",
    "\n",
    "We've downloaded Python 3.8. What does that actually mean? What exactly have we just installed on our machines?\n",
    "\n",
    "When we download and install Python 3.8, we download the Python 3.8 interpreter - that is, a program that can take lines of code written in Python and translate them down and show us the results. That's great! But we need somewhere to feed lines of Python code to that interpreter, or in other words we need somewhere to write, test, and run our code and view the results or output. That's what an IDE or Interactive Development Environment is for.\n",
    "An IDE is anywhere that you can write and run code, and see the results. There are lots of different IDEs available- some can be used to run code in many different programming languages (like Microsoft Visual Studio Code) and some can only handle one language (like pyCharm).\n",
    "***\n",
    "\n",
    "The Jupyter Notebook (previously known as IPython) is a nice web application that allows you to create and share documents that contain live code, equations, visualizations and explanatory text. Uses include: data cleaning and transformation, numerical simulation, statistical modelling, machine learning and much, much more. Notebooks have the .ipynb extension, although it is possible to save as a .py file or other formats. You may encounter some pronouncing Jupyter is Ju'pie'ter. \n",
    "Such is the interest in Jupyter, that it is conisdered as one of the most significant advances in scientific computing. The origin in its name lies in the grouping of 'Julia', 'Python' and 'R', although it now supports many other languages.\n",
    "\n",
    "There are a number of advantages of using a Jupyter notebook. These include\n",
    "* interactive\n",
    "* easy to document and share results\n",
    "* can access multiple kernels (languages - e.g.R)\n",
    "\n",
    "Along the toolbar at the top you will see a tab labelled **kernel**. A notebook kernel is a “computational engine” that executes the code contained in a Notebook. The ipython kernel, executes python code, although Kernels for many other languages exist (e.g. R). Upon launching a Notebook file, the associated kernel is automatically launched. \n",
    "\n",
    "It is much faster to write a working Python program than a C program. The advantage of Python being a cross platform language means the same program will work immediately on almost any computer system - even on android phones!\n",
    "\n",
    "Many researchers (and institutions) have become reliant on Jupyter notebooks to explain their results. Readers can reproduce those results and modify to create different output in order to facilitate the learning process.\n",
    "\n",
    "For Python it is recommended to use Google Chrome and avoid Internet Explorer (some key features are disabled in Internet Explorer). However with the latter if pictures cannot be viewed, then try the following:\n",
    "\n",
    "Normally in Internet Explorer, under Internet Options, there is an Advanced tab; under multimedia ensure \"Show pictures\" is enabled. \n",
    "\n",
    "To get started visit the following link: \n",
    "https://docs.anaconda.com/anaconda/user-guide/getting-started/"
   ]
  },
  {
   "cell_type": "markdown",
   "metadata": {},
   "source": [
    "## Python script\n",
    "Python script is a set of instructions in a text file, written in the Python language, that run in order and carry out a series of commands.\n"
   ]
  },
  {
   "cell_type": "markdown",
   "metadata": {},
   "source": [
    "Begin by opening the Anaconda prompt from the start menu - this gives some technical bumf including Python version and Anaconda distribution. Note the >>> prompt. Ctrl Z or exit() both close this.  \n",
    "<img src=\"./img/prompt2.png\" style=\"width:450x800px\">"
   ]
  },
  {
   "cell_type": "markdown",
   "metadata": {},
   "source": [
    "This is using Python in command line. The >>> prompt tells us that we are now in Python and can use all the Python syntax. "
   ]
  },
  {
   "cell_type": "markdown",
   "metadata": {},
   "source": [
    "<img src=\"./img/navigator.png\" style=\"width:900px\">\n",
    "***"
   ]
  },
  {
   "cell_type": "markdown",
   "metadata": {},
   "source": [
    "If you have a Mac, then at this point click on jupyterlab\n",
    "<img src=\"./img/jupyterlab.png\" style=\"width:300px\">\n",
    "***\n",
    "Under the third option (Other) will be an icon labelled **terminal**. Opening that will allow you to execute the command given below"
   ]
  },
  {
   "cell_type": "markdown",
   "metadata": {},
   "source": [
    "In these notebooks the use of conda is promoted. Conda  is an open source package management system and environment management system running allowing interaction with Anaconda. It is available on our favoured operating systems of Windows, macOS and Linux. Conda efficiently installs, runs and updates packages and their dependencies. \n",
    "Always useful to use conda before an application to check for updates, using the command **conda update python**"
   ]
  },
  {
   "cell_type": "markdown",
   "metadata": {},
   "source": [
    "Other useful examples are using conda to update various libraries already installed (e.g. seaborn, plotly).\n",
    "In the Anaconda prompt window typing **python --version** gives the current installed version of python."
   ]
  },
  {
   "cell_type": "markdown",
   "metadata": {},
   "source": [
    "**conda -V** gives the version on conda. It is shorthand for **conda --version**. It is also a way of checking it's working!"
   ]
  },
  {
   "cell_type": "markdown",
   "metadata": {},
   "source": [
    "Given we are working in a particular environment (base being the default), to check a newly installed package is in this environment type **conda search** followed by the name of the package.\n",
    "A good starting point can be found at https://docs.conda.io/projects/conda/en/latest/user-guide/getting-started.html#managing-conda"
   ]
  },
  {
   "cell_type": "markdown",
   "metadata": {},
   "source": [
    "Typing **jupyter notebook** in Anaconda prompt opens up the Jupyter notebook. Do not close this otherwise connection to the server will be lost. \n",
    "\n",
    "After you run jupyter notebook your browser will open the jupyter home directory. If you are creating a new notebook, then on the right hand top corner click \"new\" and select \"Python 3\". This will open you the new jupyter notebook. After that press 'H' on your keyboard to see the list of commands. Create cell and type into it\n",
    "***\n",
    "If you have a notebook stored in any location on your computer, click on \"upload\" and add to the directory of files."
   ]
  },
  {
   "cell_type": "markdown",
   "metadata": {},
   "source": [
    "<strong> conda cheatsheet - </strong> This is a useful  [resource](https://docs.conda.io/projects/conda/en/4.6.0/_downloads/52a95608c49671267e40c689e0bc00ca/conda-cheatsheet.pdf) with lots of useful conda commands."
   ]
  },
  {
   "cell_type": "markdown",
   "metadata": {},
   "source": [
    "**pip** is another package management system. For a quick quide here's a [resource](https://opensource.com/sites/default/files/gated-content/cheat_sheet_pip.pdf)"
   ]
  },
  {
   "cell_type": "markdown",
   "metadata": {},
   "source": [
    "# Using Jupyter - getting started"
   ]
  },
  {
   "cell_type": "markdown",
   "metadata": {},
   "source": [
    "##  Introduction"
   ]
  },
  {
   "cell_type": "markdown",
   "metadata": {},
   "source": [
    "**Launching** Jupyter is usually launched from the command line using the command **jupyter notebook**. It runs in your web browser, but doesn't require an internet connection to work - remember, Python and the IDE are both running locally in your machine, your browser is just a convenient user interface.\n",
    "\n",
    "A new notebook can be launched by selecting New, followed by Python 3.\n",
    "<img src=\"./img/python 3.png\" style=\"width:300px\">\n",
    "***\n",
    "**Cells** Cells are the building blocks of Jupyter notebooks, and can contain different types of content from code, to markdown (nicely formatted text, like this cell) to LaTeX (for writing mathematical formulae) and embedded images. During this seminar we'll be using mostly code cells (to write and run our code) and markdown cells.\n",
    "\n",
    "New cells are inserted by selecting Insert, followed by Insert Cell Above or Insert Cell Below. The dropdown menu allows us to switch between Markdown cells and Code cells.\n",
    "\n",
    "**Running cells** Cells run one after the other. You can run cells by pressing Shift + Enter. The output from a code cell (if there is any) will appear below the cell.\n",
    "\n",
    "**Stopping cells** running If you'd like to stop a cell running (maybe you've accidentally written some code that runs in an infinite loop) you can use the 'stop' button on the toolbar. Or go to the kernel drop-down menu and click 'Restart'; you may lose recently defined variables. \n",
    "\n",
    "**Saving your work** Jupyter will autosave your work once every couple of minutes, but if you've just completed a very critical piece of code, it's best to save manually as well.\n",
    "\n",
    "**Shortcuts** Jupyter has plenty of shortcuts to save time:\n",
    "\n",
    "<mark>Ctrl + Enter</mark>: Run current cell\n",
    "\n",
    "<mark>Shift + Enter</mark>: Run current cell and take cursor to the next one\n",
    "\n",
    "<mark>Alt + Enter</mark>: Run current cell and insert new cell below\n",
    "\n",
    "<mark>Esc+M</mark>: Convert current cell to markdown\n",
    "\n",
    "<mark>Esc+Y</mark>: Convert current cell to code\n",
    "\n",
    "<mark>Esc + A</mark>: Insert new cell above current cell\n",
    "\n",
    "<mark>Esc + B</mark>: Insert new cell below current cell\n",
    "\n",
    "<mark>Esc + H</mark>: Show shortcuts menu"
   ]
  },
  {
   "cell_type": "markdown",
   "metadata": {},
   "source": [
    "Notebooks have 2 modes:\n",
    "1. command mode - the cell is blue (Esc key). Adding/deleting cells; using shortcuts\n",
    "2. edit mode - the cell is green (Enter key).\n",
    "First time you open up a notebook worth taking the user interface tour under **Help**\n",
    "Using help(object) gives information on object. So e.g. if we want help on the function print we type help(print) in the cell below and run"
   ]
  },
  {
   "cell_type": "markdown",
   "metadata": {},
   "source": [
    "By double clicking on a cell, you can view its content, i.e. the code for Python or that of Markdown."
   ]
  },
  {
   "cell_type": "markdown",
   "metadata": {},
   "source": [
    "## nbextensions"
   ]
  },
  {
   "cell_type": "markdown",
   "metadata": {},
   "source": [
    "Jupyter Notebook extensions or nbextensions have become an extremely popular way to extend the basic functionality of the IPython notebook ecosystem. They are simple add-ons which make your environment resemble the toolbars of a MS Office environment. They not only provide greater usage, flexibility and control;  more importantly they provide users with control to produce visually stunning notebooks. Increasing numbers of academics are now using Jupyter notebooks to produce literature with a view to sharing. In addition they aid pedagogy as they are excellent teaching tools, and the visual effects enhance the learning process.\n",
    "\n",
    "The basic features installed are very limited. So we start by ensuring that nbextensions are available. A preferred method was to use conda"
   ]
  },
  {
   "cell_type": "markdown",
   "metadata": {},
   "source": [
    "**conda install -c conda-forge jupyter_contrib_nbextensions**\n",
    "\n",
    "The above is on the basis that the default directory is C. <br> After the installation is complete, exit the Anaconda prompt and relaunch Jupyter notebook.<br> You will now see the nbextensions tab, which looks frightfully nice!\n",
    "<img src=\"./img/nbextensions.jpg\" style=\"width:1050px\">\n",
    "<br> And this compared to the limited view you may currently have."
   ]
  },
  {
   "cell_type": "markdown",
   "metadata": {},
   "source": [
    "There have been issues on Windows and if the above doesn't work you can try the following three steps\n",
    "* **pip install jupyter_contrib_nbextensions**\n",
    "* **jupyter contrib nbextension install --user**\n",
    "* **jupyter nbextension enable varInspector/main**\n",
    "\n",
    "To get the complete list above you may need to also type the syntax **jupyter contrib nbextension install --sys-prefix**"
   ]
  },
  {
   "cell_type": "markdown",
   "metadata": {},
   "source": [
    "It is worth gong through the list and reading the description for each extension. By clicking on the name "
   ]
  },
  {
   "cell_type": "markdown",
   "metadata": {},
   "source": [
    "\n",
    "# Other tricks"
   ]
  },
  {
   "cell_type": "markdown",
   "metadata": {},
   "source": [
    "Here we have a miscellany of things we can do. The first is if you want to search which versions of Python and iPython are available. In some cases it's possible to downgrade your version. In the syntax below replacing python with ipython lists those versions instead."
   ]
  },
  {
   "cell_type": "code",
   "execution_count": null,
   "metadata": {
    "ExecuteTime": {
     "end_time": "2023-06-05T23:13:23.947060Z",
     "start_time": "2023-06-05T23:13:14.227073Z"
    }
   },
   "outputs": [],
   "source": [
    "conda search python"
   ]
  },
  {
   "cell_type": "markdown",
   "metadata": {},
   "source": [
    "To install a particular version (in my example it's 2.7.13"
   ]
  },
  {
   "cell_type": "code",
   "execution_count": null,
   "metadata": {},
   "outputs": [],
   "source": [
    "conda install python=2.7.13"
   ]
  },
  {
   "cell_type": "markdown",
   "metadata": {},
   "source": [
    "You can find the archive at https://repo.anaconda.com/archive/"
   ]
  },
  {
   "cell_type": "markdown",
   "metadata": {},
   "source": [
    "To see which versions are running try the command below"
   ]
  },
  {
   "cell_type": "code",
   "execution_count": null,
   "metadata": {
    "ExecuteTime": {
     "end_time": "2023-06-06T00:31:12.458239Z",
     "start_time": "2023-06-06T00:30:56.216312Z"
    }
   },
   "outputs": [],
   "source": [
    "conda list"
   ]
  },
  {
   "cell_type": "markdown",
   "metadata": {},
   "source": [
    "## Running code"
   ]
  },
  {
   "cell_type": "markdown",
   "metadata": {},
   "source": [
    "**Line Numbers:** To switch on (or off) line number display, use **Esc L** when in command mode"
   ]
  },
  {
   "cell_type": "code",
   "execution_count": null,
   "metadata": {},
   "outputs": [],
   "source": [
    "help(print)"
   ]
  },
  {
   "cell_type": "markdown",
   "metadata": {},
   "source": [
    "**Getting help - Why it can be okay to Google stuff**\n",
    "\n",
    "As mathematicians we certainly don't bother remembering dozens of results from differentiation and integration. As long as we can recall the standard important ones; there are tables of derivatives and integrals we can consult. Similarly no one has the time to memorise every single Python function they'll ever need to use (and even if they did, it would be a very inefficient use of their time). Beyond a very small handful of functions, you're not expected to memorise the commands we cover in this course, and you should never hesitate to look for help online when you get stuck. Standard sources are\n",
    "\n",
    "* Stackoverflow: https://stackoverflow.com/  **This comes with a health warning**\n",
    "* Python documentation: https://docs.python.org/3/\n",
    "* Google (obviously)\n",
    "\n",
    "and many more. That said, the first does come with a health warning - answers on the forum can be very confusing or complex, particularly when a simple solution is sought!"
   ]
  },
  {
   "cell_type": "markdown",
   "metadata": {},
   "source": [
    "**Comments in Python**"
   ]
  },
  {
   "cell_type": "markdown",
   "metadata": {},
   "source": [
    "As with all languages we can do single line comments or multi-line commenting"
   ]
  },
  {
   "cell_type": "code",
   "execution_count": null,
   "metadata": {},
   "outputs": [],
   "source": [
    "# Anything following the octothorp for comments on one line"
   ]
  },
  {
   "cell_type": "code",
   "execution_count": null,
   "metadata": {
    "ExecuteTime": {
     "end_time": "2023-06-06T00:36:32.694749Z",
     "start_time": "2023-06-06T00:36:32.676798Z"
    }
   },
   "outputs": [],
   "source": [
    "print('This is what comments over several lines looks like')\n",
    "'''\n",
    "This is a multiline\n",
    "comment. Ignored by the interpreter.\n",
    "'''\n",
    "import math\n",
    "\n",
    "print('However, try removing the two Python statements and running, what do you notice?')"
   ]
  },
  {
   "cell_type": "markdown",
   "metadata": {},
   "source": [
    "A complete list of Python keywords is available in the **keyword** module:"
   ]
  },
  {
   "cell_type": "code",
   "execution_count": null,
   "metadata": {
    "ExecuteTime": {
     "end_time": "2023-06-06T07:56:37.446818Z",
     "start_time": "2023-06-06T07:56:37.439866Z"
    }
   },
   "outputs": [],
   "source": [
    "import keyword # tests for Python keywords"
   ]
  },
  {
   "cell_type": "markdown",
   "metadata": {},
   "source": [
    "Let's see the list below, some of which we will be using later"
   ]
  },
  {
   "cell_type": "code",
   "execution_count": null,
   "metadata": {
    "ExecuteTime": {
     "end_time": "2023-06-06T07:56:38.946137Z",
     "start_time": "2023-06-06T07:56:38.927180Z"
    }
   },
   "outputs": [],
   "source": [
    "keyword.kwlist # the dot is object oriented notation. These are reserved words in Python "
   ]
  },
  {
   "cell_type": "markdown",
   "metadata": {},
   "source": [
    "## Builtin Documentation\n",
    "Jupyter notebooks are being updated with amazing speed, which means continuous inclusion of very helpful functions. One of the most useful of this platform is to shorten the learning curve by offering efficient help/documentation search. The following are the various ways to access *doc string*.\n",
    "\n",
    "* accessing documentation with ``?``<br><br>\n",
    "* accessing source code with ``??``<br><br>\n",
    "* exploring modules with Tab-Completion"
   ]
  },
  {
   "cell_type": "markdown",
   "metadata": {},
   "source": [
    "## Importing Modules/Libraries\n",
    "A major feature of Python as an ecosystem, compared to just being a programming language, is the availability of a large number of libraries and tools. These libraries and tools generally have to be imported when needed (e.g. a plotting library) or have to be started as a separate system process (e.g., a Python development environment). Those of you familiar with (say) Matlab and R will know that they come with a pre-bundled set of modules of various aspects of scientific computing. Importing means making a library available to the current namespace and the current Python interpreter process. The reserved word import is used; just as in C++ where the prefix #include is the syntax for importing a library.  \n",
    "\n",
    "Python itself already comes with a large set of libraries that enhance the basic interpreter in different directions. For example, basic mathematical calculations; I/O; string manipulation, can be done without any importing, while operations requiring (say) more complex mathematical functions need to be imported through the math library. When a Python program starts it only has access to a basic functions and classes.\n",
    "\n",
    "   (\"int\", \"dict\", \"len\", \"sum\", \"range\", ...)\n",
    "“Modules” contain additional functionality. Use the command “import” to tell Python to load a module, e.g."
   ]
  },
  {
   "cell_type": "code",
   "execution_count": null,
   "metadata": {
    "ExecuteTime": {
     "end_time": "2023-06-06T11:18:28.358879Z",
     "start_time": "2023-06-06T11:18:24.843719Z"
    }
   },
   "outputs": [],
   "source": [
    "import matplotlib # graphics library\n",
    "import scipy # scientific python \n",
    "import nltk  # for natural language processing \n",
    "import numpy # numerical library and manipulating arrays - flagship\n",
    "import pandas # panel data - series and dataframes - also flagship"
   ]
  },
  {
   "cell_type": "markdown",
   "metadata": {},
   "source": [
    "Let's see what modules are now in the directory"
   ]
  },
  {
   "cell_type": "code",
   "execution_count": null,
   "metadata": {
    "ExecuteTime": {
     "end_time": "2023-06-06T11:18:35.990459Z",
     "start_time": "2023-06-06T11:18:35.977494Z"
    },
    "scrolled": true
   },
   "outputs": [],
   "source": [
    "dir()"
   ]
  },
  {
   "cell_type": "markdown",
   "metadata": {},
   "source": [
    "After using any of the modules, if we have no further use, the reserved word <span style=\"color:green\">del</span> can be used to remove an imported module. Let's remove nltk and check the directory"
   ]
  },
  {
   "cell_type": "code",
   "execution_count": null,
   "metadata": {},
   "outputs": [],
   "source": [
    "del nltk\n",
    "dir()"
   ]
  },
  {
   "cell_type": "markdown",
   "metadata": {},
   "source": [
    "This reserved word can also be used to delete imported functions. "
   ]
  },
  {
   "cell_type": "markdown",
   "metadata": {},
   "source": [
    "Use of object notation is encouraged. The method gives the programmer more control and the code is more readable. numpy is used as an example. We will import numpy and henceforth use the object np. So the syntax is "
   ]
  },
  {
   "cell_type": "code",
   "execution_count": null,
   "metadata": {
    "ExecuteTime": {
     "end_time": "2023-01-13T18:19:30.184452Z",
     "start_time": "2023-01-13T18:19:30.172457Z"
    }
   },
   "outputs": [],
   "source": [
    "import numpy as np # this is good programming. "
   ]
  },
  {
   "cell_type": "markdown",
   "metadata": {},
   "source": [
    "Each time in code mode you type np. you are offered the auto-complete option"
   ]
  },
  {
   "cell_type": "code",
   "execution_count": null,
   "metadata": {
    "ExecuteTime": {
     "end_time": "2023-06-06T11:34:26.300162Z",
     "start_time": "2023-06-06T11:34:26.287169Z"
    }
   },
   "outputs": [],
   "source": [
    "np.__version__ # gives the current version. Note that these are double underscores pre and proceding version"
   ]
  },
  {
   "cell_type": "markdown",
   "metadata": {},
   "source": [
    "For finance based work there are two useful sources (more on this later) - \n",
    "\n",
    "https://uk.finance.yahoo.com/\n",
    "\n",
    "https://www.alphavantage.co/"
   ]
  },
  {
   "cell_type": "markdown",
   "metadata": {},
   "source": [
    "## Magics\n",
    "Notebooks have built-in special commands called **magics**. These commands are preceded by % or %%.\n",
    "\n",
    "%: all command arguments come from that same line. These are called **line magics**.\n",
    "\n",
    "%%: the entire cell will be used as the command arguments, hence called **cell magics**.\n",
    "\n",
    "Let's list these available magics\n"
   ]
  },
  {
   "cell_type": "code",
   "execution_count": null,
   "metadata": {
    "ExecuteTime": {
     "end_time": "2023-06-06T11:34:40.640178Z",
     "start_time": "2023-06-06T11:34:40.631172Z"
    }
   },
   "outputs": [],
   "source": [
    "lsmagic # this works without %"
   ]
  },
  {
   "cell_type": "markdown",
   "metadata": {},
   "source": [
    "Here's a comprehensive [list](https://ipython.readthedocs.io/en/stable/interactive/magics.html) of magics with examples of use "
   ]
  },
  {
   "cell_type": "code",
   "execution_count": null,
   "metadata": {
    "ExecuteTime": {
     "end_time": "2023-01-13T18:23:27.759753Z",
     "start_time": "2023-01-13T18:23:27.753759Z"
    }
   },
   "outputs": [],
   "source": [
    "%pwd # print working directory"
   ]
  },
  {
   "cell_type": "markdown",
   "metadata": {},
   "source": [
    "The latex below has been written in markdown\n",
    "$$\\alpha+\\gamma$$\n",
    "\n",
    "$$\\frac{x}{y}$$\n",
    "\n",
    "$$\\int_{-\\infty}^{\\infty} e^{-x^2} dx = \\sqrt{\\pi}$$\n",
    "What happens if this were done in code mode?"
   ]
  },
  {
   "cell_type": "code",
   "execution_count": null,
   "metadata": {
    "ExecuteTime": {
     "end_time": "2023-01-13T18:24:49.043996Z",
     "start_time": "2023-01-13T18:24:49.026012Z"
    }
   },
   "outputs": [],
   "source": [
    "%%latex # with this cell magic all latex code goes in this cell?\n",
    "$$\\alpha+\\gamma$$\n",
    "\n",
    "$$\\frac{x}{y}$$\n",
    "\n",
    "\n",
    "$$\\int_{-\\infty}^{\\infty} e^{-x^2} dx = \\sqrt{\\pi}$$\n"
   ]
  },
  {
   "cell_type": "markdown",
   "metadata": {},
   "source": [
    "There is a myriad of resources for learning latex, simply Google it. Here's a couple that sprang up\n",
    "\n",
    "https://oeis.org/wiki/List_of_LaTeX_mathematical_symbols\n",
    "\n",
    "http://www.docs.is.ed.ac.uk/skills/documents/3722/3722-2014.pdf\n",
    "\n",
    "https://www.overleaf.com/"
   ]
  },
  {
   "cell_type": "markdown",
   "metadata": {},
   "source": [
    "Another cell magic listed above is time. This provides a cell execution time"
   ]
  },
  {
   "cell_type": "code",
   "execution_count": null,
   "metadata": {
    "ExecuteTime": {
     "end_time": "2023-06-06T07:57:01.881495Z",
     "start_time": "2023-06-06T07:56:56.527021Z"
    }
   },
   "outputs": [],
   "source": [
    "%%timeit\n",
    "x=10**121111"
   ]
  },
  {
   "cell_type": "markdown",
   "metadata": {},
   "source": [
    "An IPython magic extension for printing date and time stamps, version numbers, and hardware information."
   ]
  },
  {
   "cell_type": "code",
   "execution_count": null,
   "metadata": {
    "ExecuteTime": {
     "end_time": "2023-06-06T11:43:08.518037Z",
     "start_time": "2023-06-06T11:43:08.468172Z"
    }
   },
   "outputs": [],
   "source": [
    "from watermark import watermark\n",
    "%load_ext watermark\n",
    "%watermark -a \"Riaz Ahmad\" -u -d -v -m -iv"
   ]
  },
  {
   "cell_type": "code",
   "execution_count": null,
   "metadata": {
    "ExecuteTime": {
     "end_time": "2023-06-06T12:01:55.522462Z",
     "start_time": "2023-06-06T12:01:55.515452Z"
    }
   },
   "outputs": [],
   "source": [
    "%%markdown\n",
    "<h1> Hello </h1>\n",
    "<h2> Hello</h3>\n",
    "<h3> Hello</h3>\n",
    "<h4> Hello</h3>\n"
   ]
  },
  {
   "cell_type": "markdown",
   "metadata": {},
   "source": [
    "## Spell check\n",
    "Given that notebooks have become an integral part of presentations, it's important that where possible typos and corrected. Although there isn't a spell check built-in, one can be imported using the following commands in Anaconda   "
   ]
  },
  {
   "cell_type": "markdown",
   "metadata": {},
   "source": [
    "pip install jupyter_contrib_nbextensions\n",
    "\n",
    "jupyter contrib nbextension install --user\n",
    "\n",
    "jupyter nbextension enable spellchecker/main"
   ]
  },
  {
   "cell_type": "markdown",
   "metadata": {},
   "source": [
    "Words not recognized by spell check are highlighted."
   ]
  },
  {
   "cell_type": "markdown",
   "metadata": {},
   "source": [
    "Python's simplest built in data types (atoms):\n",
    "\n",
    "1. booleans\n",
    "2. integers\n",
    "3. floats\n",
    "4. strings"
   ]
  },
  {
   "cell_type": "markdown",
   "metadata": {},
   "source": [
    "* These are essentially the 'atoms' that make up the larger 'molecules'\n",
    "* The object type determines what can be done with the data and whether the contents can be changed (mutable or un-mutable).\n",
    "* Python is strongly typed - and object does not change.\n",
    "\n",
    "The official definition of **strongly typed** is:\n",
    "A language in which each type of data (such as integer, character, hexadecimal, packed decimal, etc.) is predefined as part of the programming language and all constants or variables defined for a given program must be described with one of the data types. "
   ]
  },
  {
   "cell_type": "markdown",
   "metadata": {},
   "source": [
    "There are a number of data structures in Python. We will introduce three basic types; **lists** e.g. [\"Beijing\", \"Shanghai\", \"Chengdu] and **tuples** e.g. (\"Shanghai\", 7). In addition the dictionary structure will be covered. "
   ]
  },
  {
   "cell_type": "markdown",
   "metadata": {},
   "source": [
    "## Traditional First Programme\n",
    "If you are familiar with the basics of programming, feel free to skip this section.\n",
    "\n",
    "It is customary to be introduced to any new language by writing the first programme/code that simply outputs a greeting message to the screen. In e.g. C++ such a programme gives a lot of insight to the structure of a programme. So to conform with tradition we do something similar. \n"
   ]
  },
  {
   "cell_type": "code",
   "execution_count": null,
   "metadata": {},
   "outputs": [],
   "source": [
    "print('hello')"
   ]
  },
  {
   "cell_type": "code",
   "execution_count": null,
   "metadata": {},
   "outputs": [],
   "source": [
    "print(\"hello again\")"
   ]
  },
  {
   "cell_type": "markdown",
   "metadata": {},
   "source": [
    "What do you think will happen upon running the next cell?"
   ]
  },
  {
   "cell_type": "code",
   "execution_count": null,
   "metadata": {},
   "outputs": [],
   "source": [
    "print \"hello?\""
   ]
  },
  {
   "cell_type": "markdown",
   "metadata": {},
   "source": [
    "Note single quoted and double quoted are the same – Python is one of a few programming languages where ' ' and \" \" have the same functionality. A general rule of thumb is to choose one and stick with it. Later we will discuss when there may be exceptions to this rule. Comments follow the octothorpe character #. A string is a sequence of characters enclosed in single or double quotes. For those familiar with version 2 of Python, you will note the insistence in version 3 with the use of brackets, as print is a function.\n",
    "\n",
    "You must remain consistent with quote marks, i.e. you will not write ' ....... \".\n",
    "\n",
    "Strings are of lesser importance for computational finance, although they are frequently encountered when dealing with data files, especially when importing or when formatting output. Use of strings can facilitate user friendly code."
   ]
  },
  {
   "cell_type": "markdown",
   "metadata": {},
   "source": [
    "### Python is interactive - using as a calculator\n",
    "What makes Python particularly fun is it's interactive nature. You can receive immediate feedback for for each statement, while running previously fed statements in active memory. This also allows the use of interactive mode as a calculator. Here are a few examples: $x+y$, $z^n$, $\\sqrt{m}$"
   ]
  },
  {
   "cell_type": "code",
   "execution_count": null,
   "metadata": {},
   "outputs": [],
   "source": [
    "3+2 "
   ]
  },
  {
   "cell_type": "markdown",
   "metadata": {},
   "source": [
    "What about $a^b$? Note it is not expressed as $a$^$b$. This is written a**b"
   ]
  },
  {
   "cell_type": "code",
   "execution_count": null,
   "metadata": {},
   "outputs": [],
   "source": [
    "8**3 # 8^3"
   ]
  },
  {
   "cell_type": "code",
   "execution_count": null,
   "metadata": {
    "ExecuteTime": {
     "end_time": "2023-06-06T22:01:11.686821Z",
     "start_time": "2023-06-06T22:01:11.680808Z"
    }
   },
   "outputs": [],
   "source": [
    "import math as math"
   ]
  },
  {
   "cell_type": "code",
   "execution_count": null,
   "metadata": {
    "ExecuteTime": {
     "end_time": "2023-06-06T20:08:00.845869Z",
     "start_time": "2023-06-06T20:08:00.832879Z"
    }
   },
   "outputs": [],
   "source": [
    "from math import * # this is an example of bad programming"
   ]
  },
  {
   "cell_type": "code",
   "execution_count": null,
   "metadata": {
    "ExecuteTime": {
     "end_time": "2023-06-06T22:01:16.251184Z",
     "start_time": "2023-06-06T22:01:16.235197Z"
    }
   },
   "outputs": [],
   "source": [
    "math.pi"
   ]
  },
  {
   "cell_type": "code",
   "execution_count": null,
   "metadata": {
    "ExecuteTime": {
     "end_time": "2023-06-06T22:01:32.886586Z",
     "start_time": "2023-06-06T22:01:32.876586Z"
    }
   },
   "outputs": [],
   "source": [
    "from math import sqrt\n",
    "import math as math # this is good programming\n",
    "math.sqrt(16) "
   ]
  },
  {
   "cell_type": "code",
   "execution_count": null,
   "metadata": {
    "ExecuteTime": {
     "end_time": "2023-06-06T22:01:34.877403Z",
     "start_time": "2023-06-06T22:01:34.863412Z"
    }
   },
   "outputs": [],
   "source": [
    "del sqrt"
   ]
  },
  {
   "cell_type": "markdown",
   "metadata": {},
   "source": [
    "The last operation has been performed without importing the math library. The following command will now produce a result"
   ]
  },
  {
   "cell_type": "code",
   "execution_count": null,
   "metadata": {
    "ExecuteTime": {
     "end_time": "2023-01-13T18:40:36.705560Z",
     "start_time": "2023-01-13T18:40:36.699549Z"
    }
   },
   "outputs": [],
   "source": [
    "from math import sqrt\n",
    "sqrt(16)"
   ]
  },
  {
   "cell_type": "code",
   "execution_count": null,
   "metadata": {
    "ExecuteTime": {
     "end_time": "2023-01-13T18:40:38.351235Z",
     "start_time": "2023-01-13T18:40:38.335329Z"
    }
   },
   "outputs": [],
   "source": [
    "del sqrt # this will delete the square root function"
   ]
  },
  {
   "cell_type": "markdown",
   "metadata": {},
   "source": [
    "Multiple statements can be expressed on the same line separated by commas"
   ]
  },
  {
   "cell_type": "code",
   "execution_count": null,
   "metadata": {
    "ExecuteTime": {
     "end_time": "2023-06-06T23:49:29.346606Z",
     "start_time": "2023-06-06T23:49:29.336633Z"
    }
   },
   "outputs": [],
   "source": [
    "3+2, 8**2, math.sqrt(16)"
   ]
  },
  {
   "cell_type": "markdown",
   "metadata": {},
   "source": [
    "Can we group these operations?"
   ]
  },
  {
   "cell_type": "code",
   "execution_count": null,
   "metadata": {
    "ExecuteTime": {
     "end_time": "2023-06-06T23:49:38.269562Z",
     "start_time": "2023-06-06T23:49:38.255571Z"
    }
   },
   "outputs": [],
   "source": [
    "x=(3+2, 8**2, math.sqrt(16))\n",
    "print(x)"
   ]
  },
  {
   "cell_type": "markdown",
   "metadata": {},
   "source": [
    "What happens if you use semi-colons? Try it!\n",
    "\n",
    "If you’ve used semicolons in C++ or Java, you will appreciate they are an integral part of their syntax. Interestingly they have no use in Python. In fact, it’s not even considered “Pythonic” to use semicolons. If we wish to give them some importance, then a semicolon may be used to separate multiple commands on a single line.\n",
    "\n",
    "In Python groups of statements are executed one after the other:"
   ]
  },
  {
   "cell_type": "code",
   "execution_count": null,
   "metadata": {
    "ExecuteTime": {
     "end_time": "2023-06-06T23:49:50.328545Z",
     "start_time": "2023-06-06T23:49:50.322591Z"
    }
   },
   "outputs": [],
   "source": [
    "3+2; 8**3; math.sqrt(16)"
   ]
  },
  {
   "cell_type": "code",
   "execution_count": null,
   "metadata": {
    "ExecuteTime": {
     "end_time": "2023-01-13T18:53:54.384708Z",
     "start_time": "2023-01-13T18:53:54.380688Z"
    }
   },
   "outputs": [],
   "source": [
    "3+2,\n",
    "8**2, \n",
    "math.sqrt(16)"
   ]
  },
  {
   "cell_type": "code",
   "execution_count": null,
   "metadata": {
    "ExecuteTime": {
     "end_time": "2023-06-06T23:50:03.741888Z",
     "start_time": "2023-06-06T23:50:03.734912Z"
    }
   },
   "outputs": [],
   "source": [
    "math.exp(1.0) # exponential function"
   ]
  },
  {
   "cell_type": "markdown",
   "metadata": {},
   "source": [
    "The earlier importing of the sqrt function means that each time a different function is required, it needs to be called making the use of built-in functions quite cumbersome. The following command is a lazy alternative, for beginners to Python.\n",
    "It is also an example of clumsy programming, leading to potential confusion with other libraries/you don't know where the function has come from. "
   ]
  },
  {
   "cell_type": "code",
   "execution_count": null,
   "metadata": {},
   "outputs": [],
   "source": [
    "from math import * # lazy way to use a library"
   ]
  },
  {
   "cell_type": "markdown",
   "metadata": {},
   "source": [
    "or we can adopt a short name for an imported module (which is a popular technique)"
   ]
  },
  {
   "cell_type": "code",
   "execution_count": null,
   "metadata": {},
   "outputs": [],
   "source": [
    "import math as m # now the m is an object"
   ]
  },
  {
   "cell_type": "markdown",
   "metadata": {},
   "source": [
    "then use m. before each function call. For example using the exponential function would now be"
   ]
  },
  {
   "cell_type": "code",
   "execution_count": null,
   "metadata": {},
   "outputs": [],
   "source": [
    "m.exp(1.0)"
   ]
  },
  {
   "cell_type": "code",
   "execution_count": null,
   "metadata": {},
   "outputs": [],
   "source": [
    "print(math.sqrt)"
   ]
  },
  {
   "cell_type": "code",
   "execution_count": null,
   "metadata": {
    "ExecuteTime": {
     "end_time": "2023-06-07T00:23:07.271213Z",
     "start_time": "2023-06-07T00:23:07.252233Z"
    }
   },
   "outputs": [],
   "source": [
    "math.log?"
   ]
  },
  {
   "cell_type": "markdown",
   "metadata": {},
   "source": [
    "The last method is advisable and easy to read (not to mention efficient)"
   ]
  },
  {
   "cell_type": "markdown",
   "metadata": {},
   "source": [
    "## The $\\log$ function\n",
    "The standard bases for a numeric value $x$ are logarithm \n",
    "\n",
    "**base 10** log10(x)\n",
    "\n",
    "**base 2** log2(x)\n",
    "\n",
    "**base e** log(x)\n",
    "\n",
    "And for any general base $a$ is log(x,a). Consider the following examples\n"
   ]
  },
  {
   "cell_type": "code",
   "execution_count": null,
   "metadata": {
    "ExecuteTime": {
     "end_time": "2023-06-07T00:23:20.935347Z",
     "start_time": "2023-06-07T00:23:20.918393Z"
    }
   },
   "outputs": [],
   "source": [
    "math.log10(4), math.log(4,10)"
   ]
  },
  {
   "cell_type": "code",
   "execution_count": null,
   "metadata": {
    "ExecuteTime": {
     "end_time": "2023-06-07T00:23:40.597027Z",
     "start_time": "2023-06-07T00:23:40.583036Z"
    }
   },
   "outputs": [],
   "source": [
    "math.log(14,5)"
   ]
  },
  {
   "cell_type": "code",
   "execution_count": null,
   "metadata": {
    "ExecuteTime": {
     "end_time": "2023-06-07T00:23:42.420860Z",
     "start_time": "2023-06-07T00:23:42.414905Z"
    }
   },
   "outputs": [],
   "source": [
    "math.log(14), math.log(14,math.e)"
   ]
  },
  {
   "cell_type": "markdown",
   "metadata": {},
   "source": [
    "This is the methods approach in OOP.\n",
    "The notation m.exp(1.0) is a first example of object-oriented programming (OOP). Being a mathematical function, the object m owns the method function that is called using the dot\n",
    "notation. No further knowledge of OOP than understanding the notation . is required at this stage.\n",
    "This differs from function(.....)"
   ]
  },
  {
   "cell_type": "markdown",
   "metadata": {},
   "source": [
    "**A comprehensive list of mathematical functions can be obtained from**\n",
    "https://docs.python.org/2/library/math.html"
   ]
  },
  {
   "cell_type": "markdown",
   "metadata": {},
   "source": [
    "## tab and autocomplete\n",
    "<img src=\"./img/tab.png\" style=\"width:350px\">"
   ]
  },
  {
   "cell_type": "code",
   "execution_count": null,
   "metadata": {
    "ExecuteTime": {
     "end_time": "2023-06-07T00:31:14.108581Z",
     "start_time": "2023-06-07T00:31:13.624847Z"
    }
   },
   "outputs": [],
   "source": [
    "math.cos()# type tab here"
   ]
  },
  {
   "cell_type": "code",
   "execution_count": null,
   "metadata": {
    "ExecuteTime": {
     "end_time": "2023-06-07T00:31:19.218934Z",
     "start_time": "2023-06-07T00:31:19.209916Z"
    }
   },
   "outputs": [],
   "source": [
    "math.sin(math.pi/2)"
   ]
  },
  {
   "cell_type": "markdown",
   "metadata": {},
   "source": [
    "Having seen the advantage of autocomplete (using the tab key) there is another useful step. Suppose we wish to see the parameter/argument list of any built-in function e.g. the log function. Here type m.log()\n",
    "Then with the cursor inside the parenthesis **shift tab** displays the (shortened) list; while doing it twice shows the complete list."
   ]
  },
  {
   "cell_type": "markdown",
   "metadata": {},
   "source": [
    "<img src=\"./img/auto.png\" style=\"width:650px\">"
   ]
  },
  {
   "cell_type": "markdown",
   "metadata": {},
   "source": [
    "Try the above with a different function here"
   ]
  },
  {
   "cell_type": "markdown",
   "metadata": {},
   "source": [
    "The **factorial function** denoted **!** is written $n$! = $n(n-1)(n-2)...3.2.1$ <br>\n",
    "The math library has the function factorial which can be invoked using math.factorial(n)"
   ]
  },
  {
   "cell_type": "code",
   "execution_count": null,
   "metadata": {
    "ExecuteTime": {
     "end_time": "2023-01-13T19:04:19.312527Z",
     "start_time": "2023-01-13T19:04:19.302583Z"
    }
   },
   "outputs": [],
   "source": [
    "math.factorial(10)"
   ]
  },
  {
   "cell_type": "markdown",
   "metadata": {},
   "source": [
    "Since $n!$ increases extremely fast, it is sometimes useful to know Stirling’s formula:"
   ]
  },
  {
   "cell_type": "markdown",
   "metadata": {},
   "source": [
    "$$n!  \\sim \\sqrt{2\\pi}n^{n+\\frac{1}{2}}e^{-n}$$"
   ]
  },
  {
   "cell_type": "code",
   "execution_count": null,
   "metadata": {
    "ExecuteTime": {
     "end_time": "2023-06-07T00:32:34.876169Z",
     "start_time": "2023-06-07T00:32:34.868190Z"
    }
   },
   "outputs": [],
   "source": [
    "(math.factorial(100)/(math.factorial(50)*math.factorial(50)))*0.65**50*0.35**50"
   ]
  },
  {
   "cell_type": "code",
   "execution_count": null,
   "metadata": {
    "ExecuteTime": {
     "end_time": "2023-01-13T19:01:58.622968Z",
     "start_time": "2023-01-13T19:01:58.612010Z"
    }
   },
   "outputs": [],
   "source": [
    "from math import *"
   ]
  },
  {
   "cell_type": "code",
   "execution_count": null,
   "metadata": {
    "ExecuteTime": {
     "end_time": "2023-06-07T00:33:23.427299Z",
     "start_time": "2023-06-07T00:33:23.409348Z"
    }
   },
   "outputs": [],
   "source": [
    "math.sqrt(2*math.pi)*math.exp(-10)*10**(10+0.5)"
   ]
  },
  {
   "cell_type": "markdown",
   "metadata": {},
   "source": [
    "# Strings and operations "
   ]
  },
  {
   "cell_type": "markdown",
   "metadata": {},
   "source": [
    "A **string** is a sequence of characters, comprising of letters, numbers or symbols. In some languages a string is defined as an array of characters. We have already discussed the defining of an array using single or double speech marks. "
   ]
  },
  {
   "cell_type": "markdown",
   "metadata": {},
   "source": [
    "An empty string can also be created by a pair of single quotes or double quotes with nothing within the quotation marks."
   ]
  },
  {
   "cell_type": "code",
   "execution_count": null,
   "metadata": {
    "ExecuteTime": {
     "end_time": "2023-06-07T14:24:09.659589Z",
     "start_time": "2023-06-07T14:24:09.649616Z"
    }
   },
   "outputs": [],
   "source": [
    "str1=''\n",
    "str2=\"\"\n",
    "print(\"string 1 is, \", str1, \"i.e.empty\")\n",
    "print(\"string 2 is, \", str2, \"i.e.empty\")"
   ]
  },
  {
   "cell_type": "code",
   "execution_count": null,
   "metadata": {
    "ExecuteTime": {
     "end_time": "2023-06-07T14:24:17.334847Z",
     "start_time": "2023-06-07T14:24:17.322879Z"
    }
   },
   "outputs": [],
   "source": [
    "str1?"
   ]
  },
  {
   "cell_type": "markdown",
   "metadata": {},
   "source": [
    "Two strings can be joined/added together (concatenated) using the **+** operator:"
   ]
  },
  {
   "cell_type": "code",
   "execution_count": null,
   "metadata": {
    "ExecuteTime": {
     "end_time": "2023-01-13T19:10:37.330184Z",
     "start_time": "2023-01-13T19:10:37.317205Z"
    }
   },
   "outputs": [],
   "source": [
    "\"Hello, \"+\"Riaz!\""
   ]
  },
  {
   "cell_type": "markdown",
   "metadata": {},
   "source": [
    "This joining together of strings is very simple; however if you want words split by a space you have to put the space in. Here are some examples"
   ]
  },
  {
   "cell_type": "code",
   "execution_count": null,
   "metadata": {
    "ExecuteTime": {
     "end_time": "2023-01-13T19:10:39.716205Z",
     "start_time": "2023-01-13T19:10:39.710194Z"
    }
   },
   "outputs": [],
   "source": [
    "\"Hello, \"   +  \"world!\" # space after the comma"
   ]
  },
  {
   "cell_type": "code",
   "execution_count": null,
   "metadata": {
    "ExecuteTime": {
     "end_time": "2023-01-13T19:10:40.345117Z",
     "start_time": "2023-01-13T19:10:40.329131Z"
    }
   },
   "outputs": [],
   "source": [
    "\"Hello,\"  +  \" world!\" # space before second word"
   ]
  },
  {
   "cell_type": "code",
   "execution_count": null,
   "metadata": {
    "ExecuteTime": {
     "end_time": "2023-01-13T19:10:40.926603Z",
     "start_time": "2023-01-13T19:10:40.917625Z"
    }
   },
   "outputs": [],
   "source": [
    "\"Hello,\"  +  \"world!\" # no spaces included\n"
   ]
  },
  {
   "cell_type": "markdown",
   "metadata": {},
   "source": [
    "Text is a string of characters. Text can be converted to genuine integers using a built-in function int()"
   ]
  },
  {
   "cell_type": "code",
   "execution_count": null,
   "metadata": {
    "ExecuteTime": {
     "end_time": "2023-01-13T19:23:04.785266Z",
     "start_time": "2023-01-13T19:23:04.776292Z"
    }
   },
   "outputs": [],
   "source": [
    "x=int(\"10\")\n",
    "type(x) #function type returns the data tyep"
   ]
  },
  {
   "cell_type": "code",
   "execution_count": null,
   "metadata": {
    "ExecuteTime": {
     "end_time": "2023-01-13T19:23:06.274432Z",
     "start_time": "2023-01-13T19:23:06.260442Z"
    }
   },
   "outputs": [],
   "source": [
    "int(\"-100\")"
   ]
  },
  {
   "cell_type": "code",
   "execution_count": null,
   "metadata": {
    "ExecuteTime": {
     "end_time": "2023-01-13T19:23:09.669402Z",
     "start_time": "2023-01-13T19:23:09.647490Z"
    }
   },
   "outputs": [],
   "source": [
    "int(\"100-10\") # this gives an error"
   ]
  },
  {
   "cell_type": "markdown",
   "metadata": {},
   "source": [
    "The following is allowed "
   ]
  },
  {
   "cell_type": "code",
   "execution_count": null,
   "metadata": {
    "ExecuteTime": {
     "end_time": "2023-01-13T19:23:12.009016Z",
     "start_time": "2023-01-13T19:23:12.004005Z"
    }
   },
   "outputs": [],
   "source": [
    "int('10')-int(\"100\")"
   ]
  },
  {
   "cell_type": "code",
   "execution_count": null,
   "metadata": {
    "ExecuteTime": {
     "end_time": "2023-01-13T19:23:16.018481Z",
     "start_time": "2023-01-13T19:23:16.013493Z"
    }
   },
   "outputs": [],
   "source": [
    "int(90.3)"
   ]
  },
  {
   "cell_type": "markdown",
   "metadata": {},
   "source": [
    "## Escape sequences\n",
    "\n",
    "Like C++, Python also has escape sequences for string literals, to insert whitespace into strings. \n",
    "\n",
    "Two commonly used ones are the new line code **\\n** and the tab code **\\t**."
   ]
  },
  {
   "cell_type": "code",
   "execution_count": null,
   "metadata": {
    "ExecuteTime": {
     "end_time": "2023-06-07T14:54:42.317278Z",
     "start_time": "2023-06-07T14:54:42.298301Z"
    }
   },
   "outputs": [],
   "source": [
    "print(\"Hello, \\nworld\") # inserts a new line"
   ]
  },
  {
   "cell_type": "code",
   "execution_count": null,
   "metadata": {
    "ExecuteTime": {
     "end_time": "2023-06-07T14:54:44.212548Z",
     "start_time": "2023-06-07T14:54:44.194596Z"
    }
   },
   "outputs": [],
   "source": [
    "print(\"Hello, \\tworld\") # inserts a tab"
   ]
  },
  {
   "cell_type": "markdown",
   "metadata": {},
   "source": [
    "In Python 3, by default the tab size is 4 chars. There are also others:"
   ]
  },
  {
   "cell_type": "markdown",
   "metadata": {},
   "source": [
    "\\r = carriage return (basically also used for printing stuff on the next line)\n",
    "\n",
    "\\’ = print a single quote ( ‘ ) in your text\n",
    "\n",
    "\\” = print a double quote ( “ ) in your text\n",
    "\n",
    "\\\\ = print a backslash ( \\ ) in your text\n"
   ]
  },
  {
   "cell_type": "code",
   "execution_count": null,
   "metadata": {
    "ExecuteTime": {
     "end_time": "2023-01-13T19:31:26.065019Z",
     "start_time": "2023-01-13T19:31:26.055047Z"
    }
   },
   "outputs": [],
   "source": [
    "print(\"Hello, \\\"world\\\"\")"
   ]
  },
  {
   "cell_type": "markdown",
   "metadata": {},
   "source": [
    "## String length\n",
    "\n",
    "To find out the length of a string, use the function **len()**:"
   ]
  },
  {
   "cell_type": "code",
   "execution_count": null,
   "metadata": {},
   "outputs": [],
   "source": [
    "len(\"supercalifragilisticexpialidocious\") # from Mary Poppins"
   ]
  },
  {
   "cell_type": "code",
   "execution_count": null,
   "metadata": {},
   "outputs": [],
   "source": [
    "len(\"supercali fragilisticexpialidocious\") # whitespace is also counted"
   ]
  },
  {
   "cell_type": "markdown",
   "metadata": {},
   "source": [
    "We can join several copies of a string with the operator *"
   ]
  },
  {
   "cell_type": "code",
   "execution_count": null,
   "metadata": {},
   "outputs": [],
   "source": [
    "3*\"AbC\"  # nothing exciting!"
   ]
  },
  {
   "cell_type": "markdown",
   "metadata": {},
   "source": [
    "## Slicing - capturing a substring\n",
    "**Slicing** is a method used to extract a portion of the string, i.e *substrings*. Slicing uses [ ] to contain the indices of the characters in a string. A string with n characters, has the first index at 0, and the last is n-1.  Here is an example:  "
   ]
  },
  {
   "cell_type": "code",
   "execution_count": null,
   "metadata": {
    "ExecuteTime": {
     "end_time": "2023-06-07T14:58:12.951584Z",
     "start_time": "2023-06-07T14:58:12.937622Z"
    },
    "scrolled": true
   },
   "outputs": [],
   "source": [
    "string = \"is BoJo really as corrupt as is portrayed? Almost surely!\" # define a new string\n",
    "print(string[0:14]) # from 0 up to 13\n",
    "print(len(\"hopefully bojo's brexit will fail!\")) # also try len(string)\n",
    "type(string)"
   ]
  },
  {
   "cell_type": "markdown",
   "metadata": {},
   "source": [
    "Given a string variable s, the most commonly used types of slices are \n",
    "\n",
    "s[i], returns the character in position i , \n",
    "\n",
    "s[:i], which returns the leading characters from positions 0 to i-1, and \n",
    "\n",
    "s[i:], returns the trailing characters from positions i to n-1. \n",
    "\n",
    "s[i:j:k], returns the characters from i to j-1 in steps of k"
   ]
  },
  {
   "cell_type": "markdown",
   "metadata": {},
   "source": [
    "A string can be accessed from the right of the string that is the last character on the right has the index of -1. The character before last has the index of -2, and so on."
   ]
  },
  {
   "cell_type": "markdown",
   "metadata": {},
   "source": [
    "<img src=\"./img/hello string.png\" style=\"width:550px\">"
   ]
  },
  {
   "cell_type": "markdown",
   "metadata": {},
   "source": [
    "In the string “Hello!”, the character “H”, while accessing from left-to-right, has the index of 0 and while accessing from right-to-left has the index of -6. On the other hand While accessing the string elements from left-to-right index start with 0 and keep on incrementing by 1, whereas accessing the string elements from right-to-left the index starts with -1 and keep decrementing by 1. "
   ]
  },
  {
   "cell_type": "markdown",
   "metadata": {},
   "source": [
    "<br> <font color = black  size=4.5> Exercise "
   ]
  },
  {
   "cell_type": "markdown",
   "metadata": {},
   "source": [
    "Try each of the above\n",
    "\n",
    "**Run them first before asking!!**"
   ]
  },
  {
   "cell_type": "code",
   "execution_count": null,
   "metadata": {
    "ExecuteTime": {
     "end_time": "2023-01-13T19:41:15.970465Z",
     "start_time": "2023-01-13T19:41:15.965451Z"
    }
   },
   "outputs": [],
   "source": [
    "string[-2]"
   ]
  },
  {
   "cell_type": "code",
   "execution_count": null,
   "metadata": {
    "ExecuteTime": {
     "end_time": "2023-01-13T19:42:17.472949Z",
     "start_time": "2023-01-13T19:42:17.459952Z"
    }
   },
   "outputs": [],
   "source": [
    "string[-57] #-34 from the end of the string equates to position zero"
   ]
  },
  {
   "cell_type": "markdown",
   "metadata": {},
   "source": [
    "Staying with our variable called string, there are a number of methods available for manipulating variables of this type\n",
    "string. Then hit the tab key"
   ]
  },
  {
   "cell_type": "code",
   "execution_count": null,
   "metadata": {
    "ExecuteTime": {
     "end_time": "2023-01-13T19:42:29.130345Z",
     "start_time": "2023-01-13T19:42:29.112393Z"
    }
   },
   "outputs": [],
   "source": [
    "string.capitalize() # capitalises the very first letter in the string"
   ]
  },
  {
   "cell_type": "markdown",
   "metadata": {},
   "source": [
    "To convert each letter to upper case the method called upper."
   ]
  },
  {
   "cell_type": "code",
   "execution_count": null,
   "metadata": {
    "ExecuteTime": {
     "end_time": "2023-01-13T19:43:13.399337Z",
     "start_time": "2023-01-13T19:43:13.391358Z"
    }
   },
   "outputs": [],
   "source": [
    "string.upper() "
   ]
  },
  {
   "cell_type": "markdown",
   "metadata": {},
   "source": [
    "or individual characters e.g."
   ]
  },
  {
   "cell_type": "code",
   "execution_count": null,
   "metadata": {
    "ExecuteTime": {
     "end_time": "2023-01-13T19:43:52.685393Z",
     "start_time": "2023-01-13T19:43:52.670434Z"
    }
   },
   "outputs": [],
   "source": [
    "string[1].upper() "
   ]
  },
  {
   "cell_type": "markdown",
   "metadata": {},
   "source": [
    "To convert each element to lower case, we can use the following:"
   ]
  },
  {
   "cell_type": "code",
   "execution_count": null,
   "metadata": {},
   "outputs": [],
   "source": [
    "\"WILL DR TRUMP BE A ONE TERM PRESIDENT?\".lower() # actually we know the answer"
   ]
  },
  {
   "cell_type": "code",
   "execution_count": null,
   "metadata": {
    "ExecuteTime": {
     "end_time": "2023-01-13T19:57:32.183283Z",
     "start_time": "2023-01-13T19:57:32.167323Z"
    }
   },
   "outputs": [],
   "source": [
    "substring=string.split() # use the split method and call it by another name\n",
    "print(substring)"
   ]
  },
  {
   "cell_type": "code",
   "execution_count": null,
   "metadata": {
    "ExecuteTime": {
     "end_time": "2023-01-13T19:57:49.351385Z",
     "start_time": "2023-01-13T19:57:49.331468Z"
    }
   },
   "outputs": [],
   "source": [
    "substring[0] # we can access each element of substring using indexing"
   ]
  },
  {
   "cell_type": "markdown",
   "metadata": {},
   "source": [
    "A string is an **immutable** object. Its individual characters cannot be modified with an assignment statement and it has a fixed length. Any attempt to be violate this property will result in TypeError\n"
   ]
  },
  {
   "cell_type": "code",
   "execution_count": null,
   "metadata": {
    "ExecuteTime": {
     "end_time": "2023-01-13T19:58:03.355388Z",
     "start_time": "2023-01-13T19:58:03.335962Z"
    }
   },
   "outputs": [],
   "source": [
    "string[0]=\"H\" # attempt to change h to H"
   ]
  },
  {
   "cell_type": "markdown",
   "metadata": {},
   "source": [
    "to use quotation marks in strings, use \\\\. We can add arbitrary quotes by escaping them:\n"
   ]
  },
  {
   "cell_type": "code",
   "execution_count": null,
   "metadata": {
    "ExecuteTime": {
     "end_time": "2023-01-13T19:58:11.996787Z",
     "start_time": "2023-01-13T19:58:11.981796Z"
    }
   },
   "outputs": [],
   "source": [
    "print(\"She said. \\\"He\\'s coming.\\\"\") # note \\\"...\\'s....\\\""
   ]
  },
  {
   "cell_type": "markdown",
   "metadata": {},
   "source": [
    "\\ is reserved.  \\n for a newline, \\t for a tabulation, \\’ . . . "
   ]
  },
  {
   "cell_type": "markdown",
   "metadata": {},
   "source": [
    "## Type()\n",
    "We can query the type of a value. The **type** function returns the type of any object. Combining types incorrectly returns an error. \n",
    "On a string it can be used as follows"
   ]
  },
  {
   "cell_type": "code",
   "execution_count": null,
   "metadata": {},
   "outputs": [],
   "source": [
    "type(string) # defined earlier"
   ]
  },
  {
   "cell_type": "code",
   "execution_count": null,
   "metadata": {
    "ExecuteTime": {
     "end_time": "2023-06-07T14:58:56.971429Z",
     "start_time": "2023-06-07T14:58:56.961456Z"
    }
   },
   "outputs": [],
   "source": [
    "type(\"hello, mum\")"
   ]
  },
  {
   "cell_type": "code",
   "execution_count": null,
   "metadata": {
    "ExecuteTime": {
     "end_time": "2023-06-07T14:59:27.574832Z",
     "start_time": "2023-06-07T14:59:27.568850Z"
    }
   },
   "outputs": [],
   "source": [
    "u=(3+2, 2**5, \"Python\")"
   ]
  },
  {
   "cell_type": "markdown",
   "metadata": {},
   "source": [
    "**Note:** Variables themselves do not have a fixed type. It is only the values they refer to that have a type. This means that the type referred to by a variable can change as more statements are interpreted. Consider the following example, we use the string variable above which we see is type str"
   ]
  },
  {
   "cell_type": "code",
   "execution_count": null,
   "metadata": {},
   "outputs": [],
   "source": [
    "var1 = 2.0\n",
    "type(var1)"
   ]
  },
  {
   "cell_type": "code",
   "execution_count": null,
   "metadata": {},
   "outputs": [],
   "source": [
    "var2 = 2\n",
    "type(var2)"
   ]
  },
  {
   "cell_type": "markdown",
   "metadata": {},
   "source": [
    "## Exercises\n",
    "\n",
    "https://docs.python.org/2/library/string.html\n",
    "\n",
    "Given the string \"How to defend yourself against a man armed with a banana\", write code to extract:\n",
    "\n",
    "1. the following substring: \"How to defend yo\"\n",
    "2. the first character only\n",
    "3. the last character only\n",
    "4. the last two characters\n",
    "5. the substring \"with a banana\"\n",
    "\n",
    "Convert the 'b' in banana to upper case"
   ]
  },
  {
   "cell_type": "markdown",
   "metadata": {},
   "source": [
    "## String Formatting - building strings\n",
    "String concatenation and (str) to format an output. String formatting is a more common (and efficient) way of building strings. String formatting has a format and values are separated by a % (i.e. the interpreter operator), i.e. format % value.\n",
    "Formats depend on the desired conversion of the values into a string\n",
    "\n",
    "**%s** is an example of a format specifier. It tells the python interpreter about what format text it will be printing."
   ]
  },
  {
   "cell_type": "code",
   "execution_count": null,
   "metadata": {
    "ExecuteTime": {
     "end_time": "2023-01-13T20:03:03.018326Z",
     "start_time": "2023-01-13T20:03:03.008381Z"
    }
   },
   "outputs": [],
   "source": [
    "lunch = \"sandwich\"\n",
    "# uses a \"%s \" as a values placeholder for a string\n",
    "'For lunch I had a %s, which I enjoyed' % lunch"
   ]
  },
  {
   "cell_type": "code",
   "execution_count": null,
   "metadata": {
    "ExecuteTime": {
     "end_time": "2023-01-13T20:03:04.572416Z",
     "start_time": "2023-01-13T20:03:04.557456Z"
    }
   },
   "outputs": [],
   "source": [
    "number=3\n",
    "\"For lunch I had %s sandwiches\" % number"
   ]
  },
  {
   "cell_type": "code",
   "execution_count": null,
   "metadata": {
    "ExecuteTime": {
     "end_time": "2023-01-13T20:03:05.272203Z",
     "start_time": "2023-01-13T20:03:05.261232Z"
    }
   },
   "outputs": [],
   "source": [
    "meal=\"brunch\"\n",
    "number=1.5\n",
    "# using a '%s ' to convert to convert a floating point number\n",
    "\" For %s I had %s sandwches \" % (meal,number)"
   ]
  },
  {
   "cell_type": "code",
   "execution_count": null,
   "metadata": {
    "ExecuteTime": {
     "end_time": "2023-01-13T20:03:06.034754Z",
     "start_time": "2023-01-13T20:03:06.021787Z"
    }
   },
   "outputs": [],
   "source": [
    "type(number)"
   ]
  },
  {
   "cell_type": "markdown",
   "metadata": {},
   "source": [
    "Run the above code with the second %s replaced with %d"
   ]
  },
  {
   "cell_type": "markdown",
   "metadata": {},
   "source": [
    "## The format() function"
   ]
  },
  {
   "cell_type": "code",
   "execution_count": null,
   "metadata": {
    "ExecuteTime": {
     "end_time": "2023-01-13T20:05:40.916894Z",
     "start_time": "2023-01-13T20:05:40.911938Z"
    }
   },
   "outputs": [],
   "source": [
    "txt = \"For only {riaz:.2f} dollars!\"\n",
    "print(txt.format(riaz = 49))"
   ]
  },
  {
   "cell_type": "code",
   "execution_count": null,
   "metadata": {},
   "outputs": [],
   "source": [
    "import random\n",
    " \n",
    "for i in range(10):\n",
    "    x = random.randrange(100000)\n",
    "    print(\"{:6,}\".format(x) )"
   ]
  },
  {
   "cell_type": "markdown",
   "metadata": {},
   "source": [
    "| Number\t| Format|\tOutput|\tDescription | \t \n",
    "|---\t|---\t|---\t|---\t|\n",
    "| 3.1415926 |\t{:.2f}\t|3.14\t|2 decimal places  \t\n",
    "|   \t|   \t|   \t|   \t|\n",
    "|   \t|   \t|   \t|   \t|\n",
    "|   \t|   \t|   \t|   \t|\n",
    "|   \t|   \t|   \t|   \t|\n",
    "|   \t|   \t|   \t|   \t|\n",
    "|   \t|   \t|   \t|   \t|\n",
    "|   \t|   \t|   \t|   \t|\n",
    "|   \t|   \t|   \t|   \t|\n",
    "|   \t|   \t|   \t|   \t|"
   ]
  },
  {
   "cell_type": "code",
   "execution_count": null,
   "metadata": {},
   "outputs": [],
   "source": [
    "meal=\"dinner\"\n",
    "number=3\n",
    "food=\"pizzas\"\n",
    "drink=\"orange juice\"\n",
    "\n",
    "\" For %s I had %s %s and an %s\" % (meal,number,food, drink)"
   ]
  },
  {
   "cell_type": "markdown",
   "metadata": {},
   "source": [
    "## Input from keyboard\n",
    "Python has a built-in function for reading input. The function **input()** can be used to request information from the user via the keyboard. Here are a couple of examples"
   ]
  },
  {
   "cell_type": "code",
   "execution_count": null,
   "metadata": {},
   "outputs": [],
   "source": [
    "x=input(\"what is the value of x? \")\n",
    "print(\"x= \", x)\n",
    "type(x)"
   ]
  },
  {
   "cell_type": "code",
   "execution_count": null,
   "metadata": {},
   "outputs": [],
   "source": [
    "name=input(\"what is your name? \")\n",
    "print(\"Hello, \",name)\n",
    "print(name[0]) # print 1st element of string"
   ]
  },
  {
   "cell_type": "markdown",
   "metadata": {},
   "source": [
    "## Exercises\n",
    "\n",
    "1. Create a program that assigns two integers, $a$ and $b$. Compute and display:\n",
    "> * The sum of a and b\n",
    "> * The difference when $b$ is subtracted from $a$\n",
    ">\n",
    "> * The product of $a$ and $b$\n",
    ">\n",
    "> * The quotient when $a$ is divided by $b$\n",
    ">\n",
    ">* The remainder when $a$ is divided by $b$\n",
    ">\n",
    ">* The result $\\log_{10}a$\n",
    ">\n",
    ">* The result $ab$"
   ]
  },
  {
   "cell_type": "markdown",
   "metadata": {},
   "source": [
    "# Data Types"
   ]
  },
  {
   "cell_type": "markdown",
   "metadata": {},
   "source": [
    "When defining variable names they should only contain numbers, letters (both upper and lower), and underscores _. They must begin with a letter or an underscore - **Python is case sensitive**. As with most languages it is important that reserved words (e.g. **import** or **for**) are not used for variable names. A reserved word in Python is a word that's either\n",
    "\n",
    "* Already the name of a built in function, like **print** or **sum** or **list**\n",
    "* Already the name of an operator, like **and**, or **or**, or **not**\n",
    "* Already the name of a type, like **int**\n",
    "\n",
    "Bad things happen if you try to make a variable that has the same name as a reserved word. So good to become familiar with the basic and frequently used reserved words.\n",
    "\n",
    "**Variable names**\n",
    "* Can be any length\n",
    "* Only characters allowed are\n",
    "    * lower case abc ... z and upper case ABC ... Z letters\n",
    "    * digits 0123456789 and underscore _\n",
    "* cannot start with a numerical value\n",
    "\n",
    "\n",
    "Here are some examples of legal user defined variable names"
   ]
  },
  {
   "cell_type": "code",
   "execution_count": null,
   "metadata": {},
   "outputs": [],
   "source": [
    "x = 1.0\n",
    "X = 1.0 \n",
    "X1 = 1.0\n",
    "X1 = 1.0  # note redefinition is allowed\n",
    "x1 = 1.0\n",
    "big = 1.0\n",
    "bigfoot = 1.0\n",
    "Bigfoot = 1.0\n",
    "_x = 1.0  # legal but not encouraged\n",
    "x_ = 1.0  # as above"
   ]
  },
  {
   "cell_type": "markdown",
   "metadata": {},
   "source": [
    "The following are illegal names for variables"
   ]
  },
  {
   "cell_type": "code",
   "execution_count": null,
   "metadata": {},
   "outputs": [],
   "source": [
    "x:=  1.0\n",
    "1X = 1\n",
    "X-1 = 1\n",
    "for = 1"
   ]
  },
  {
   "cell_type": "markdown",
   "metadata": {},
   "source": [
    "Multiple variables can be assigned on the same line using commas"
   ]
  },
  {
   "cell_type": "code",
   "execution_count": null,
   "metadata": {
    "ExecuteTime": {
     "end_time": "2023-01-13T20:22:22.978520Z",
     "start_time": "2023-01-13T20:22:22.964560Z"
    }
   },
   "outputs": [],
   "source": [
    "x=3; pi=3.14; name=\"Riaz\"; letter='a'"
   ]
  },
  {
   "cell_type": "code",
   "execution_count": null,
   "metadata": {
    "ExecuteTime": {
     "end_time": "2023-01-13T20:22:24.333259Z",
     "start_time": "2023-01-13T20:22:24.324255Z"
    }
   },
   "outputs": [],
   "source": [
    "print(x,pi,name,letter)"
   ]
  },
  {
   "cell_type": "markdown",
   "metadata": {},
   "source": [
    "**Note:** To assign a value to a variable, we use the operator = (not to be confused with ‘equal to’). It is evaluated from right to left\n",
    "name = “Riaz”\n",
    "can be seen as  name     “Riaz”\n",
    "and interpreted as ‘Riaz is assigned to the variable name’. So writing the script x = 3 reads as the integer 3 has been assigned to the variable. Note the type of variable x did not have to be declared prior to its initialisation. \n",
    "**Whitespace** is the name given to spaces, tabs and indents. Whitespace is also used to define blocks (in C++) using indentation. This promotes readability. For certain code it is necessary, and we will discuss later in the section on user-defined functions. Python is whitespace sensitive, so care needs to be taken in knowing when (and when not) to use it."
   ]
  },
  {
   "cell_type": "markdown",
   "metadata": {},
   "source": [
    "Python uses a highly enhanced memory allocation system which attempts to avoid allocating unnecessary memory. As a result, when one variable is assigned to another (e.g. to y = x), these will actually point to the same data in the computer’s memory. \n",
    "\n",
    "The function id() can be used to determine the unique identification number of a piece of data. Consider the following example\n"
   ]
  },
  {
   "cell_type": "code",
   "execution_count": null,
   "metadata": {
    "ExecuteTime": {
     "end_time": "2023-06-07T17:11:33.485212Z",
     "start_time": "2023-06-07T17:11:33.473245Z"
    }
   },
   "outputs": [],
   "source": [
    "import math as m"
   ]
  },
  {
   "cell_type": "code",
   "execution_count": null,
   "metadata": {
    "ExecuteTime": {
     "end_time": "2023-06-07T17:11:34.247583Z",
     "start_time": "2023-06-07T17:11:34.235588Z"
    }
   },
   "outputs": [],
   "source": [
    "x=m.pi\n",
    "y=x\n",
    "print(y)"
   ]
  },
  {
   "cell_type": "code",
   "execution_count": null,
   "metadata": {
    "ExecuteTime": {
     "end_time": "2023-06-07T17:11:36.041809Z",
     "start_time": "2023-06-07T17:11:36.023856Z"
    }
   },
   "outputs": [],
   "source": [
    "print(\"id for x is, \",id(x))\n",
    "print(\"id for y is, \",id(y))"
   ]
  },
  {
   "cell_type": "code",
   "execution_count": null,
   "metadata": {
    "ExecuteTime": {
     "end_time": "2023-06-07T17:16:27.870890Z",
     "start_time": "2023-06-07T17:16:27.863881Z"
    }
   },
   "outputs": [],
   "source": [
    "# now change the value of x\n",
    "x=1.0\n",
    "print(\"id for x is, \",id(x))\n",
    "print(\"id for y is, \",id(y))"
   ]
  },
  {
   "cell_type": "markdown",
   "metadata": {},
   "source": [
    "In the above example, the initial assignment of y = x produced two variables with the same ID. Once x was changed, its ID changed while the ID of y did not, indicating that the data in each variable was\n",
    "stored in different locations. "
   ]
  },
  {
   "cell_type": "markdown",
   "metadata": {},
   "source": [
    "## A quick note on storage\n",
    "We aren't doing a computer science course. However it's not a bad idea to have some very basic appreciation of computer storage - it'll make us more responsible scientific programmers.\n",
    "In computing a **bit** is short for binary digit and is the smallest unit of data in a computer. A bit has a single binary value, either 0 or 1. \n",
    "**Bytes** can then be expressed as units of bits. So, half a byte is four bits (called a nibble). Terminology does vary so in some systems, the term octet is used for an eight-bit unit instead of byte. In many systems, four eight-bit bytes or octets form a 32-bit word. Lets initialise a variable and check the number of bits. Again tab allows us to autocomplete. These methods require () at the end. Typically square brackets [] are used for indexing."
   ]
  },
  {
   "cell_type": "code",
   "execution_count": null,
   "metadata": {
    "ExecuteTime": {
     "end_time": "2023-06-07T17:16:50.993833Z",
     "start_time": "2023-06-07T17:16:50.976879Z"
    }
   },
   "outputs": [],
   "source": [
    "x=5\n",
    "x.bit_length()"
   ]
  },
  {
   "cell_type": "code",
   "execution_count": null,
   "metadata": {
    "ExecuteTime": {
     "end_time": "2023-06-07T17:16:51.878291Z",
     "start_time": "2023-06-07T17:16:51.871309Z"
    }
   },
   "outputs": [],
   "source": [
    "y=1000\n",
    "y.bit_length()"
   ]
  },
  {
   "cell_type": "markdown",
   "metadata": {},
   "source": [
    "## Computing with formulas\n",
    "Having dispensed with the customary code, our first examples involve programs that evaluate mathematical formulas. The interactive nature of python means it can be used as a calculator. Consider a fundamental but very important problem in finance $$TV=PV(1+r)^N$$ where given an an initial investment $PV$ compounded at rate $r$ over $N$ years "
   ]
  },
  {
   "cell_type": "code",
   "execution_count": null,
   "metadata": {
    "ExecuteTime": {
     "end_time": "2023-06-05T18:15:09.921342Z",
     "start_time": "2023-06-05T18:15:09.908350Z"
    }
   },
   "outputs": [],
   "source": [
    "PV=100.0; \n",
    "r=0.1; N=3 # define and initialise variables \n",
    "TV=PV*(1+r)**N;  # expressing compounding \n",
    "print(TV)"
   ]
  },
  {
   "cell_type": "markdown",
   "metadata": {},
   "source": [
    "Note $x^n$ is expressed in python as x**n"
   ]
  },
  {
   "cell_type": "markdown",
   "metadata": {},
   "source": [
    "The above could have all been expressed on a single line to look like"
   ]
  },
  {
   "cell_type": "code",
   "execution_count": null,
   "metadata": {},
   "outputs": [],
   "source": [
    "PV=100.0; r=0.1; N=3; TV=PV*(1+r)**N; print(TV)"
   ]
  },
  {
   "cell_type": "markdown",
   "metadata": {
    "collapsed": true
   },
   "source": [
    "It still works. As would"
   ]
  },
  {
   "cell_type": "code",
   "execution_count": null,
   "metadata": {},
   "outputs": [],
   "source": [
    "print(100*(1+0.1)**3) # this is a complete Python program!"
   ]
  },
  {
   "cell_type": "markdown",
   "metadata": {},
   "source": [
    "If interest rates are continuously compounded the earlier formula becomes\n",
    "$$TV=PVe^{r(T-t)}$$\n",
    "Then using the same numerical values gives "
   ]
  },
  {
   "cell_type": "code",
   "execution_count": null,
   "metadata": {},
   "outputs": [],
   "source": [
    "import math as m\n",
    "PV=100; r=0.1; T=3; t=0 # define and initialise variables \n",
    "TV=PV*m.exp(r*(T-t));  # expressing continuous compounding \n",
    "print(TV)"
   ]
  },
  {
   "cell_type": "markdown",
   "metadata": {},
   "source": [
    "Rearranging the compounding formulas gives us a formula for discounting. That is, calculating the current worth $PV$ of money in the future $TV$.\n",
    "$$PV=TV(1+r)^{-N}$$\n",
    "$$PV=TVe^{-r(T-t)}$$\n"
   ]
  },
  {
   "cell_type": "markdown",
   "metadata": {},
   "source": [
    "## Preliminary Remarks about Program Style\n",
    "**Whitespace** is the name given to spaces, tabs and indents. Whitespace is also used to define blocks (in C++) using indentation. This promotes readability. For certain code it is necessary, and we will discuss later in the section on user-defined functions.The end of a line is unimportant in Python, as it almost completely ignores whitespace. The compounding formula script above was expressed in two ways and both gave the same result. However the lack of program comments, spaces, new lines and indentation makes this program quite unacceptable, and with larger programs becomes very difficult to read. Whilst there is much more to developing a good programming style than learning to lay out programs properly, this is nevertheless a good start. \n",
    "Be consistent with your program layout, and make sure the indentation and spacing reflects the logical structure of your program.  \n",
    "\n",
    "It is also a good idea to choose meaningful names for variables. Remember that your code might need modification by other programmers at a later date. Even if a programmer refers to their own code (say) a year later, without proper documentation and use of meaningful variable names, they will need to spend considerable time refreshing them self on the various parts of the code. \n",
    "\n",
    "Unlike some languages, whitespace is significant in Python.  In Python a block is delimited by indentation. There's no brackets or parentheses to match up just indents. "
   ]
  },
  {
   "cell_type": "markdown",
   "metadata": {},
   "source": [
    "## Syntactic sugar\n",
    "syntactic sugar is syntax within a programming language that is designed to make things easier to read or to express. It makes the language \"sweeter\" for human use: things can be expressed more clearly, more concisely, or in an alternative style that some may prefer.\n",
    "\n",
    "https://en.wikipedia.org/wiki/Syntactic_sugar\n"
   ]
  },
  {
   "cell_type": "markdown",
   "metadata": {},
   "source": [
    "A number can be represented by different types of variables:\n",
    "* int for integer \n",
    "* long integers for integer not in the previous interval. They are stored in a more complex format. Such integers are printed out with an L at the end. The range of these long integers is only limited by the amount of available memory in the computer. Operations on long integers are slower than on normal integers!"
   ]
  },
  {
   "cell_type": "markdown",
   "metadata": {},
   "source": [
    "For Simple Arithmetic Calculations – BIDMAS or BODMAS\n",
    "$4+8/2$ is calculated as $4+(8/2)=8$"
   ]
  },
  {
   "cell_type": "code",
   "execution_count": null,
   "metadata": {},
   "outputs": [],
   "source": [
    "4 + 8 / 2 # spaces around the operator do not matter"
   ]
  },
  {
   "cell_type": "markdown",
   "metadata": {},
   "source": [
    "In the current version of Python, integer division gives a real number. No type-casting required. "
   ]
  },
  {
   "cell_type": "code",
   "execution_count": null,
   "metadata": {
    "ExecuteTime": {
     "end_time": "2023-01-13T20:24:22.082131Z",
     "start_time": "2023-01-13T20:24:22.068199Z"
    }
   },
   "outputs": [],
   "source": [
    "20/3 , type(20/3)"
   ]
  },
  {
   "cell_type": "markdown",
   "metadata": {},
   "source": [
    "If you are using version 2 of Python, simply write as 20.0/3 or 20/3.0 or type-caste as float(20)/3 to ensure a real value. Python 2.7 can use the Python 3 integer division behavior by including"
   ]
  },
  {
   "cell_type": "code",
   "execution_count": null,
   "metadata": {},
   "outputs": [],
   "source": [
    "from __future__ import division"
   ]
  },
  {
   "cell_type": "markdown",
   "metadata": {},
   "source": [
    "In Python 3.x.x integer division can be performed using //"
   ]
  },
  {
   "cell_type": "code",
   "execution_count": null,
   "metadata": {
    "ExecuteTime": {
     "end_time": "2023-01-13T20:24:40.431167Z",
     "start_time": "2023-01-13T20:24:40.423161Z"
    }
   },
   "outputs": [],
   "source": [
    "7 // 3"
   ]
  },
  {
   "cell_type": "markdown",
   "metadata": {},
   "source": [
    "Use brackets to make code readable and clearer. For example the following code is poor"
   ]
  },
  {
   "cell_type": "code",
   "execution_count": null,
   "metadata": {
    "ExecuteTime": {
     "end_time": "2023-01-13T20:24:45.281182Z",
     "start_time": "2023-01-13T20:24:45.276211Z"
    }
   },
   "outputs": [],
   "source": [
    "100000 / 60 / 60 / 24 / 365"
   ]
  },
  {
   "cell_type": "markdown",
   "metadata": {},
   "source": [
    "It gives the same answer as "
   ]
  },
  {
   "cell_type": "code",
   "execution_count": null,
   "metadata": {
    "ExecuteTime": {
     "end_time": "2023-01-13T20:24:55.572333Z",
     "start_time": "2023-01-13T20:24:55.563386Z"
    }
   },
   "outputs": [],
   "source": [
    "100000 / (60 * 60 * 24 * 365)"
   ]
  },
  {
   "cell_type": "code",
   "execution_count": null,
   "metadata": {},
   "outputs": [],
   "source": [
    "However the second expression is easier to read."
   ]
  },
  {
   "cell_type": "markdown",
   "metadata": {},
   "source": [
    "**Integer powers** "
   ]
  },
  {
   "cell_type": "markdown",
   "metadata": {},
   "source": [
    "4 ** 3 is legal, but 4 * * 3 is not. Spaces around an operator don't matter. Spaces in the operator do!"
   ]
  },
  {
   "cell_type": "code",
   "execution_count": null,
   "metadata": {},
   "outputs": [],
   "source": [
    "4**3"
   ]
  },
  {
   "cell_type": "code",
   "execution_count": null,
   "metadata": {},
   "outputs": [],
   "source": [
    "4 * * 3"
   ]
  },
  {
   "cell_type": "markdown",
   "metadata": {},
   "source": [
    "**Integer remainders/Modulo:** Use % to obtain integer remainders. It operates on the absolute values"
   ]
  },
  {
   "cell_type": "code",
   "execution_count": null,
   "metadata": {
    "ExecuteTime": {
     "end_time": "2023-01-13T20:25:02.986757Z",
     "start_time": "2023-01-13T20:25:02.981741Z"
    }
   },
   "outputs": [],
   "source": [
    "4%2 , 20%6 , -5%2"
   ]
  },
  {
   "cell_type": "markdown",
   "metadata": {},
   "source": [
    "Unlike some other languages, variables can be **negated** directly e.g."
   ]
  },
  {
   "cell_type": "code",
   "execution_count": null,
   "metadata": {
    "ExecuteTime": {
     "end_time": "2023-01-13T20:25:10.601141Z",
     "start_time": "2023-01-13T20:25:10.588151Z"
    }
   },
   "outputs": [],
   "source": [
    "x=3\n",
    "-x"
   ]
  },
  {
   "cell_type": "markdown",
   "metadata": {},
   "source": [
    "**Further Functions: int() and round()**"
   ]
  },
  {
   "cell_type": "code",
   "execution_count": null,
   "metadata": {
    "ExecuteTime": {
     "end_time": "2023-01-13T20:25:15.944678Z",
     "start_time": "2023-01-13T20:25:15.926726Z"
    }
   },
   "outputs": [],
   "source": [
    "int(3.4) , int(-10.9)"
   ]
  },
  {
   "cell_type": "code",
   "execution_count": null,
   "metadata": {
    "ExecuteTime": {
     "end_time": "2023-01-13T20:25:17.575136Z",
     "start_time": "2023-01-13T20:25:17.557215Z"
    }
   },
   "outputs": [],
   "source": [
    "round(3.4) , round(3.9)"
   ]
  },
  {
   "cell_type": "code",
   "execution_count": null,
   "metadata": {
    "ExecuteTime": {
     "end_time": "2023-01-13T20:25:18.675578Z",
     "start_time": "2023-01-13T20:25:18.655186Z"
    }
   },
   "outputs": [],
   "source": [
    "round(3.2399817,6) # 2 parameter function"
   ]
  },
  {
   "cell_type": "markdown",
   "metadata": {},
   "source": [
    "In programming languages generally, a variable name represents a value of a given type (int, float, etc.) stored in a fixed memory location. The value of a variable can be changed but not the variable type. This is not the case in Python where variables are *typed dynamically* as illustrated below \n"
   ]
  },
  {
   "cell_type": "code",
   "execution_count": null,
   "metadata": {
    "ExecuteTime": {
     "end_time": "2023-01-13T21:13:48.870004Z",
     "start_time": "2023-01-13T21:13:48.860060Z"
    }
   },
   "outputs": [],
   "source": [
    "x=3 # type int\n",
    "type(x)"
   ]
  },
  {
   "cell_type": "code",
   "execution_count": null,
   "metadata": {
    "ExecuteTime": {
     "end_time": "2023-01-13T21:14:09.769727Z",
     "start_time": "2023-01-13T21:14:09.754738Z"
    }
   },
   "outputs": [],
   "source": [
    "x=x**2\n",
    "type(x) # type now changes"
   ]
  },
  {
   "cell_type": "markdown",
   "metadata": {},
   "source": [
    "## Further computing with formulas\n",
    "Consider the quadratic equation \n",
    "$$ax^2+bx+c=0$$\n",
    "which has solution \n",
    "$$x=\\frac{-b\\pm \\sqrt{b^2-4ac}}{2a}$$"
   ]
  },
  {
   "cell_type": "markdown",
   "metadata": {},
   "source": [
    "As an example we write python code to solve $3x^2+5x-3=0$."
   ]
  },
  {
   "cell_type": "code",
   "execution_count": null,
   "metadata": {
    "ExecuteTime": {
     "end_time": "2023-06-07T17:58:40.517594Z",
     "start_time": "2023-06-07T17:58:40.498648Z"
    }
   },
   "outputs": [],
   "source": [
    "from math import sqrt\n",
    "\n",
    "a=1; b=3; c=2;  \n",
    "discriminant = b**2-4*a*c\n",
    "sqrt_discriminant = sqrt(discriminant)\n",
    "\n",
    "x1=(-b+sqrt_discriminant)/(2*a)\n",
    "x2=(-b-sqrt_discriminant)/(2*a)\n",
    "\n",
    "print(\"x1= \", x1)\n",
    "print(\"x2= \", x2)"
   ]
  },
  {
   "cell_type": "markdown",
   "metadata": {},
   "source": [
    "## How large can a Python integer be?"
   ]
  },
  {
   "cell_type": "code",
   "execution_count": null,
   "metadata": {},
   "outputs": [],
   "source": [
    "4294967296**12"
   ]
  },
  {
   "cell_type": "markdown",
   "metadata": {},
   "source": [
    "Python integers have unlimited range since the amount of bits used to store an integer is dynamic. So there is no limit - the only limit is machine memory. "
   ]
  },
  {
   "cell_type": "markdown",
   "metadata": {},
   "source": [
    "## Floating point\n",
    "The most important (scalar) data type for numerical analysis purposes is the **float**. To input a floating data type, it is necessary to include a dot. So while 3 is an integer, 3.0 is a float. "
   ]
  },
  {
   "cell_type": "code",
   "execution_count": null,
   "metadata": {
    "ExecuteTime": {
     "end_time": "2023-01-13T21:21:07.989115Z",
     "start_time": "2023-01-13T21:21:07.974132Z"
    }
   },
   "outputs": [],
   "source": [
    "x=3; type(x)"
   ]
  },
  {
   "cell_type": "code",
   "execution_count": null,
   "metadata": {
    "ExecuteTime": {
     "end_time": "2023-01-13T21:21:09.091012Z",
     "start_time": "2023-01-13T21:21:09.076050Z"
    }
   },
   "outputs": [],
   "source": [
    "x=3.0; type(x)"
   ]
  },
  {
   "cell_type": "code",
   "execution_count": null,
   "metadata": {
    "ExecuteTime": {
     "end_time": "2023-01-13T21:21:10.149331Z",
     "start_time": "2023-01-13T21:21:10.135370Z"
    }
   },
   "outputs": [],
   "source": [
    "x=float(3); type(x)"
   ]
  },
  {
   "cell_type": "markdown",
   "metadata": {},
   "source": [
    "So the integer 3 has now been converted to the float 3.0"
   ]
  },
  {
   "cell_type": "markdown",
   "metadata": {},
   "source": [
    "**Hidden precision - ** Consider the following "
   ]
  },
  {
   "cell_type": "code",
   "execution_count": null,
   "metadata": {},
   "outputs": [],
   "source": [
    "0.1"
   ]
  },
  {
   "cell_type": "code",
   "execution_count": null,
   "metadata": {},
   "outputs": [],
   "source": [
    "0.1+0.1"
   ]
  },
  {
   "cell_type": "code",
   "execution_count": null,
   "metadata": {},
   "outputs": [],
   "source": [
    "0.1+0.1+0.1"
   ]
  },
  {
   "cell_type": "markdown",
   "metadata": {},
   "source": [
    "Yes, really! If you are relying on this last decimal place, you are doing it wrong! We saw this earlier with the compounding formula example.\n"
   ]
  },
  {
   "cell_type": "markdown",
   "metadata": {},
   "source": [
    "Switching between a long integer value and standard form is achievable using the float() function"
   ]
  },
  {
   "cell_type": "code",
   "execution_count": null,
   "metadata": {
    "ExecuteTime": {
     "end_time": "2023-01-13T21:24:19.777054Z",
     "start_time": "2023-01-13T21:24:19.760101Z"
    }
   },
   "outputs": [],
   "source": [
    "x=2**127+2**65"
   ]
  },
  {
   "cell_type": "code",
   "execution_count": null,
   "metadata": {
    "ExecuteTime": {
     "end_time": "2023-01-13T21:24:20.524956Z",
     "start_time": "2023-01-13T21:24:20.516008Z"
    }
   },
   "outputs": [],
   "source": [
    "x"
   ]
  },
  {
   "cell_type": "code",
   "execution_count": null,
   "metadata": {
    "ExecuteTime": {
     "end_time": "2023-01-13T21:24:23.084343Z",
     "start_time": "2023-01-13T21:24:23.075395Z"
    }
   },
   "outputs": [],
   "source": [
    "float(x) # this now converts the above to standard form"
   ]
  },
  {
   "cell_type": "code",
   "execution_count": null,
   "metadata": {
    "ExecuteTime": {
     "end_time": "2023-01-13T21:24:26.503874Z",
     "start_time": "2023-01-13T21:24:26.495897Z"
    }
   },
   "outputs": [],
   "source": [
    "float(100000000000000000000000)"
   ]
  },
  {
   "cell_type": "markdown",
   "metadata": {},
   "source": [
    "Standard form is also referred to as **scientific notation**. So $a\\times{10^N}$ where $a\\in{\\mathbb{R}},  x\\in{\\mathbb{Z}}$ can be written in Python as aeN.\n",
    "\n",
    "**Examples**\n",
    "* 3e8 is $3\\times{10^8}$\n",
    "* 9.109e-19 is $9.109\\times{10^{-19}}$"
   ]
  },
  {
   "cell_type": "markdown",
   "metadata": {},
   "source": [
    "Earlier we converted text to integers. Text can also be converted to floats, using the function above, e.g."
   ]
  },
  {
   "cell_type": "code",
   "execution_count": null,
   "metadata": {},
   "outputs": [],
   "source": [
    "float('100.4') , float ('10.0')"
   ]
  },
  {
   "cell_type": "markdown",
   "metadata": {},
   "source": [
    "We can do the opposite and convert different types to text, i.e. type str"
   ]
  },
  {
   "cell_type": "markdown",
   "metadata": {},
   "source": [
    "The Python method **as_integer_ratio** returns a pair of integers whose ratio is exactly equal to the original float and with a positive denominator"
   ]
  },
  {
   "cell_type": "code",
   "execution_count": null,
   "metadata": {
    "ExecuteTime": {
     "end_time": "2023-06-07T17:59:10.416541Z",
     "start_time": "2023-06-07T17:59:10.406597Z"
    }
   },
   "outputs": [],
   "source": [
    "x = 0.35\n",
    "x.as_integer_ratio()"
   ]
  },
  {
   "cell_type": "code",
   "execution_count": null,
   "metadata": {},
   "outputs": [],
   "source": [
    "str(10)"
   ]
  },
  {
   "cell_type": "code",
   "execution_count": null,
   "metadata": {},
   "outputs": [],
   "source": [
    "str('100.0')"
   ]
  },
  {
   "cell_type": "markdown",
   "metadata": {},
   "source": [
    "So when converting between types \n",
    "* **int()** anything to an integer\n",
    "* **float()** anything to float\n",
    "* **str()** anything to string"
   ]
  },
  {
   "cell_type": "code",
   "execution_count": null,
   "metadata": {},
   "outputs": [],
   "source": [
    "str(3e8)"
   ]
  },
  {
   "cell_type": "markdown",
   "metadata": {},
   "source": [
    "## More keyboard input"
   ]
  },
  {
   "cell_type": "code",
   "execution_count": null,
   "metadata": {},
   "outputs": [],
   "source": [
    "r=float(input(\"enter the circle radius - \"))\n",
    "area = 3.14*r**2\n",
    "print(\"The circle area of radius \", r, \" = \",area)"
   ]
  },
  {
   "cell_type": "markdown",
   "metadata": {},
   "source": [
    "Run the script above without the float function in line 1. Can you explain what is happening?"
   ]
  },
  {
   "cell_type": "markdown",
   "metadata": {},
   "source": [
    "**Integer and float arithmetic**: When performing arithmetic operations, spaces around operators do not matter (ignored in the calculation). So 20 / 3 is evaluated in the same way as 20/3, etc. In the later verisons of python, type-casting is not required. This means whereas in previous versions the integer division 20/3 = 6; requiring float(20)/3 to produce the correct value, we now have"
   ]
  },
  {
   "cell_type": "code",
   "execution_count": null,
   "metadata": {},
   "outputs": [],
   "source": [
    "20/3"
   ]
  },
  {
   "cell_type": "markdown",
   "metadata": {},
   "source": [
    "**Exercise** Write a program that does the following in order:\n",
    "1. Asks the user to enter a number “x”\n",
    "2. Asks the user to enter a number “y”\n",
    "3. Prints out number “x”, raised to the power “y”.\n",
    "4. Prints out the log (base 2) of “x”."
   ]
  },
  {
   "cell_type": "markdown",
   "metadata": {
    "collapsed": true
   },
   "source": [
    "## Deleting a variable\n",
    "To delete the attachment we use the Python command **del**. The command\n",
    "\tdel object\n",
    "returns us to the state where the name is no longer known.\n",
    "You can delete multiple names with the slightly extended syntax\n",
    "\tdel thing1, thing2, thing3\n",
    "This is equivalent to\n",
    "\tdel thing1\n",
    "\tdel thing2\n",
    "\tdel thing3\n",
    "but more compact.\n"
   ]
  },
  {
   "cell_type": "code",
   "execution_count": null,
   "metadata": {
    "ExecuteTime": {
     "end_time": "2023-01-13T21:26:36.930842Z",
     "start_time": "2023-01-13T21:26:36.916854Z"
    }
   },
   "outputs": [],
   "source": [
    "x=10; print(x)"
   ]
  },
  {
   "cell_type": "code",
   "execution_count": null,
   "metadata": {
    "ExecuteTime": {
     "end_time": "2023-01-13T21:26:37.879991Z",
     "start_time": "2023-01-13T21:26:37.861014Z"
    }
   },
   "outputs": [],
   "source": [
    "del x"
   ]
  },
  {
   "cell_type": "code",
   "execution_count": null,
   "metadata": {
    "ExecuteTime": {
     "end_time": "2023-01-13T21:26:38.918819Z",
     "start_time": "2023-01-13T21:26:38.894888Z"
    }
   },
   "outputs": [],
   "source": [
    "print(x)"
   ]
  },
  {
   "cell_type": "markdown",
   "metadata": {},
   "source": [
    "So the variable x is unkown"
   ]
  },
  {
   "cell_type": "markdown",
   "metadata": {},
   "source": [
    "## Null Values\n",
    "Sometimes we present \"no data\" or \"not applicable\". In Python the special value None is used, it corresponds to Null in Java (C++ has a pointer value Null). Eg."
   ]
  },
  {
   "cell_type": "code",
   "execution_count": null,
   "metadata": {
    "ExecuteTime": {
     "end_time": "2023-01-13T21:26:48.053100Z",
     "start_time": "2023-01-13T21:26:48.039108Z"
    }
   },
   "outputs": [],
   "source": [
    "value = None\n",
    "print(value)"
   ]
  },
  {
   "cell_type": "markdown",
   "metadata": {},
   "source": [
    "Note above when we fetch the value None, no result is printed out. What type is it?"
   ]
  },
  {
   "cell_type": "code",
   "execution_count": null,
   "metadata": {
    "ExecuteTime": {
     "end_time": "2023-01-13T21:26:50.653724Z",
     "start_time": "2023-01-13T21:26:50.646771Z"
    }
   },
   "outputs": [],
   "source": [
    "type(value)"
   ]
  },
  {
   "cell_type": "markdown",
   "metadata": {},
   "source": [
    "We can check whether there is indeed a result or not using the **is** operator, which will return True or False:"
   ]
  },
  {
   "cell_type": "code",
   "execution_count": null,
   "metadata": {
    "ExecuteTime": {
     "end_time": "2023-01-13T21:26:52.981879Z",
     "start_time": "2023-01-13T21:26:52.966920Z"
    }
   },
   "outputs": [],
   "source": [
    "value is None"
   ]
  },
  {
   "cell_type": "markdown",
   "metadata": {},
   "source": [
    "## Polymorphism\n",
    "The meaning of an operator depends on the type we are applying it to."
   ]
  },
  {
   "cell_type": "code",
   "execution_count": null,
   "metadata": {},
   "outputs": [],
   "source": [
    "1+1 # adding integers"
   ]
  },
  {
   "cell_type": "code",
   "execution_count": null,
   "metadata": {},
   "outputs": [],
   "source": [
    "'a'+'b' #adding chars"
   ]
  },
  {
   "cell_type": "code",
   "execution_count": null,
   "metadata": {},
   "outputs": [],
   "source": [
    "\"Brexit \" + \"is \" + \"for \" + \"fools\" # adding strings"
   ]
  },
  {
   "cell_type": "code",
   "execution_count": null,
   "metadata": {},
   "outputs": [],
   "source": [
    "'1'+'1' #as above"
   ]
  },
  {
   "cell_type": "markdown",
   "metadata": {
    "collapsed": true
   },
   "source": [
    "## Size of\n",
    "In C++ there is an operator **sizeof(*type*)** which returns size in bytes of the object/type. \n",
    "In Python **getsizeof** function found in the sys module will give the byte size of the object. Here's a few examples:"
   ]
  },
  {
   "cell_type": "code",
   "execution_count": null,
   "metadata": {
    "ExecuteTime": {
     "end_time": "2023-06-07T17:59:30.940925Z",
     "start_time": "2023-06-07T17:59:30.922004Z"
    }
   },
   "outputs": [],
   "source": [
    "import sys as sys # import the appropriate module\n",
    "string = \"G\"\n",
    "sys.getsizeof(string)"
   ]
  },
  {
   "cell_type": "code",
   "execution_count": null,
   "metadata": {
    "ExecuteTime": {
     "end_time": "2023-06-07T17:59:34.770605Z",
     "start_time": "2023-06-07T17:59:34.761664Z"
    }
   },
   "outputs": [],
   "source": [
    "sys.getsizeof(float) # type class float"
   ]
  },
  {
   "cell_type": "code",
   "execution_count": null,
   "metadata": {
    "ExecuteTime": {
     "end_time": "2023-06-07T17:59:35.529708Z",
     "start_time": "2023-06-07T17:59:35.522726Z"
    }
   },
   "outputs": [],
   "source": [
    "sys.getsizeof(23.657484884) # type float"
   ]
  },
  {
   "cell_type": "code",
   "execution_count": null,
   "metadata": {
    "ExecuteTime": {
     "end_time": "2023-06-07T17:59:37.292240Z",
     "start_time": "2023-06-07T17:59:37.273264Z"
    }
   },
   "outputs": [],
   "source": [
    "sys.getsizeof(chr) # type char"
   ]
  },
  {
   "cell_type": "markdown",
   "metadata": {},
   "source": [
    "The getsizeof() function system-specific and hence we have to import the sys module to use it, while \\___\\_sizeof\\___\\_() is a built-in method. Let's look at the use of this"
   ]
  },
  {
   "cell_type": "code",
   "execution_count": null,
   "metadata": {
    "ExecuteTime": {
     "end_time": "2023-01-13T21:48:44.628160Z",
     "start_time": "2023-01-13T21:48:44.613202Z"
    }
   },
   "outputs": [],
   "source": [
    "string.__sizeof__()"
   ]
  },
  {
   "cell_type": "markdown",
   "metadata": {},
   "source": [
    "## The **range()** function\n",
    "It is tedious to write:\n",
    "a = [0, 1, 2, 3, 4, 5, 6, 7, 8, 9]. There is a Python function that allows this to be done compactly. This is done using the range() function. So the earlier example can be expressed as\n",
    "\n",
    "a = range(10)\n",
    "\n",
    "range(n) returns the list of integers from 0 up to but not including n. \n",
    "\n",
    "range(m, n) returns the list of integers from m up to but not including n.\n",
    "\n",
    "range(5, 10) gives [5, 6, 7, 8, 9]\n",
    "\n",
    "range(m, n, i) returns a list of integers from m up to (n-1) in equal steps of +i\n",
    "\n",
    "range(4, 16, 2) gives [4, 6, 8, 10, 12, 14]\n",
    "\n",
    "So in short it generates a list of numbers, which is generally used to iterate over with for loops. "
   ]
  },
  {
   "cell_type": "code",
   "execution_count": null,
   "metadata": {
    "ExecuteTime": {
     "end_time": "2023-06-07T18:00:03.591431Z",
     "start_time": "2023-06-07T18:00:03.531593Z"
    }
   },
   "outputs": [],
   "source": [
    "range?"
   ]
  },
  {
   "cell_type": "code",
   "execution_count": null,
   "metadata": {
    "ExecuteTime": {
     "end_time": "2023-06-07T18:00:18.700547Z",
     "start_time": "2023-06-07T18:00:18.689549Z"
    }
   },
   "outputs": [],
   "source": [
    "x=range(4)\n",
    "print(x, type(x))\n",
    "x[0]"
   ]
  },
  {
   "cell_type": "markdown",
   "metadata": {},
   "source": [
    "Running the above script doesn't do anything exciting. We will look at loops in detail later. But for the timebeing run the following"
   ]
  },
  {
   "cell_type": "code",
   "execution_count": null,
   "metadata": {
    "ExecuteTime": {
     "end_time": "2023-06-07T18:00:20.676710Z",
     "start_time": "2023-06-07T18:00:20.670699Z"
    }
   },
   "outputs": [],
   "source": [
    "for x in range(4,17,2): # we have not formally discussed for loops but this is an application of range\n",
    "    print(x)"
   ]
  },
  {
   "cell_type": "markdown",
   "metadata": {},
   "source": [
    "How about printing in one line?"
   ]
  },
  {
   "cell_type": "code",
   "execution_count": null,
   "metadata": {
    "ExecuteTime": {
     "end_time": "2023-01-13T21:52:33.905128Z",
     "start_time": "2023-01-13T21:52:33.887178Z"
    }
   },
   "outputs": [],
   "source": [
    "print(*range(4,17,2))"
   ]
  },
  {
   "cell_type": "markdown",
   "metadata": {},
   "source": [
    "## Complex numbers (complex)\n",
    "\n",
    "https://docs.python.org/2/library/cmath.html\n",
    "\n",
    "Python has all the functions to manipulate complex numbers. Here $j=\\sqrt{-1}$ replaces $i$; so consistent with engineers!"
   ]
  },
  {
   "cell_type": "markdown",
   "metadata": {},
   "source": [
    "$z=x+iy=re^{i\\theta}$\n"
   ]
  },
  {
   "cell_type": "markdown",
   "metadata": {
    "collapsed": true
   },
   "source": [
    "<img src='./img/complex.png' width=350>"
   ]
  },
  {
   "cell_type": "markdown",
   "metadata": {},
   "source": [
    "To make use of all the complex maths library functions, import **cmath**. We now have all the functions to manipulate in $\\mathbb{C}$."
   ]
  },
  {
   "cell_type": "code",
   "execution_count": null,
   "metadata": {
    "ExecuteTime": {
     "end_time": "2023-06-07T18:21:36.564779Z",
     "start_time": "2023-06-07T18:21:36.553841Z"
    }
   },
   "outputs": [],
   "source": [
    "import cmath as cm\n",
    "print(cm.sqrt(-4))"
   ]
  },
  {
   "cell_type": "code",
   "execution_count": null,
   "metadata": {
    "ExecuteTime": {
     "end_time": "2023-06-07T18:05:00.309750Z",
     "start_time": "2023-06-07T18:05:00.295793Z"
    }
   },
   "outputs": [],
   "source": [
    "help(complex())"
   ]
  },
  {
   "cell_type": "markdown",
   "metadata": {},
   "source": [
    "### $\\mathbb{C}$ operations in Python"
   ]
  },
  {
   "cell_type": "code",
   "execution_count": null,
   "metadata": {
    "ExecuteTime": {
     "end_time": "2023-06-07T18:05:16.508447Z",
     "start_time": "2023-06-07T18:05:16.497476Z"
    }
   },
   "outputs": [],
   "source": [
    "(1+1j)+(2+3j) # adding two complex numbers"
   ]
  },
  {
   "cell_type": "code",
   "execution_count": null,
   "metadata": {
    "ExecuteTime": {
     "end_time": "2023-06-07T18:05:17.912829Z",
     "start_time": "2023-06-07T18:05:17.896843Z"
    }
   },
   "outputs": [],
   "source": [
    "(1-2j)*(3+4j) # complex multiplication"
   ]
  },
  {
   "cell_type": "code",
   "execution_count": null,
   "metadata": {
    "ExecuteTime": {
     "end_time": "2023-06-07T18:05:18.731182Z",
     "start_time": "2023-06-07T18:05:18.721179Z"
    }
   },
   "outputs": [],
   "source": [
    "(1+2j)/(1-2j) # complex division"
   ]
  },
  {
   "cell_type": "code",
   "execution_count": null,
   "metadata": {
    "ExecuteTime": {
     "end_time": "2023-06-07T18:05:20.010498Z",
     "start_time": "2023-06-07T18:05:19.999524Z"
    }
   },
   "outputs": [],
   "source": [
    "(2+3j)**2 # squaring a complex number"
   ]
  },
  {
   "cell_type": "code",
   "execution_count": null,
   "metadata": {
    "ExecuteTime": {
     "end_time": "2023-06-07T18:05:24.020357Z",
     "start_time": "2023-06-07T18:05:24.012346Z"
    }
   },
   "outputs": [],
   "source": [
    "cm.sqrt(1j) # roots of a complex number"
   ]
  },
  {
   "cell_type": "markdown",
   "metadata": {},
   "source": [
    "There are other ways of handling complex numbers, making their manipulation more convenient and intuitive. The complex number $z=x+iy$ can be expressed as a two-tuple $z=(x,y)$, using the python function complex(x,y)."
   ]
  },
  {
   "cell_type": "markdown",
   "metadata": {},
   "source": [
    "The complex numbers together with their Python expressions\n",
    "\n",
    "${z_1}=2+3i$ is written as complex(2,3)\n",
    "\n",
    "${z_2}=i$ is written as complex(0,1)\n",
    "\n",
    "${z_3}=1$ is written as complex(1,0)"
   ]
  },
  {
   "cell_type": "code",
   "execution_count": null,
   "metadata": {
    "ExecuteTime": {
     "end_time": "2023-06-07T18:18:26.895533Z",
     "start_time": "2023-06-07T18:18:26.886558Z"
    }
   },
   "outputs": [],
   "source": [
    "z1=complex(3,4) \n",
    "z2=complex(0,1)\n",
    "print(z1+z2)"
   ]
  },
  {
   "cell_type": "code",
   "execution_count": null,
   "metadata": {
    "ExecuteTime": {
     "end_time": "2023-06-07T18:18:51.615572Z",
     "start_time": "2023-06-07T18:18:51.599586Z"
    }
   },
   "outputs": [],
   "source": [
    "from cmath import * # less sublime way!\n",
    "print(sqrt(z2))"
   ]
  },
  {
   "cell_type": "markdown",
   "metadata": {},
   "source": [
    "The length of z is the modulus given by \n",
    "$$|z|=\\sqrt{x^2+y^2}$$\n",
    "The one parameter function **abs()** gives the modulus"
   ]
  },
  {
   "cell_type": "code",
   "execution_count": null,
   "metadata": {
    "ExecuteTime": {
     "end_time": "2023-06-07T18:18:32.125270Z",
     "start_time": "2023-06-07T18:18:32.110285Z"
    }
   },
   "outputs": [],
   "source": [
    "abs(z1)"
   ]
  },
  {
   "cell_type": "markdown",
   "metadata": {},
   "source": [
    "Calculating the real and imaginary part of $z\\in\\mathbb{C}$ can be achieved using the methods **real** and **imag** respectively"
   ]
  },
  {
   "cell_type": "code",
   "execution_count": null,
   "metadata": {
    "ExecuteTime": {
     "end_time": "2023-06-07T18:18:37.531891Z",
     "start_time": "2023-06-07T18:18:37.517900Z"
    }
   },
   "outputs": [],
   "source": [
    "z1.real"
   ]
  },
  {
   "cell_type": "code",
   "execution_count": null,
   "metadata": {
    "ExecuteTime": {
     "end_time": "2023-06-07T18:18:38.354077Z",
     "start_time": "2023-06-07T18:18:38.343141Z"
    }
   },
   "outputs": [],
   "source": [
    "z1.imag"
   ]
  },
  {
   "cell_type": "markdown",
   "metadata": {},
   "source": [
    "The argument of $𝑧$, written $arg(z)$ is the angle between $𝑧(𝑥,𝑦)$ and the real axis. The one parameter function **phase()** evaluates the argument, in radians. The principal value is given, i.e $-\\pi\\leq\\arg(z)\\leq\\pi$"
   ]
  },
  {
   "cell_type": "code",
   "execution_count": null,
   "metadata": {
    "ExecuteTime": {
     "end_time": "2023-06-07T18:18:57.802929Z",
     "start_time": "2023-06-07T18:18:57.787002Z"
    }
   },
   "outputs": [],
   "source": [
    "phase(complex(1,1)) # 45 degrees"
   ]
  },
  {
   "cell_type": "markdown",
   "metadata": {},
   "source": [
    "As a check let's calculate $\\pi/4$"
   ]
  },
  {
   "cell_type": "code",
   "execution_count": null,
   "metadata": {
    "ExecuteTime": {
     "end_time": "2023-06-07T18:21:07.228203Z",
     "start_time": "2023-06-07T18:21:07.210252Z"
    }
   },
   "outputs": [],
   "source": [
    "import math as math\n",
    "math.pi/4.0"
   ]
  },
  {
   "cell_type": "markdown",
   "metadata": {},
   "source": [
    "Converting complex numbers from Cartesian $(x,y)$ to polar form $(r,\\theta)$ is a fairly straightforward mathematical exercise. How is this done in Python? A single argument function **polar()** achieves this conversion\n"
   ]
  },
  {
   "cell_type": "code",
   "execution_count": null,
   "metadata": {
    "ExecuteTime": {
     "end_time": "2023-06-07T18:21:10.385155Z",
     "start_time": "2023-06-07T18:21:10.367203Z"
    }
   },
   "outputs": [],
   "source": [
    "polar(0+1j)"
   ]
  },
  {
   "cell_type": "code",
   "execution_count": null,
   "metadata": {
    "ExecuteTime": {
     "end_time": "2023-06-07T18:21:11.270756Z",
     "start_time": "2023-06-07T18:21:11.254801Z"
    }
   },
   "outputs": [],
   "source": [
    "polar(complex(0,1))"
   ]
  },
  {
   "cell_type": "code",
   "execution_count": null,
   "metadata": {
    "ExecuteTime": {
     "end_time": "2023-06-07T18:21:12.078319Z",
     "start_time": "2023-06-07T18:21:12.071305Z"
    }
   },
   "outputs": [],
   "source": [
    "complex(4,1).real # returns the real part"
   ]
  },
  {
   "cell_type": "code",
   "execution_count": null,
   "metadata": {
    "ExecuteTime": {
     "end_time": "2023-06-07T18:21:14.982746Z",
     "start_time": "2023-06-07T18:21:14.975795Z"
    }
   },
   "outputs": [],
   "source": [
    "complex(3,-2).imag # returns imaginary part"
   ]
  },
  {
   "cell_type": "markdown",
   "metadata": {},
   "source": [
    "**The quadratic equation revisited:** The introduction of the complex module allows us to solve all cases including that of complex roots. "
   ]
  },
  {
   "cell_type": "code",
   "execution_count": null,
   "metadata": {
    "ExecuteTime": {
     "end_time": "2023-06-07T18:21:42.779355Z",
     "start_time": "2023-06-07T18:21:40.342933Z"
    }
   },
   "outputs": [],
   "source": [
    "from math import sqrt\n",
    "a=float(input(\"enter a non-zero a = \"))\n",
    "b=float(input(\"enter b = \"))\n",
    "c=float(input(\"enter c = \"))\n",
    "\n",
    "discriminant = b**2-4*a*c\n",
    "sqrt_discriminant = cm.sqrt(discriminant)\n",
    "\n",
    "x1=(-b+sqrt_discriminant)/(2*a)\n",
    "x2=(-b-sqrt_discriminant)/(2*a)\n",
    "\n",
    "print(\"x1= \", x1)\n",
    "print(\"x2= \", x2)"
   ]
  },
  {
   "cell_type": "markdown",
   "metadata": {},
   "source": [
    "# Exercises\n",
    "There are numerous exercises in this chapter to help review the first four chapters. Consider using any of the libraries referenced earlier including https://docs.python.org/3/library/math.html  \n",
    "1. Consider the following variable names and identify which ones (if any) are illegal\n",
    "    * x\n",
    "    * 2nd_area\n",
    "    * mass\n",
    "    * weight\n",
    "    * bottom_2nd_area\n",
    "    * bottom.2nd_area\n",
    "    * speed of_light\n",
    "    * cost0fliving\n",
    "    * Einstein's_field_equations\n",
    "    * R2D2+CP30\n",
    "<br>\n",
    "<br>\n",
    "1. Consider the following lines of input:\n",
    "    * 3\\*5-7 ** 3\n",
    "    * (3\\*5-7) ** 3\n",
    "    * y=6\n",
    "    * force = mass times acceleration \n",
    "    * force = mass \\* acceleration\n",
    "    * pressure = pressure + g * h\n",
    "Which if any of the above lines of input are invalid if typed in a Python interpreter? If so, why?<br>\n",
    "<br>\n",
    "1. Write a short program that displays your name and complete mailing address formatted in the manner that you would usually see it on the outside of an envelope. Your program should take input from the user.\n",
    "2. Evaluate the following expressions: $7-15$; $3^7+16/3$; $\\sqrt{12}-e^{4}$ using a line of syntax for each.\n",
    "3. Write Python code to calculate the expression $\\sqrt{(4x^{2}+\\pi) }x^{5}\\log _{4}x$, for a choice of $x>0$.\n",
    "4. Calculate $\\sin\\left \\{\\dfrac{1}{x^2+1}\\right\\}$ for $x=3.3$.\n",
    "5. The normal body temperature of a human is 37 degrees Celsius $C$. Convert this to degrees Fahrenheit $F$ using the expression $$C=\\dfrac{5}{9}(F-32)$$.\n",
    "6. The volume of blood in a human body is approximately 4.7 to 5.5 litres. Convert this range to both pints and gallons. (You Google the conversion formulae) \n",
    "7. Create a program that inputs from the user, two integers, $a$ and $b$. Compute and display:\n",
    "> * The sum of $a$ and $b$\n",
    "> * The difference when $b$ is subtracted from $a$\n",
    "> * The absolute value of the difference\n",
    "> * The product of $a$ and $b$\n",
    ">\n",
    "> * The quotient when $a$ is divided by $b$\n",
    ">\n",
    ">* The remainder when $a$ is divided by $b$\n",
    ">\n",
    ">* The result $\\log_{10}a$\n",
    "8. Write a short program to read in a users weight in kg. Then convert this amount into pounds and stones. **Hint:** 2.2lbs$\\equiv$1kg and 1 stone is 14lbs. \n",
    "9. A clinic currently measures the heights of patients in centimetres. You have been asked to assist them by writing a short Python program that reads in this information, to convert and display into feet and inches. **Hint:** One foot is 12 inches. One inch is 2.54 centimeters.\n",
    "10. The volume of a cylinder can be obtained by multiplying the area of its circular base by its height. Write a program that reads the radius of the cylinder, along with its height, from the user and computes its volume. Display the result rounded to two decimal places. The volume $V$ of a circular cone, radius $r$, and vertical height (from base to vertex) $h$ is given by $V=\\pi$$r^2{\\dfrac{h}{3}}$\n",
    "11. 180 degrees is equivalent to $\\pi$ radians. Write a program to convert degrees to radians. The user should input the degrees for conversion.\n",
    "12. This question involves using Python syntax to perform arithmetic on complex numbers. Let $z_{1}=3+5i$; $z_{2}=7-i$; $z_{3}=3-2i$ and $z_{4}=4+5i$. \n",
    ">* Calculate $z_{1}\\pm{z_{2}}$; $z_{3}{z_{4}}$; $\\dfrac{z_{3}}{z_{4}}$. What are the real and imaginary parts of $\\dfrac{z_{3}}{z_{4}}$\n",
    ">* Repeat the above by expressing each complex number in polar form, to validate your answers.\n",
    "13. You have just opened a new savings account. The risk-free interest rate is 3.6%  per annum compounded discretely. Write a program that begins by reading the amount of money deposited into the account from the user, as well as the rate of interest. Then your program should compute and display the amount in the savings account after 1, 2, and 3 years. Display each amount so that it is rounded to 2 decimal places. Repeat this exercise for the case where the risk free rate is continuously compounded. \n",
    "14. This problem is on discounting. Calculate the current worth of £5000 in 3 years time if the interest rate is 6% continuously compounded. \n",
    "15. What is the current value of £50,000 in ten years time, if the risk free rate is 1.5% continuously compounded? "
   ]
  },
  {
   "cell_type": "markdown",
   "metadata": {},
   "source": [
    "# Comparisons - Truth and Falsehood"
   ]
  },
  {
   "cell_type": "markdown",
   "metadata": {},
   "source": [
    "Logical operators are useful when combined with flow control, as they allow a program to search for truth/falsehood when making complex choices. "
   ]
  },
  {
   "cell_type": "code",
   "execution_count": null,
   "metadata": {},
   "outputs": [],
   "source": [
    "6<10 # asking the question"
   ]
  },
  {
   "cell_type": "code",
   "execution_count": null,
   "metadata": {},
   "outputs": [],
   "source": [
    "8>10 # asking the question"
   ]
  },
  {
   "cell_type": "code",
   "execution_count": null,
   "metadata": {},
   "outputs": [],
   "source": [
    "5==10 # Is 5=10?"
   ]
  },
  {
   "cell_type": "code",
   "execution_count": null,
   "metadata": {},
   "outputs": [],
   "source": [
    "10!=6 # 10 is not equal to 6"
   ]
  },
  {
   "cell_type": "markdown",
   "metadata": {},
   "source": [
    "True and False are (the only) two values of a special Python type called a “Boolean” used for recording whether something is true or not. In any code, further choices depend on the outcome of this test. \n",
    "Just as the “+” operator takes two integers and returns an integer value, the “<” operator takes two integers and returns a Boolean; **bool** for short."
   ]
  },
  {
   "cell_type": "code",
   "execution_count": null,
   "metadata": {
    "ExecuteTime": {
     "end_time": "2023-06-07T20:46:53.215936Z",
     "start_time": "2023-06-07T20:46:53.206930Z"
    }
   },
   "outputs": [],
   "source": [
    "type(False)"
   ]
  },
  {
   "cell_type": "code",
   "execution_count": null,
   "metadata": {
    "ExecuteTime": {
     "end_time": "2023-06-07T20:46:54.902140Z",
     "start_time": "2023-06-07T20:46:54.895159Z"
    }
   },
   "outputs": [],
   "source": [
    "type(10==10)"
   ]
  },
  {
   "cell_type": "markdown",
   "metadata": {},
   "source": [
    "## Six comparison operators\n",
    "<img src='./img/comparison.png' width=600>\n",
    "A common question in maths is to test if <br>\n",
    "$x\\in{(a,b)}$. \n",
    "Suppose we wish to test in Python if a number lies in the open interval 0 and 10. So suppose that number is 4"
   ]
  },
  {
   "cell_type": "code",
   "execution_count": null,
   "metadata": {
    "ExecuteTime": {
     "end_time": "2023-06-07T20:46:59.863242Z",
     "start_time": "2023-06-07T20:46:59.846287Z"
    }
   },
   "outputs": [],
   "source": [
    "number=4\n",
    "0<number<10"
   ]
  },
  {
   "cell_type": "markdown",
   "metadata": {},
   "source": [
    "We can also consider alphabetical ordering e.g."
   ]
  },
  {
   "cell_type": "code",
   "execution_count": null,
   "metadata": {},
   "outputs": [],
   "source": [
    "\"dig\"<\"dog\" # what will this tell us about 'o' compared to 'i' ?"
   ]
  },
  {
   "cell_type": "code",
   "execution_count": null,
   "metadata": {},
   "outputs": [],
   "source": [
    "\"digg\">\"dig\""
   ]
  },
  {
   "cell_type": "markdown",
   "metadata": {},
   "source": [
    "## Boolean arithmetic\n",
    "Boolean types have their own arithmetic just like ordinary numbers. Numbers have arithmetic operations +, –, $\\times$, $\\div$. What operations do Booleans have?\n",
    "The first operation is the **and** operator."
   ]
  },
  {
   "cell_type": "markdown",
   "metadata": {},
   "source": [
    "True **and** True $\\longrightarrow$ True \n",
    "\n",
    "True **and** False $\\longrightarrow$ False \n",
    "\n",
    "False **and** True $\\longrightarrow$ False \n",
    "\n",
    "False **and** False $\\longrightarrow$ False\n",
    "\n",
    "The **and** of two booleans values is True if (and only if) both its inputs are True. If either is False then its output is False. We see that the **and** condition is strong.\n",
    "\n",
    "**Examples**"
   ]
  },
  {
   "cell_type": "code",
   "execution_count": null,
   "metadata": {},
   "outputs": [],
   "source": [
    "5 < 10 and 6 >8"
   ]
  },
  {
   "cell_type": "markdown",
   "metadata": {},
   "source": [
    "Let's see what's happening here. 5 < 10 $\\longrightarrow$ True **and** 6 < 8 $\\longrightarrow$ True, hence the result is True."
   ]
  },
  {
   "cell_type": "code",
   "execution_count": null,
   "metadata": {},
   "outputs": [],
   "source": [
    "5!=10 and 6 < 8\n"
   ]
  },
  {
   "cell_type": "markdown",
   "metadata": {},
   "source": [
    "A similar breakdown gives 5$\\neq$10 $\\longrightarrow$ True **and** 6 > 8 $\\longrightarrow$ False, hence the result is False."
   ]
  },
  {
   "cell_type": "markdown",
   "metadata": {},
   "source": [
    "Now look at the **or** operator\n",
    "\n",
    "True **or** True $\\longrightarrow$ True \n",
    "\n",
    "True **or** False $\\longrightarrow$ True \n",
    "\n",
    "False **or** True $\\longrightarrow$ True \n",
    "\n",
    "False **or** False $\\longrightarrow$ False\n",
    "\n",
    "The results of this operation is True if either of its inputs are True and False only if both its inputs are False.The **or** condition is weaker than **and**.\n",
    "\n",
    "**Examples**"
   ]
  },
  {
   "cell_type": "code",
   "execution_count": null,
   "metadata": {},
   "outputs": [],
   "source": [
    "5 < 10 or 6 < 8 # This reduces to 'True or True'"
   ]
  },
  {
   "cell_type": "code",
   "execution_count": null,
   "metadata": {},
   "outputs": [],
   "source": [
    "5!=10 or 6 > 8 # This reduces to 'True or False'"
   ]
  },
  {
   "cell_type": "code",
   "execution_count": null,
   "metadata": {},
   "outputs": [],
   "source": [
    "5==10 or 6 > 8 # This reduces to 'False or False'"
   ]
  },
  {
   "cell_type": "markdown",
   "metadata": {},
   "source": [
    "The final operation is **not**. This takes only one input and “flips” it. True becomes False and vice versa.\n",
    "\n",
    "**not** True $\\longrightarrow$ False \n",
    "\n",
    "**not** False $\\longrightarrow$ True \n",
    "\n",
    "**Examples**\n"
   ]
  },
  {
   "cell_type": "code",
   "execution_count": null,
   "metadata": {},
   "outputs": [],
   "source": [
    "not 6>7 # evaluates to not False"
   ]
  },
  {
   "cell_type": "code",
   "execution_count": null,
   "metadata": {},
   "outputs": [],
   "source": [
    "not 5!=10 # evaluates to not True"
   ]
  },
  {
   "cell_type": "markdown",
   "metadata": {},
   "source": [
    "Have a look at the next interesting example"
   ]
  },
  {
   "cell_type": "code",
   "execution_count": null,
   "metadata": {},
   "outputs": [],
   "source": [
    "(5<6) or (3==4) and (2>3)"
   ]
  },
  {
   "cell_type": "markdown",
   "metadata": {
    "collapsed": true
   },
   "source": [
    "This brings us on to the subject of precedence of operators"
   ]
  },
  {
   "cell_type": "markdown",
   "metadata": {},
   "source": [
    "We have seen three examples of logical operators. The precedence of logical operators is even less than that of comparison operators. Here's the order\n",
    "\n",
    "<img src='./img/precedence.png' width=750>"
   ]
  },
  {
   "cell_type": "markdown",
   "metadata": {},
   "source": [
    "**Short circuiting** or short circuit logic is a process (supported by Python) when a program is running, and it hits a conditional.\n",
    "\n",
    "**or**: When an **or** expression is evaluated in Python, the first statement is checked, if true, then Python returns that object’s value without checking the second statement. The program does not bother with the second statement. If on the other hand the first value returns false, only then will Python check the second statement, then the result is based on the second half.\n",
    "\n",
    "**and**: For an **and** expression, Python uses a short circuit technique to check if the first statement is false then the whole statement must be false, so it returns that value. Only if the first value returns true, it checks the second statement and returns the value.\n",
    "\n",
    "An expression containing **and** and **or** stops execution when the truth value of expression has been achieved. Evaluation takes place from left to right.\n"
   ]
  },
  {
   "cell_type": "markdown",
   "metadata": {},
   "source": [
    "**Exercises:** Predict whether these expressions will evaluate to True or False. Then try them.\n",
    "\n",
    "1. \"sparrow\" > \"eagle\"\n",
    "2. \"dog\" < \"Cat\" or 45 % 3 == 15\n",
    "3. 60 - 45 / 5 + 10 == 1"
   ]
  },
  {
   "cell_type": "code",
   "execution_count": null,
   "metadata": {},
   "outputs": [],
   "source": [
    "\"sparrow\" > \"eagle\""
   ]
  },
  {
   "cell_type": "markdown",
   "metadata": {},
   "source": [
    "Predict the outcome in the following numerical examples and then run. (**You can switch from Markdown to code**)"
   ]
  },
  {
   "cell_type": "code",
   "execution_count": null,
   "metadata": {},
   "outputs": [],
   "source": [
    "(6 <= 6) and (5 < 3)"
   ]
  },
  {
   "cell_type": "markdown",
   "metadata": {},
   "source": [
    "(6 <= 6) or (5 < 3)"
   ]
  },
  {
   "cell_type": "markdown",
   "metadata": {},
   "source": [
    "(5 < 3) and (6 <= 6) or (5 != 6)"
   ]
  },
  {
   "cell_type": "markdown",
   "metadata": {},
   "source": [
    "not((5 < 3) and ((6 <= 6) or (5 != 6)))"
   ]
  },
  {
   "cell_type": "markdown",
   "metadata": {},
   "source": [
    "The operation of modifying a value is so common, most languages have short-cuts in their syntax to make the operations shorter to write. These operations are called “augmented assignments”.\n",
    "This sort of short-cut for an operation which could already be written in the language is sometimes called “syntactic sugar”. \n",
    "***\n",
    "<img src='./img/sugar.png' width=500>"
   ]
  },
  {
   "cell_type": "markdown",
   "metadata": {},
   "source": [
    "\n",
    "# Flow control and loops"
   ]
  },
  {
   "cell_type": "markdown",
   "metadata": {},
   "source": [
    "We discussed whitespace earlier and that in all but a few special cases, it is ignored by Python. Python uses white space changes to indicate the start and end of flow control blocks, and so indentation is important. Here the for loop is the most important control structure.\n",
    "\n",
    "For example, when using <span style=\"color:blue\">if . . . elif . . . else </span> blocks, all of the control blocks must have the same indentation level and all of the statements inside the control blocks should have the same level of indentation; or Python will return an error.\n",
    "Returning to the previous indentation level instructs Python that the block is complete. Best\n",
    "practice is to only use spaces (and not tabs) and to use 4 spaces when starting a new level of indentation which represents a sensible balance between readability and wasted space. \n",
    "In Python, loops can be programmed in a number of different ways. The most common is the for loop,\n",
    "which is used together with iterable objects, such as lists (or built-in functions e.g. range()).\n",
    "\n",
    "## The mechanics and counting example"
   ]
  },
  {
   "cell_type": "markdown",
   "metadata": {},
   "source": [
    "<img src='./img/mechanics.png' width=650>"
   ]
  },
  {
   "cell_type": "markdown",
   "metadata": {},
   "source": [
    "The loop test is a scalar logical expression, i.e. single valued. It is possible to use arrays\n",
    "containing a single element, however attempting to use an array with more than 1 element results in an error - careful! <span style=\"color:blue\">elif</span> and <span style=\"color:blue\">else</span> are optional and can always be replicated using nested if statements; this comes at the expense of more complex logic and deeper nesting. The generic form of an <span style=\"color:blue\">if . . . elif . . . else</span> block is \n",
    "\n",
    "<span style=\"color:blue\">if</span> logical_1:\n",
    "\n",
    "    Code to run if logical_1 \n",
    "    \n",
    "<span style=\"color:blue\">elif</span> logical_2:\n",
    "\n",
    "    Code to run if logical_2 and not logical_1\n",
    "    \n",
    "<span style=\"color:blue\">elif</span> logical_3:\n",
    "\n",
    "    Code to run if logical_3 and not logical_1 or logical_2\n",
    "    \n",
    "...\n",
    "\n",
    "...\n",
    "\n",
    "<span style=\"color:blue\">else</span>:\n",
    "\n",
    "    Code to run if all previous logicals are false\n",
    " \n",
    "**One has to be careful with the above logic and syntax. Simpler forms of the above are more commonly used, i.e.**\n",
    "\n",
    "<span style=\"color:blue\">if</span> logical:\n",
    "\n",
    "    Code to run if logical true \n",
    "\n",
    "or\n",
    "    \n",
    "<span style=\"color:blue\">if</span> logical:\n",
    "\n",
    "    Code to run if logical true\n",
    "    \n",
    "<span style=\"color:blue\">else</span> logical:\n",
    "\n",
    "    Code to run if logical false \n",
    "\n",
    "Here are some introductory examples in the use of the above syntax:"
   ]
  },
  {
   "cell_type": "code",
   "execution_count": null,
   "metadata": {},
   "outputs": [],
   "source": [
    "x = int(input(\"Type in a value of x between 0 and 10 (incl.): \"))\n",
    "if x>5:\n",
    "    x += 1\n",
    "    print(x)\n",
    "else:\n",
    "    x-=1\n",
    "    print(x)\n"
   ]
  },
  {
   "cell_type": "markdown",
   "metadata": {},
   "source": [
    "and"
   ]
  },
  {
   "cell_type": "code",
   "execution_count": null,
   "metadata": {
    "ExecuteTime": {
     "end_time": "2023-06-07T21:29:57.700399Z",
     "start_time": "2023-06-07T21:29:55.924534Z"
    }
   },
   "outputs": [],
   "source": [
    "x = int(input(\"Type in a value of x between 0 and 10 (incl.): \"))\n",
    "if x<5:\n",
    "    x += 1\n",
    "elif (x>5):\n",
    "    x-=1\n",
    "else:\n",
    "    x*=2\n",
    "print(x)"
   ]
  },
  {
   "cell_type": "markdown",
   "metadata": {},
   "source": [
    "**Quadratic equation formula**<br>\n",
    "Earlier we considered the formula for solving quadratic equations, with the restriction that $b^2$ - $4ac$ $>0$. Having defined the **if**, **elif** and **else** statements, we can consider all cases of $a, b, c$."
   ]
  },
  {
   "cell_type": "code",
   "execution_count": null,
   "metadata": {
    "ExecuteTime": {
     "end_time": "2023-06-07T21:30:15.818378Z",
     "start_time": "2023-06-07T21:30:15.805416Z"
    }
   },
   "outputs": [],
   "source": [
    "from math import sqrt\n",
    "\n",
    "a=2; b=4; c=5\n",
    "discriminant = b**2-4*a*c\n",
    "\n",
    "if a == 0:\n",
    "    x=-c/(b)\n",
    "    print(\"a linear equation with solution x = \", x)\n",
    "    \n",
    "elif discriminant > 0:\n",
    "    x1=(-b+sqrt(discriminant))/(2*a)\n",
    "    x2=(-b-sqrt(discriminant))/(2*a)\n",
    "    print(\"x1= \", x1)\n",
    "    print(\"x2= \", x2)\n",
    "    \n",
    "elif discriminant == 0:\n",
    "    x=(-b)/(2*a)\n",
    "    print(\"A two-fold repeated root = \", x)\n",
    "    \n",
    "else: \n",
    "    real = (-b/2*a)\n",
    "    imag = sqrt(abs(discriminant))/(2*a)\n",
    "\n",
    "    print(\"x1= \", real, \" + \", imag, \"i\")\n",
    "    print(\"x2= \", real, \" - \", imag, \"i\") "
   ]
  },
  {
   "cell_type": "markdown",
   "metadata": {},
   "source": [
    "## For loops \n",
    "<span style=\"color:blue\">for</span> loops begin with <span style=\"color:blue\">for</span> item in an iterable object, and the generic structure of a <span style=\"color:blue\">for</span> loop is\n",
    "\n",
    "<span style=\"color:blue\">for</span> item <span style=\"color:blue\">in</span> iterable:\n",
    "    \n",
    "    Code to run\n",
    "item is an element from iterable, and iterable can be anything that is iterable in Python. The most common are *range*, *list*, *tuple*, arrays or matrices. The <span style=\"color:blue\">for</span> loop will iterate across all items in iterable, beginning with item 0 and continuing until the final element.\n",
    "Here's the earlier <span style=\"color:blue\">while</span> loop written as a <span style=\"color:blue\">for</span> loop"
   ]
  },
  {
   "cell_type": "code",
   "execution_count": null,
   "metadata": {
    "ExecuteTime": {
     "end_time": "2023-06-07T23:18:19.785632Z",
     "start_time": "2023-06-07T23:18:19.780616Z"
    }
   },
   "outputs": [],
   "source": [
    "n=10\n",
    "for n in range(1,n+1):\n",
    "    print(n, '\\t', n**2)\n",
    "print(\"Done\")"
   ]
  },
  {
   "cell_type": "code",
   "execution_count": null,
   "metadata": {
    "ExecuteTime": {
     "end_time": "2023-06-07T23:18:27.608060Z",
     "start_time": "2023-06-07T23:18:23.484119Z"
    }
   },
   "outputs": [],
   "source": [
    "n=int(input('Enter an upper limit: '))\n",
    "sum=0\n",
    "for n in range(1,n+1):\n",
    "    sum+=n**2\n",
    "    print(n, sum)"
   ]
  },
  {
   "cell_type": "code",
   "execution_count": null,
   "metadata": {
    "ExecuteTime": {
     "end_time": "2023-06-07T23:18:32.326473Z",
     "start_time": "2023-06-07T23:18:32.316461Z"
    }
   },
   "outputs": [],
   "source": [
    "for x in range(4): # by default range start at 0\n",
    "    print(x)"
   ]
  },
  {
   "cell_type": "code",
   "execution_count": null,
   "metadata": {
    "ExecuteTime": {
     "end_time": "2023-06-07T23:18:35.496086Z",
     "start_time": "2023-06-07T23:18:35.492064Z"
    }
   },
   "outputs": [],
   "source": [
    "for x in range(-3,3):\n",
    "    print(x)"
   ]
  },
  {
   "cell_type": "markdown",
   "metadata": {},
   "source": [
    "# Other data structures"
   ]
  },
  {
   "cell_type": "markdown",
   "metadata": {},
   "source": [
    "Python has several built-in data types. They can broadly be classified as either sequential or non-sequential. Strings have been discussed earlier. A sequence data type, allows organising values in an efficient manner and it accesses the data sequentially. A non-sequential data type is a data type, which accesses the data in a non-sequential manner.\n",
    "\n",
    "The sequential data types are: \n",
    "1. String \n",
    "2. List \n",
    "3. Tuple \n",
    "\n",
    "The non sequential data types are: \n",
    "1. Dictionary \n",
    "2. Set "
   ]
  },
  {
   "cell_type": "markdown",
   "metadata": {},
   "source": [
    "## Lists\n",
    "The new python type we are going to meet is called a List. \n",
    "Lists are **compound** data types. This means they are sequences of values, very similar to strings, except that each element can be of any type – they are heterogeneous. The syntax for creating a list is [....] where each element is separated with a ,\n",
    "['American','Asian','Bermudan','Binary', ...]\n",
    "[3.141592653589793,1.5707963267948966, 0.0]\n",
    "\n",
    "The contents of a list need not be unique (allowing repitition). Programs usually don’t operate on single values, but on whole collections of them.\n",
    "Lists are **mutable**. This means their contents can be changed once created; i.e. as more statements are interpreted. \n",
    "### What is a list?\n",
    "Consider the first list above (more lengthier)\n",
    "American, Asian, Bermudan, Binary, Cliquet, Lookback, Parisian, Passport, ... , Vanilla\n",
    "\n",
    "*A sequence of values* - the names of option's contracts\n",
    "\n",
    "*Values stored in order* - alphabetic\n",
    "\n",
    "*Individual value identified by position in the sequence* - \"Binary\" is the name of the element number 3 in the list (remember numering starts at 0).\n",
    "\n",
    "How can we create that list?"
   ]
  },
  {
   "cell_type": "code",
   "execution_count": null,
   "metadata": {
    "ExecuteTime": {
     "end_time": "2023-06-08T21:15:05.204364Z",
     "start_time": "2023-06-08T21:15:05.187410Z"
    }
   },
   "outputs": [],
   "source": [
    "options=[\"American\",'Asian','Bermudan','Binary','Binary'] # can also use \" or combination \n",
    "options"
   ]
  },
  {
   "cell_type": "code",
   "execution_count": null,
   "metadata": {
    "ExecuteTime": {
     "end_time": "2023-06-08T21:15:06.775160Z",
     "start_time": "2023-06-08T21:15:06.763193Z"
    }
   },
   "outputs": [],
   "source": [
    "options[0]=\"Black Scholes\"\n",
    "options"
   ]
  },
  {
   "cell_type": "code",
   "execution_count": null,
   "metadata": {
    "ExecuteTime": {
     "end_time": "2023-06-08T21:15:08.593324Z",
     "start_time": "2023-06-08T21:15:08.584319Z"
    }
   },
   "outputs": [],
   "source": [
    "angles= [3.141592653589793,1.5707963267948966, 0.0]\n",
    "angles"
   ]
  },
  {
   "cell_type": "markdown",
   "metadata": {},
   "source": [
    "primes=[2,3,5,7,11,13,17,23,29]\n",
    "\n",
    "*A sequence of values* - the prime numbers less than 30\n",
    "\n",
    "*Values stored in order* - numerical order\n",
    "\n",
    "*Individual value identified by position in the sequence* - 17 is the element number six."
   ]
  },
  {
   "cell_type": "markdown",
   "metadata": {},
   "source": [
    "**Sorting a list**"
   ]
  },
  {
   "cell_type": "markdown",
   "metadata": {},
   "source": [
    "A list can be sorted using `sorted()`. It will arrange alphbetically and numerically. Consider two such lists respectively "
   ]
  },
  {
   "cell_type": "code",
   "execution_count": null,
   "metadata": {
    "ExecuteTime": {
     "end_time": "2023-06-08T21:15:20.000981Z",
     "start_time": "2023-06-08T21:15:19.986021Z"
    }
   },
   "outputs": [],
   "source": [
    "names = ['Sam', 'Justin', 'Paul', 'Jeff', 'Riaz', 'Frank', 'Sergey', 'Hugo', 'Oliver', 'Tam O Shanter', 'Guido', 'Sam']\n",
    "print(names)"
   ]
  },
  {
   "cell_type": "code",
   "execution_count": null,
   "metadata": {
    "ExecuteTime": {
     "end_time": "2023-06-08T21:24:25.310961Z",
     "start_time": "2023-06-08T21:24:25.296999Z"
    }
   },
   "outputs": [],
   "source": [
    "print(sorted(names)) # sort and print\n",
    "# or create a new list of alphabetically arranged names\n",
    "new_names=sorted(names)\n",
    "print(new_names)\n",
    "a_few_names=names[0:3]\n",
    "a_few_names"
   ]
  },
  {
   "cell_type": "code",
   "execution_count": null,
   "metadata": {
    "ExecuteTime": {
     "end_time": "2023-06-08T21:25:31.904984Z",
     "start_time": "2023-06-08T21:25:31.898001Z"
    }
   },
   "outputs": [],
   "source": [
    "numbers=['23','18','54','52','82','58','30','59']\n",
    "print(numbers) \n",
    "# now arrange numerically\n",
    "sorted(numbers) # single parameter ascending by default"
   ]
  },
  {
   "cell_type": "markdown",
   "metadata": {},
   "source": [
    "The function takes more than parameter. The previous have been examples of ascending order, which is the default case. The second function allows us to change to descending"
   ]
  },
  {
   "cell_type": "code",
   "execution_count": null,
   "metadata": {
    "ExecuteTime": {
     "end_time": "2023-06-08T21:25:34.970782Z",
     "start_time": "2023-06-08T21:25:34.951802Z"
    }
   },
   "outputs": [],
   "source": [
    "print(sorted(names, reverse=True))\n",
    "print(sorted(numbers, reverse=True))"
   ]
  },
  {
   "cell_type": "markdown",
   "metadata": {},
   "source": [
    "**List of irrationals**"
   ]
  },
  {
   "cell_type": "code",
   "execution_count": null,
   "metadata": {
    "ExecuteTime": {
     "end_time": "2023-06-08T21:25:49.619610Z",
     "start_time": "2023-06-08T21:25:49.601637Z"
    }
   },
   "outputs": [],
   "source": [
    "from math import sqrt, pi, exp"
   ]
  },
  {
   "cell_type": "code",
   "execution_count": null,
   "metadata": {
    "ExecuteTime": {
     "end_time": "2023-06-08T21:26:32.042059Z",
     "start_time": "2023-06-08T21:26:32.033095Z"
    }
   },
   "outputs": [],
   "source": [
    "irrationals=[exp(1.0),sqrt(2),pi]\n",
    "print(type(irrationals))"
   ]
  },
  {
   "cell_type": "code",
   "execution_count": null,
   "metadata": {
    "ExecuteTime": {
     "end_time": "2023-06-08T21:26:37.935288Z",
     "start_time": "2023-06-08T21:26:37.928307Z"
    }
   },
   "outputs": [],
   "source": [
    "print(irrationals)"
   ]
  },
  {
   "cell_type": "code",
   "execution_count": null,
   "metadata": {
    "ExecuteTime": {
     "end_time": "2023-06-08T21:26:39.463268Z",
     "start_time": "2023-06-08T21:26:39.447310Z"
    }
   },
   "outputs": [],
   "source": [
    "irrationals[0]=sqrt(12)\n",
    "print(irrationals)"
   ]
  },
  {
   "cell_type": "markdown",
   "metadata": {},
   "source": [
    "Here's a list of mixed objects, i.e. elements of dfferent types"
   ]
  },
  {
   "cell_type": "code",
   "execution_count": null,
   "metadata": {
    "ExecuteTime": {
     "end_time": "2023-06-08T21:26:43.344880Z",
     "start_time": "2023-06-08T21:26:43.336931Z"
    }
   },
   "outputs": [],
   "source": [
    "mixed=[\"hello\", sqrt(3), 4]\n",
    "print(mixed)\n",
    "type(mixed) # mixed is still a type list"
   ]
  },
  {
   "cell_type": "code",
   "execution_count": null,
   "metadata": {
    "ExecuteTime": {
     "end_time": "2023-06-08T21:26:45.978834Z",
     "start_time": "2023-06-08T21:26:45.959884Z"
    }
   },
   "outputs": [],
   "source": [
    "sorted(mixed) # doesn't work!"
   ]
  },
  {
   "cell_type": "markdown",
   "metadata": {},
   "source": [
    "We can count from the end – indexing from the back"
   ]
  },
  {
   "cell_type": "code",
   "execution_count": null,
   "metadata": {
    "ExecuteTime": {
     "end_time": "2023-06-08T21:26:56.581050Z",
     "start_time": "2023-06-08T21:26:56.568055Z"
    }
   },
   "outputs": [],
   "source": [
    "primes = [ 2, 3, 5, 7, 11, 13, 17, 19]\n",
    "primes[-1]"
   ]
  },
  {
   "cell_type": "markdown",
   "metadata": {},
   "source": [
    "We can reverse the list using the reverse() method. This will change the original object/list"
   ]
  },
  {
   "cell_type": "code",
   "execution_count": null,
   "metadata": {
    "ExecuteTime": {
     "end_time": "2023-06-08T21:26:58.452013Z",
     "start_time": "2023-06-08T21:26:58.434062Z"
    }
   },
   "outputs": [],
   "source": [
    "primes.reverse()\n",
    "print(primes)"
   ]
  },
  {
   "cell_type": "markdown",
   "metadata": {},
   "source": [
    "We can also create a list using <font color = blue> for </font>. Consider a list of square roots"
   ]
  },
  {
   "cell_type": "code",
   "execution_count": null,
   "metadata": {
    "ExecuteTime": {
     "end_time": "2023-06-08T21:27:01.803046Z",
     "start_time": "2023-06-08T21:27:01.792076Z"
    }
   },
   "outputs": [],
   "source": [
    "[sqrt(x) for x in range(10)]\n",
    "# print will do so in row form"
   ]
  },
  {
   "cell_type": "markdown",
   "metadata": {},
   "source": [
    "Better to repeat the working in the previous cell is to create/initialise a list called (say) sqr_roots"
   ]
  },
  {
   "cell_type": "code",
   "execution_count": null,
   "metadata": {
    "ExecuteTime": {
     "end_time": "2023-06-08T21:27:03.676034Z",
     "start_time": "2023-06-08T21:27:03.669052Z"
    }
   },
   "outputs": [],
   "source": [
    "sqr_roots=[sqrt(x) for x in range(10)]\n",
    "print(sqr_roots)\n",
    "type(sqr_roots)"
   ]
  },
  {
   "cell_type": "markdown",
   "metadata": {},
   "source": [
    "### Inserting element using list methods I\n",
    "List methods are an alternative, more readable way of inserting elements.\n",
    "**append()** adds an element to the end of a list"
   ]
  },
  {
   "cell_type": "code",
   "execution_count": null,
   "metadata": {
    "ExecuteTime": {
     "end_time": "2023-06-08T21:32:28.717455Z",
     "start_time": "2023-06-08T21:32:28.710477Z"
    }
   },
   "outputs": [],
   "source": [
    "top_university=['Cambridge','Oxford']\n",
    "top_university.append('UCL')\n",
    "top_university"
   ]
  },
  {
   "cell_type": "markdown",
   "metadata": {},
   "source": [
    "**extend()** appends all elements of another list\n"
   ]
  },
  {
   "cell_type": "code",
   "execution_count": null,
   "metadata": {
    "ExecuteTime": {
     "end_time": "2023-06-08T21:32:43.720712Z",
     "start_time": "2023-06-08T21:32:43.710739Z"
    }
   },
   "outputs": [],
   "source": [
    "top_university.extend(['Glasgow', 'Edinburgh'])\n",
    "top_university"
   ]
  },
  {
   "cell_type": "markdown",
   "metadata": {},
   "source": [
    "A more efficient way would be to have a list called (say)  "
   ]
  },
  {
   "cell_type": "code",
   "execution_count": null,
   "metadata": {
    "ExecuteTime": {
     "end_time": "2023-06-08T21:33:07.404019Z",
     "start_time": "2023-06-08T21:33:07.396013Z"
    }
   },
   "outputs": [],
   "source": [
    "Scottish_university=['Glasgow', 'Edinburgh']"
   ]
  },
  {
   "cell_type": "markdown",
   "metadata": {},
   "source": [
    "and make Scottish_university the parameter for the method extend. "
   ]
  },
  {
   "cell_type": "markdown",
   "metadata": {},
   "source": [
    "**insert(i, x)** inserts x before ith element:"
   ]
  },
  {
   "cell_type": "code",
   "execution_count": null,
   "metadata": {
    "ExecuteTime": {
     "end_time": "2023-06-08T21:33:24.497711Z",
     "start_time": "2023-06-08T21:33:24.482753Z"
    }
   },
   "outputs": [],
   "source": [
    "top_university.insert(0,'Peking')\n",
    "top_university"
   ]
  },
  {
   "cell_type": "markdown",
   "metadata": {},
   "source": [
    "### Further insertion using list methods\n",
    "**pop(i)** removes and returns the i<sup> th </sup> element. It is a Python list method. If pop() is called with no arguments, it removes the last element of the list. The **del** statement can also be used to delete elements of a list, or the entire list."
   ]
  },
  {
   "cell_type": "code",
   "execution_count": null,
   "metadata": {
    "ExecuteTime": {
     "end_time": "2023-06-08T21:37:08.273857Z",
     "start_time": "2023-06-08T21:37:08.266876Z"
    }
   },
   "outputs": [],
   "source": [
    "more=['Cambridge','Oxford', 'Harvard', 'MIT']\n",
    "more.pop(2)\n",
    "\n",
    "#print(more)"
   ]
  },
  {
   "cell_type": "code",
   "execution_count": null,
   "metadata": {
    "ExecuteTime": {
     "end_time": "2023-06-08T21:37:19.190114Z",
     "start_time": "2023-06-08T21:37:19.185113Z"
    }
   },
   "outputs": [],
   "source": [
    "more.remove('MIT') # this method removes the required element, but no return\n",
    "more"
   ]
  },
  {
   "cell_type": "code",
   "execution_count": null,
   "metadata": {
    "ExecuteTime": {
     "end_time": "2023-06-08T21:33:40.143002Z",
     "start_time": "2023-06-08T21:33:40.134996Z"
    }
   },
   "outputs": [],
   "source": [
    "more.pop() # zero argument removes last element of list\n",
    "more"
   ]
  },
  {
   "cell_type": "code",
   "execution_count": null,
   "metadata": {
    "ExecuteTime": {
     "end_time": "2023-06-08T21:33:41.880937Z",
     "start_time": "2023-06-08T21:33:41.861989Z"
    }
   },
   "outputs": [],
   "source": [
    "del more[0]\n",
    "more"
   ]
  },
  {
   "cell_type": "code",
   "execution_count": null,
   "metadata": {
    "ExecuteTime": {
     "end_time": "2023-06-08T21:33:43.222555Z",
     "start_time": "2023-06-08T21:33:43.199618Z"
    }
   },
   "outputs": [],
   "source": [
    "del more # a complete list can be deleted\n",
    "more"
   ]
  },
  {
   "cell_type": "markdown",
   "metadata": {},
   "source": [
    "So although these three commands **pop**, **remove**, **del** may appear to be performing the same task, they in fact represent different executions. \n",
    "* **remove** removes the first matching value, not a specific index\n",
    "* **del** removes the item at a specific index\n",
    "* **pop** removes the item at a specific index and returns it"
   ]
  },
  {
   "cell_type": "code",
   "execution_count": null,
   "metadata": {
    "ExecuteTime": {
     "end_time": "2023-06-08T21:38:19.096032Z",
     "start_time": "2023-06-08T21:38:19.087085Z"
    }
   },
   "outputs": [],
   "source": [
    "lists=['Larry', 'Daisy', 'Pip', 'Buster', 'Larry'];  \n",
    "lists.remove('Larry')\n",
    "lists"
   ]
  },
  {
   "cell_type": "code",
   "execution_count": null,
   "metadata": {
    "ExecuteTime": {
     "end_time": "2023-06-08T21:38:30.130296Z",
     "start_time": "2023-06-08T21:38:30.114338Z"
    }
   },
   "outputs": [],
   "source": [
    "print(lists)"
   ]
  },
  {
   "cell_type": "code",
   "execution_count": null,
   "metadata": {
    "ExecuteTime": {
     "end_time": "2023-06-08T21:38:35.366905Z",
     "start_time": "2023-06-08T21:38:35.350002Z"
    }
   },
   "outputs": [],
   "source": [
    "del lists[0]\n",
    "lists"
   ]
  },
  {
   "cell_type": "markdown",
   "metadata": {},
   "source": [
    "To determine the length of a list; the earlier function **len** used for strings, can be used here."
   ]
  },
  {
   "cell_type": "code",
   "execution_count": null,
   "metadata": {
    "ExecuteTime": {
     "end_time": "2023-06-08T21:38:43.622420Z",
     "start_time": "2023-06-08T21:38:43.614441Z"
    }
   },
   "outputs": [],
   "source": [
    "primes = [ 2, 3, 5, 7, 11, 13, 17, 19] # index runs from 0 to 7 incl.\n",
    "len(primes)"
   ]
  },
  {
   "cell_type": "code",
   "execution_count": null,
   "metadata": {
    "ExecuteTime": {
     "end_time": "2023-06-08T21:38:44.728148Z",
     "start_time": "2023-06-08T21:38:44.722191Z"
    }
   },
   "outputs": [],
   "source": [
    "primes"
   ]
  },
  {
   "cell_type": "markdown",
   "metadata": {},
   "source": [
    "We have been joining lists above. There are a number of ways to join/concatenate lists. We can also use the arithmetic operator to do this "
   ]
  },
  {
   "cell_type": "code",
   "execution_count": null,
   "metadata": {
    "ExecuteTime": {
     "end_time": "2023-06-08T21:38:49.971222Z",
     "start_time": "2023-06-08T21:38:49.966236Z"
    }
   },
   "outputs": [],
   "source": [
    "List1=['England','Wales']; List2=['Scotland', 'Northern Ireland']\n",
    "UK=List1+List2\n",
    "print(UK)"
   ]
  },
  {
   "cell_type": "code",
   "execution_count": null,
   "metadata": {
    "ExecuteTime": {
     "end_time": "2023-06-08T21:39:01.856118Z",
     "start_time": "2023-06-08T21:39:01.847114Z"
    }
   },
   "outputs": [],
   "source": [
    "new_list=List2*3 # creates a list which is a triplicate\n",
    "print(new_list)"
   ]
  },
  {
   "cell_type": "markdown",
   "metadata": {},
   "source": [
    "## Tuples\n",
    "**Tuples** are like lists, except that they cannot be modified once created, that is they are **immutable**. They can be thought of as lightweight, fast data structures. In Python, tuples, are easily created using the syntax (..., ..., ...), or even ..., ...They are also heterogeneous. "
   ]
  },
  {
   "cell_type": "code",
   "execution_count": null,
   "metadata": {
    "ExecuteTime": {
     "end_time": "2023-06-08T21:40:52.107444Z",
     "start_time": "2023-06-08T21:40:52.097471Z"
    }
   },
   "outputs": [],
   "source": [
    "point=(4,5)\n",
    "print(point,type(point))"
   ]
  },
  {
   "cell_type": "code",
   "execution_count": null,
   "metadata": {
    "ExecuteTime": {
     "end_time": "2023-06-08T21:40:54.165771Z",
     "start_time": "2023-06-08T21:40:54.157793Z"
    }
   },
   "outputs": [],
   "source": [
    "from math import pi\n",
    "point=(1,\"Red\",pi) # new definition\n",
    "print(point,type(point))"
   ]
  },
  {
   "cell_type": "markdown",
   "metadata": {},
   "source": [
    "We can use **+** and **x** as we did earlier with strings"
   ]
  },
  {
   "cell_type": "markdown",
   "metadata": {},
   "source": [
    "**Tuple unpacking** - Tuples (and lists) can be unpacked by assigning it to a comma-separated list of variables. This means you can assign multiple variables at once e.g. \n"
   ]
  },
  {
   "cell_type": "code",
   "execution_count": null,
   "metadata": {
    "ExecuteTime": {
     "end_time": "2023-06-08T21:43:03.391109Z",
     "start_time": "2023-06-08T21:43:03.381109Z"
    }
   },
   "outputs": [],
   "source": [
    "coordinate = 4, 5, 6, 5 # note tuple defined without brackets\n",
    "x,y,z,t = coordinate\n",
    "#x=4; y=5; z=6 ; t=7 # assignment\n",
    "print(\"x=\",x,'\\t',\"y=\",y,'\\t',\"z=\",z,'\\t', \"t=\",t)\n"
   ]
  },
  {
   "cell_type": "markdown",
   "metadata": {},
   "source": [
    "Trying to assign a new value to an element in a tuple results in an error."
   ]
  },
  {
   "cell_type": "markdown",
   "metadata": {},
   "source": [
    "Let's look at some of the methods available for tuples"
   ]
  },
  {
   "cell_type": "code",
   "execution_count": null,
   "metadata": {
    "ExecuteTime": {
     "end_time": "2023-06-08T21:43:10.703605Z",
     "start_time": "2023-06-08T21:43:10.684656Z"
    }
   },
   "outputs": [],
   "source": [
    "coordinate.count(5) # this will search for how many time 5 appears in the tuple"
   ]
  },
  {
   "cell_type": "code",
   "execution_count": null,
   "metadata": {
    "ExecuteTime": {
     "end_time": "2023-06-08T21:43:21.542217Z",
     "start_time": "2023-06-08T21:43:21.533213Z"
    }
   },
   "outputs": [],
   "source": [
    "coordinate.count(1) # this will return 0 as 1 is not in the tuple"
   ]
  },
  {
   "cell_type": "markdown",
   "metadata": {},
   "source": [
    "**Another example**"
   ]
  },
  {
   "cell_type": "code",
   "execution_count": null,
   "metadata": {
    "ExecuteTime": {
     "end_time": "2023-06-08T21:43:23.015622Z",
     "start_time": "2023-06-08T21:43:23.004682Z"
    }
   },
   "outputs": [],
   "source": [
    "surname = 'Ahmad', 'Sirignano', 'Howison', 'Wilmott', 'Howison', 'Smith', 'Dewynne', 'Timoshin', 'Smith', 'Germano', 'Smith'\n",
    "surname"
   ]
  },
  {
   "cell_type": "code",
   "execution_count": null,
   "metadata": {
    "ExecuteTime": {
     "end_time": "2023-06-08T21:43:29.101618Z",
     "start_time": "2023-06-08T21:43:29.085660Z"
    }
   },
   "outputs": [],
   "source": [
    "surname.count('Smith')"
   ]
  },
  {
   "cell_type": "code",
   "execution_count": null,
   "metadata": {
    "ExecuteTime": {
     "end_time": "2023-06-08T21:44:06.066071Z",
     "start_time": "2023-06-08T21:44:06.048120Z"
    }
   },
   "outputs": [],
   "source": [
    "surname.index('Ahmad') # returns location of name in brackets"
   ]
  },
  {
   "cell_type": "markdown",
   "metadata": {},
   "source": [
    "## Tuples vs Lists\n",
    "* tuples can be used instead of lists, but they have many fewer functions\n",
    "* but as they cannot be modified then there is no append(), insert() for example\n",
    "\n",
    "So why not just use lists instead of tuples everywhere?\n",
    "* tuples use less space - they are stored in a single block of memory\n",
    "* tuples cannot be modified by accident\n",
    "* tuples can be used as dictionary keys\n",
    "* Function arguments are passed as tuples\n",
    "* Tuples are faster"
   ]
  },
  {
   "cell_type": "markdown",
   "metadata": {},
   "source": [
    "Simpler tuples can be constructed. A one-tuple is created by a comma after the sole element (else a string is initialised)"
   ]
  },
  {
   "cell_type": "code",
   "execution_count": null,
   "metadata": {
    "ExecuteTime": {
     "end_time": "2023-06-08T21:44:13.469613Z",
     "start_time": "2023-06-08T21:44:13.452631Z"
    }
   },
   "outputs": [],
   "source": [
    "city=('London',)\n",
    "print(type(city))"
   ]
  },
  {
   "cell_type": "code",
   "execution_count": null,
   "metadata": {
    "ExecuteTime": {
     "end_time": "2023-06-08T21:44:15.379909Z",
     "start_time": "2023-06-08T21:44:15.369919Z"
    }
   },
   "outputs": [],
   "source": [
    "city=('London') # no comma\n",
    "print(type(city))"
   ]
  },
  {
   "cell_type": "markdown",
   "metadata": {},
   "source": [
    "An empty tuple is denoted by ()"
   ]
  },
  {
   "cell_type": "code",
   "execution_count": null,
   "metadata": {
    "ExecuteTime": {
     "end_time": "2023-06-08T21:44:38.008848Z",
     "start_time": "2023-06-08T21:44:37.998854Z"
    }
   },
   "outputs": [],
   "source": [
    "city=()\n",
    "print(city, type(city))"
   ]
  },
  {
   "cell_type": "code",
   "execution_count": null,
   "metadata": {
    "ExecuteTime": {
     "end_time": "2023-06-08T21:44:40.788999Z",
     "start_time": "2023-06-08T21:44:40.783043Z"
    }
   },
   "outputs": [],
   "source": [
    "len(city)"
   ]
  },
  {
   "cell_type": "markdown",
   "metadata": {},
   "source": [
    "## List to Tuple\n",
    "To convert a list to a tuple, use the function **tuple()**"
   ]
  },
  {
   "cell_type": "code",
   "execution_count": null,
   "metadata": {
    "ExecuteTime": {
     "end_time": "2023-06-08T21:44:46.666397Z",
     "start_time": "2023-06-08T21:44:46.646422Z"
    }
   },
   "outputs": [],
   "source": [
    "stuff1=[7,'xyz'] # create a list\n",
    "type(stuff1)"
   ]
  },
  {
   "cell_type": "code",
   "execution_count": null,
   "metadata": {
    "ExecuteTime": {
     "end_time": "2023-06-08T21:44:47.843830Z",
     "start_time": "2023-06-08T21:44:47.830865Z"
    }
   },
   "outputs": [],
   "source": [
    "y=tuple(stuff1)\n",
    "type(y)"
   ]
  }
 ],
 "metadata": {
  "author": "mes",
  "kernelspec": {
   "display_name": "Python 3 (ipykernel)",
   "language": "python",
   "name": "python3"
  },
  "language_info": {
   "codemirror_mode": {
    "name": "ipython",
    "version": 3
   },
   "file_extension": ".py",
   "mimetype": "text/x-python",
   "name": "python",
   "nbconvert_exporter": "python",
   "pygments_lexer": "ipython3",
   "version": "3.9.13"
  },
  "latex_envs": {
   "LaTeX_envs_menu_present": true,
   "autoclose": false,
   "autocomplete": true,
   "bibliofile": "biblio.bib",
   "cite_by": "apalike",
   "current_citInitial": 1,
   "eqLabelWithNumbers": true,
   "eqNumInitial": 1,
   "hotkeys": {
    "equation": "Ctrl-E",
    "itemize": "Ctrl-I"
   },
   "labels_anchors": false,
   "latex_user_defs": false,
   "report_style_numbering": false,
   "user_envs_cfg": false
  },
  "nbTranslate": {
   "displayLangs": [
    "*"
   ],
   "hotkey": "alt-t",
   "langInMainMenu": true,
   "sourceLang": "en",
   "targetLang": "fr",
   "useGoogleTranslate": true
  },
  "toc": {
   "base_numbering": 1,
   "nav_menu": {},
   "number_sections": true,
   "sideBar": true,
   "skip_h1_title": false,
   "title_cell": "Table of Contents",
   "title_sidebar": "Contents",
   "toc_cell": false,
   "toc_position": {
    "height": "calc(100% - 180px)",
    "left": "10px",
    "top": "150px",
    "width": "422.969px"
   },
   "toc_section_display": true,
   "toc_window_display": true
  },
  "varInspector": {
   "cols": {
    "lenName": 16,
    "lenType": 16,
    "lenVar": 40
   },
   "kernels_config": {
    "python": {
     "delete_cmd_postfix": "",
     "delete_cmd_prefix": "del ",
     "library": "var_list.py",
     "varRefreshCmd": "print(var_dic_list())"
    },
    "r": {
     "delete_cmd_postfix": ") ",
     "delete_cmd_prefix": "rm(",
     "library": "var_list.r",
     "varRefreshCmd": "cat(var_dic_list()) "
    }
   },
   "types_to_exclude": [
    "module",
    "function",
    "builtin_function_or_method",
    "instance",
    "_Feature"
   ],
   "window_display": false
  }
 },
 "nbformat": 4,
 "nbformat_minor": 2
}
