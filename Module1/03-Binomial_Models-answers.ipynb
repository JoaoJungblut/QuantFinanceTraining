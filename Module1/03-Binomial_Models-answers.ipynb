{
 "cells": [
  {
   "attachments": {},
   "cell_type": "markdown",
   "id": "8c3349a4",
   "metadata": {},
   "source": [
    " <br> <font color = blue size=8>CQF Lecture Three - Exercises </font> "
   ]
  },
  {
   "attachments": {},
   "cell_type": "markdown",
   "id": "d4afde1d",
   "metadata": {},
   "source": [
    "The calculations in this problem set center on using the delta hedge portfolio."
   ]
  },
  {
   "attachments": {},
   "cell_type": "markdown",
   "id": "6b173a0d",
   "metadata": {},
   "source": [
    "1. (Ice-breaker) A share price is currently £80. At the end of three months, it will be either £84 or £76. Ignoring interest rates, calculate the value of a three-month European call option with exercise price £79."
   ]
  },
  {
   "attachments": {},
   "cell_type": "markdown",
   "id": "ac92ae9d",
   "metadata": {},
   "source": [
    "2. A share price is currently £92. At the end of one year, it will be either £86 or £98. Calculate the value of a one-year European call option with exercise price £90 using a single-step binomial tree. The risk-free interest rate is 2\\% p.a. with continuous compounding."
   ]
  },
  {
   "attachments": {},
   "cell_type": "markdown",
   "id": "9e458299",
   "metadata": {},
   "source": [
    "3. A share price is currently £15. At the end of three months, it will be either £13 or £17. Interest rates are zero. Calculate the value of a three-month European style 'power' option with payoff $\\text{max}(S^2 - 159,0)$ where $S$ is the share price at the end of three months."
   ]
  },
  {
   "attachments": {},
   "cell_type": "markdown",
   "id": "6c8ec9e7",
   "metadata": {},
   "source": [
    "4. A share price is currently £75. At the end of three months, it will be either £59 or £92. What are the risk-neutral probabilities that the share price rises or falls? The risk-free interest rate is zero."
   ]
  },
  {
   "attachments": {},
   "cell_type": "markdown",
   "id": "487fb057",
   "metadata": {},
   "source": [
    "5. A binary call option (also called digital option) $B_c(S, t)$ has a payoff of one if at expiry it is ITM, i.e. $S(T) > E$, and zero otherwise\n",
    "\n",
    "    $$ B_c(S, T) = \n",
    "    \\begin{cases}\n",
    "    1 & \\text{if } S(T) > E \\\\\n",
    "    0 & \\text{otherwise}\n",
    "    \\end{cases} $$\n",
    "\n",
    "    A share price is currently £80. At the end of three months, it will be either £84 or £76. Ignoring interest rates, calculate the value of a three-month binary call option with strike price £79. **Note this is similar to question 1, but with the option now being a digital.**"
   ]
  },
  {
   "attachments": {},
   "cell_type": "markdown",
   "id": "d034a067",
   "metadata": {},
   "source": [
    "6. Implement the multi-step binomial method as described in the Binomial Method lecture with the following variables and parameters: stock $S = 100$; interest rate $r = 0.05$ (continuously compounded) for a call option with strike $E = 100$, $T = 1$. Use four time steps. Calculate the value of the option for a range of volatilities and plot the results. Now with volatility $\\sigma = 0.2$, plot the value of the call option as the number of time steps increases."
   ]
  },
  {
   "attachments": {},
   "cell_type": "markdown",
   "id": "035fe08b",
   "metadata": {},
   "source": [
    "7. A share price is currently £63. At the end of each three-month period, it will change by going up £3 or going down £3. Calculate the value of a six-month European put option with strike price £61. The risk-free interest rate is 4\\% per annum with continuous compounding."
   ]
  },
  {
   "attachments": {},
   "cell_type": "markdown",
   "id": "2ef94a05",
   "metadata": {},
   "source": [
    "8. An asset $S$ with value $\\alpha$ today follows the two-step Binomial tree given by \n",
    "\n",
    "    |0 | $T_1$ | $T$ |\n",
    "    | -------------- | -------------- | -------------- |\n",
    "    |----------| ----------- | $\\alpha+20$ |\n",
    "    |----------| $\\alpha+10$ | ----------- |\n",
    "    | $\\alpha$ | ----------- | $\\alpha$    |\n",
    "    |----------| $\\alpha-10$ | ----------- |\n",
    "    |----------| ----------- | $\\alpha+20$ |\n",
    "    \n",
    "    The risk-free interest rate $r = 0$: Construct the corresponding option pricing tree\n",
    "    \n",
    "    |0 | $T_1$ | $T$ |\n",
    "    |----------|----------|----------|\n",
    "    |----------|----------| $V_2$    |\n",
    "    |----------| $V_1$    |----------|\n",
    "    | $V$      |----------| $V_0$    |\n",
    "    |----------| $V_1$    |----------|\n",
    "    |----------|----------| $V_{-2}$ |\n",
    "    \n",
    "    for a European call option with payoff $V(S, T) = \\text{max}(S-\\alpha-5,0)$; to show\n",
    "    \n",
    "    |0                 | $T_1$         | $T$ |\n",
    "    |----------        |-------        |-----|\n",
    "    |----------        |-------        | $15$|\n",
    "    |----------        | $\\frac{15}{2}$|-----|\n",
    "    | $\\frac{15}{4}$ |-------        | $0$ |\n",
    "    |----------        | $0$           |-----|\n",
    "    |----------        |-------        | $0$ |"
   ]
  }
 ],
 "metadata": {
  "kernelspec": {
   "display_name": "Python 3 (ipykernel)",
   "language": "python",
   "name": "python3"
  },
  "language_info": {
   "codemirror_mode": {
    "name": "ipython",
    "version": 3
   },
   "file_extension": ".py",
   "mimetype": "text/x-python",
   "name": "python",
   "nbconvert_exporter": "python",
   "pygments_lexer": "ipython3",
   "version": "3.10.9"
  },
  "toc": {
   "base_numbering": 1,
   "nav_menu": {},
   "number_sections": true,
   "sideBar": true,
   "skip_h1_title": false,
   "title_cell": "Table of Contents",
   "title_sidebar": "Contents",
   "toc_cell": false,
   "toc_position": {},
   "toc_section_display": true,
   "toc_window_display": false
  },
  "varInspector": {
   "cols": {
    "lenName": 16,
    "lenType": 16,
    "lenVar": 40
   },
   "kernels_config": {
    "python": {
     "delete_cmd_postfix": "",
     "delete_cmd_prefix": "del ",
     "library": "var_list.py",
     "varRefreshCmd": "print(var_dic_list())"
    },
    "r": {
     "delete_cmd_postfix": ") ",
     "delete_cmd_prefix": "rm(",
     "library": "var_list.r",
     "varRefreshCmd": "cat(var_dic_list()) "
    }
   },
   "types_to_exclude": [
    "module",
    "function",
    "builtin_function_or_method",
    "instance",
    "_Feature"
   ],
   "window_display": false
  }
 },
 "nbformat": 4,
 "nbformat_minor": 5
}
