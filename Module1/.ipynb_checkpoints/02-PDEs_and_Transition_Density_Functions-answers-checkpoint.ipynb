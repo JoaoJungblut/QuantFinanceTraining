{
 "cells": [
  {
   "cell_type": "markdown",
   "id": "745762ca",
   "metadata": {},
   "source": [
    " <br> <font color = black size=8>CQF Lecture Two - Exercises </font> "
   ]
  },
  {
   "cell_type": "markdown",
   "id": "fba962cc",
   "metadata": {},
   "source": [
    "1. Consider the Forward Kolmogorov equation (FKE), given by $$ \\frac{\\partial p}{\\partial t'} = c^2 \\frac{\\partial^2 p}{\\partial y'^2}$$ for the transition density function $p(y, t; y', t')$; $c^2 \\in \\mathbb{R}$ The states $(y, t)$ are past and are fixed while $(y', t')$ refers to future ones and are variables. By simple substitution show that"
   ]
  }
 ],
 "metadata": {
  "kernelspec": {
   "display_name": "Python 3 (ipykernel)",
   "language": "python",
   "name": "python3"
  },
  "language_info": {
   "codemirror_mode": {
    "name": "ipython",
    "version": 3
   },
   "file_extension": ".py",
   "mimetype": "text/x-python",
   "name": "python",
   "nbconvert_exporter": "python",
   "pygments_lexer": "ipython3",
   "version": "3.10.9"
  },
  "toc": {
   "base_numbering": 1,
   "nav_menu": {},
   "number_sections": true,
   "sideBar": true,
   "skip_h1_title": false,
   "title_cell": "Table of Contents",
   "title_sidebar": "Contents",
   "toc_cell": false,
   "toc_position": {},
   "toc_section_display": true,
   "toc_window_display": false
  },
  "varInspector": {
   "cols": {
    "lenName": 16,
    "lenType": 16,
    "lenVar": 40
   },
   "kernels_config": {
    "python": {
     "delete_cmd_postfix": "",
     "delete_cmd_prefix": "del ",
     "library": "var_list.py",
     "varRefreshCmd": "print(var_dic_list())"
    },
    "r": {
     "delete_cmd_postfix": ") ",
     "delete_cmd_prefix": "rm(",
     "library": "var_list.r",
     "varRefreshCmd": "cat(var_dic_list()) "
    }
   },
   "types_to_exclude": [
    "module",
    "function",
    "builtin_function_or_method",
    "instance",
    "_Feature"
   ],
   "window_display": false
  }
 },
 "nbformat": 4,
 "nbformat_minor": 5
}
