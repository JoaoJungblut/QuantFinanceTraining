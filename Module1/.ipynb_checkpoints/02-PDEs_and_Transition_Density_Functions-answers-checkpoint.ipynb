{
 "cells": [
  {
   "cell_type": "markdown",
   "id": "bbde1c80",
   "metadata": {},
   "source": [
    " <br> <font color = black size=8>CQF Lecture Two - Exercises </font> "
   ]
  },
  {
   "cell_type": "markdown",
   "id": "84ef1f2b",
   "metadata": {},
   "source": [
    "1. Consider the Forward Kolmogorov equation (FKE), given by \n",
    "\n",
    "    \\begin{equation} \n",
    "    \\frac{\\partial p}{\\partial t'} = c^2 \\frac{\\partial^2 p}{\\partial y'^2} \n",
    "    \\tag{1.1}\n",
    "    \\end{equation} \n",
    "    \n",
    "    for the transition density function $p(y, t; y', t')$; $c^2 \\in \\mathbb{R}$ The states $(y, t)$ are past and are fixed while $(y', t')$ refers to future ones and are variables. \n",
    "    By simple substitution show that\n",
    "    \n",
    "    \\begin{equation} \n",
    "    p(y, t; y', t') = \\frac{1}{2c \\sqrt{\\pi(t' - t)}}exp\\left(- \\frac{(y' - y)^2}{4c^2(t'-t)^2}\\right), \n",
    "    \\tag{1.2}\n",
    "    \\end{equation} \n",
    "    \n",
    "    <ins>satisfies</ins> the FKE. **You may drop the $(y, t)$ from your working as they won't change.** Show that (1.2) satisfies\n",
    "    $$ \\int_{\\mathbb{R}}p(y, t; y', t')dy'=1. $$"
   ]
  },
  {
   "cell_type": "markdown",
   "id": "6e8d78f3",
   "metadata": {},
   "source": [
    "2. Consider a symmetric random walk which starts with a marker placed at a point $x$ at time $s$; written $(x, s)$. Suppose at a later time $t > s$ the marker is at $y$; the future state denoted $(y, t)$. The marker can move in step sizes of $\\delta y$ in a time step $\\delta t$. At the previous step the marker must have been at one of $(y - \\delta y, t - \\delta t)$. The transition probability density function of the position y of the diffusion at a later time t, is written $p(x, s; y, t)$. Derive the Forward Equation\n",
    "    \n",
    "    $$ \\frac{\\partial p}{\\partial t} = \\dfrac{1}{2}\\frac{\\partial^2 p}{\\partial y^2}.$$\n",
    "    \n",
    "    **You may omit the dependence on $(x, s)$ in your working as they will not change.**"
   ]
  },
  {
   "cell_type": "markdown",
   "id": "473efcab",
   "metadata": {},
   "source": [
    "3. A FKE of the following form is given\n",
    "    \n",
    "   \\begin{equation} \n",
    "   \\frac{\\partial p}{\\partial t} = \\dfrac{1}{2}\\frac{\\partial^2 p}{\\partial y^2},\n",
    "   \\tag(3.1)\n",
    "   \\end{\\equation}\n",
    "   \n",
    "   for the transition probability density function $p(y, t)$. At time t, the diffusion has position $y$. Assume a solution of (3.1) exists and takes the following form \n",
    "   \n",
    "   $$ p(y, t) = t^{-1/2}\\mathit{f}(ƞ); ƞ = \\frac{y}{t^{1/2}}.$$\n",
    "   \n",
    "   Solve (3.1) to show that a particular solution of this is \n",
    "   \n",
    "   $$ p(y, t) = \\frac{1}{\\sqrt{2\\pi t}}exp\\left(-\\frac{y^2}{2t}\\right). $$"
   ]
  }
 ],
 "metadata": {
  "kernelspec": {
   "display_name": "Python 3 (ipykernel)",
   "language": "python",
   "name": "python3"
  },
  "language_info": {
   "codemirror_mode": {
    "name": "ipython",
    "version": 3
   },
   "file_extension": ".py",
   "mimetype": "text/x-python",
   "name": "python",
   "nbconvert_exporter": "python",
   "pygments_lexer": "ipython3",
   "version": "3.10.9"
  },
  "toc": {
   "base_numbering": 1,
   "nav_menu": {},
   "number_sections": true,
   "sideBar": true,
   "skip_h1_title": false,
   "title_cell": "Table of Contents",
   "title_sidebar": "Contents",
   "toc_cell": false,
   "toc_position": {},
   "toc_section_display": true,
   "toc_window_display": false
  },
  "varInspector": {
   "cols": {
    "lenName": 16,
    "lenType": 16,
    "lenVar": 40
   },
   "kernels_config": {
    "python": {
     "delete_cmd_postfix": "",
     "delete_cmd_prefix": "del ",
     "library": "var_list.py",
     "varRefreshCmd": "print(var_dic_list())"
    },
    "r": {
     "delete_cmd_postfix": ") ",
     "delete_cmd_prefix": "rm(",
     "library": "var_list.r",
     "varRefreshCmd": "cat(var_dic_list()) "
    }
   },
   "types_to_exclude": [
    "module",
    "function",
    "builtin_function_or_method",
    "instance",
    "_Feature"
   ],
   "window_display": false
  }
 },
 "nbformat": 4,
 "nbformat_minor": 5
}
