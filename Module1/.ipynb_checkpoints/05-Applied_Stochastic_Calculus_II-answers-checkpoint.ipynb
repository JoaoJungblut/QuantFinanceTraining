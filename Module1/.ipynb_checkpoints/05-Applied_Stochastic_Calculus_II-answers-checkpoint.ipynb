{
 "cells": [
  {
   "cell_type": "markdown",
   "id": "f1aa3caa",
   "metadata": {},
   "source": [
    " <br> <font color = blue size=8>CQF Lecture Five - Exercises </font> "
   ]
  },
  {
   "cell_type": "markdown",
   "id": "3bb4e343",
   "metadata": {},
   "source": [
    "$W_t$ is a Brownian Motion (Wiener Process) and $dW(t)$ or $dW(t)$ is its increment. $W_0 = 0$."
   ]
  },
  {
   "cell_type": "markdown",
   "id": "fe21e9a4",
   "metadata": {},
   "source": [
    "1. The change in a share price $S(t)$ satisfies\n",
    "\n",
    "    $$ dS = A(S, t)dW_t + B(S, t)dt ,$$\n",
    "    \n",
    "    for some function $A$ and $B$. If $f = f(S, t)$, then Itô's lemma gives the following SDE\n",
    "    \n",
    "    $$ df = \\left(\\frac{\\partial f}{\\partial t} + B\\frac{\\partial f}{\\partial S} + \\frac{1}{2} A^2 \\frac{\\partial^2 f}{\\partial S^2} \\right)dt + A \\frac{\\partial f}{\\partial S}dW_t .$$\n",
    "    \n",
    "    Can $A$ and $B$ be chosen so that a function $g = g(S)$ has a change which has zero drift, but non-zero diffusion? State any appropriate conditions."
   ]
  },
  {
   "cell_type": "markdown",
   "id": "22cc89a7",
   "metadata": {},
   "source": [
    "2. Show that \n",
    "\n",
    "    $$ \\int^t_0 W_{\\tau}(1 - e^{-W^2_{\\tau}})dW_{\\tau} = \\bar{F}(W_t) + \\int^t_0 G(W_{\\tau}) d\\tau .$$\n",
    "    \n",
    "    where the function $\\bar{F}$ and $G$ should be determined."
   ]
  },
  {
   "cell_type": "markdown",
   "id": "4c359ac6",
   "metadata": {},
   "source": [
    "3. Consider the process\n",
    "\n",
    "    $$ d(log y) = (\\alpha - \\beta log y)dt + \\delta dW_t ,$$\n",
    "    \n",
    "    The parameters $\\alpha$, $\\beta$, $\\delta$ are constant. Show that $y$ satisfies\n",
    "    \n",
    "    $$ \\frac{dy}{y} = \\left(\\alpha - \\beta log y + \\frac{1}{2} \\delta^2 \\right)dt + \\delta dW_t .$$"
   ]
  },
  {
   "cell_type": "markdown",
   "id": "f1d96272",
   "metadata": {},
   "source": [
    "4. Show that \n",
    "\n",
    "    $$ G_t = e^{t + ae^{W_t}}$$\n",
    "    \n",
    "    is a solution of the stochastic differential equation \n",
    "    \n",
    "    $$ dG_t = G_t(1 + \\tfrac{1}{2}(ln G_t - t)^2) + \\tfrac{1}{2}(ln G_t - t)^2 + G_t(ln G_t - t)dW ,$$\n",
    "    \n",
    "    where $a$ is a constant."
   ]
  },
  {
   "cell_type": "markdown",
   "id": "14ec0e86",
   "metadata": {},
   "source": [
    "5. A spot rate $r_t$, evolves according to the popular form\n",
    "\n",
    "    $$ dr_t = u(r_t)dt + \\upsilon R^{\\beta}_t dW_t , $$\n",
    "    \n",
    "    and $\\upsilon$ and $\\beta$ are constants. Suppose such a model has a **steady state transition probability density function** $p_{\\infty}(r)$ that satisfies the forward Fokker Planck Equation. Show that this implies the drift structure of $(*)$ is given by\n",
    "    \n",
    "    $$ u(r_t) = \\upsilon^2 \\beta r^{2\\beta - 1}_t + \\tfrac{1}{2} \\upsilon^2 r^{2\\beta}_t \\tfrac{d}{dr}(log p_{\\infty}) .$$"
   ]
  }
 ],
 "metadata": {
  "kernelspec": {
   "display_name": "Python 3 (ipykernel)",
   "language": "python",
   "name": "python3"
  },
  "language_info": {
   "codemirror_mode": {
    "name": "ipython",
    "version": 3
   },
   "file_extension": ".py",
   "mimetype": "text/x-python",
   "name": "python",
   "nbconvert_exporter": "python",
   "pygments_lexer": "ipython3",
   "version": "3.10.9"
  },
  "toc": {
   "base_numbering": 1,
   "nav_menu": {},
   "number_sections": true,
   "sideBar": true,
   "skip_h1_title": false,
   "title_cell": "Table of Contents",
   "title_sidebar": "Contents",
   "toc_cell": false,
   "toc_position": {},
   "toc_section_display": true,
   "toc_window_display": false
  },
  "varInspector": {
   "cols": {
    "lenName": 16,
    "lenType": 16,
    "lenVar": 40
   },
   "kernels_config": {
    "python": {
     "delete_cmd_postfix": "",
     "delete_cmd_prefix": "del ",
     "library": "var_list.py",
     "varRefreshCmd": "print(var_dic_list())"
    },
    "r": {
     "delete_cmd_postfix": ") ",
     "delete_cmd_prefix": "rm(",
     "library": "var_list.r",
     "varRefreshCmd": "cat(var_dic_list()) "
    }
   },
   "types_to_exclude": [
    "module",
    "function",
    "builtin_function_or_method",
    "instance",
    "_Feature"
   ],
   "window_display": false
  }
 },
 "nbformat": 4,
 "nbformat_minor": 5
}
