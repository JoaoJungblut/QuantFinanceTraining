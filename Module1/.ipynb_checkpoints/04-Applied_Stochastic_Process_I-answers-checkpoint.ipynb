{
 "cells": [
  {
   "cell_type": "markdown",
   "id": "0e0cd5fc",
   "metadata": {},
   "source": [
    " <br> <font color = blue size=8>CQF Lecture Four - Exercises </font> "
   ]
  },
  {
   "cell_type": "markdown",
   "id": "fab2ec19",
   "metadata": {},
   "source": [
    "Throughout this problem sheet, you may assume that $W_t$ is a Brownian Motion (Wiener Process) and $dW_t$ is its increment; and $W_0 = 0$. SDE is a Stochastic Differential Equation."
   ]
  },
  {
   "cell_type": "markdown",
   "id": "413f379b",
   "metadata": {},
   "source": [
    "1. Let $\\phi$ be a random variable which follows a standardized normal distribution, i.e. $\\phi \\sim N(0, 1)$.\n",
    "\n",
    "    Calculate the expected value and variance given by \n",
    "    $\\mathbb{E}[\\psi]$ and $\\mathbb{V}[\\psi]$, in turn, where \n",
    "    $\\psi = \\sqrt{dt}\\phi$. $dt$ is a small time-step. **Note: No integration is required.**"
   ]
  },
  {
   "cell_type": "markdown",
   "id": "fd02ad51",
   "metadata": {},
   "source": [
    "2. Consider the following examples of SDEs for a diffusion process G. Write these in standard form, i.e.\n",
    "\n",
    "    $$ dG = A(G, t)dt + B(G, t)dW_t $$\n",
    "    \n",
    "    Give the drift and diffusion for each case.\n",
    "    \n",
    "    a. $df + dW_t - dt + 2 \\mu t f dt + 2\\sqrt{f}dW_t = 0$\n",
    "    \n",
    "    b. $\\frac{dy}{y} = (A + By)dt + (Cy)dW_t$\n",
    "    \n",
    "    c. $dS = (\\upsilon - \\mu S)dt + \\sigma dW_t + 4dS$"
   ]
  },
  {
   "cell_type": "markdown",
   "id": "02eee994",
   "metadata": {},
   "source": [
    "3. Use Itô's lemma to obtain a SDE for each of the following functions:\n",
    "    \n",
    "    a. $f(W_t) = (W_t)^n$\n",
    "    \n",
    "    b. $y(W_t) = exp(W_t)$\n",
    "    \n",
    "    c. $g(W_t) = log W_t$\n",
    "    \n",
    "    d. $h(W_t) = sin W_t + cos W_t$\n",
    "    \n",
    "    e. $f(W_t) = a^{W_t}$, where the constant $a > 1$"
   ]
  },
  {
   "cell_type": "markdown",
   "id": "34b3feff",
   "metadata": {},
   "source": [
    "4. Using the formula below for stochastic integrals, for a function $F(W_t, t)$,\n",
    "\n",
    "    $$ \\int^t_0 \\frac{\\partial F}{\\partial W_{\\tau}}dW_{\\tau} = F(W_{\\tau}, t) - F(W_0, 0) - \\int^t_0 \\left(\\frac{\\partial F}{\\partial_{\\tau}} + \\dfrac{1}{2} \\frac{\\partial^2 F}{\\partial W^2_{\\tau}} \\right)d\\tau ,$$\n",
    "    \n",
    "    show that we can write\n",
    "    \n",
    "    a. $\\int^t_0 W^3_{\\tau} dW_{\\tau} = \\frac{1}{4}W^4_t - \\frac{3}{2}\\int^t_0 W^2_{\\tau} d\\tau$\n",
    "    \n",
    "    b. $\\int^t_0 \\tau dW_{\\tau} = t W_t - \\int^t_0 W_{\\tau} d\\tau$\n",
    "    \n",
    "    c. $\\int^t_0 (W_{\\tau} + \\tau) dW_{\\tau} = \\frac{1}{2}W^2_t + t W_t - \\int^t_0 \\left( W_{\\tau} + \\frac{1}{2} \\right) d\\tau$"
   ]
  },
  {
   "cell_type": "markdown",
   "id": "42895933",
   "metadata": {},
   "source": [
    "5. Consider the linear parabolic partial differential equation\n",
    "\n",
    "    $$ \\frac{\\partial u}{\\partial t} = \\frac{\\partial^2 u}{\\partial x^2} + a\\frac{\\partial u}{\\partial x} + b u ,$$\n",
    "    \n",
    "    for the function $u(x, t)$; where $a$ and $b$ are constants. By using a substitution of the form\n",
    "    \n",
    "    $$ u(x, t) = e^{\\alpha x + \\beta t} \\upsilon (x, t) ,$$\n",
    "    \n",
    "    and suitable choice of $\\alpha$ and $\\beta$, show that the PDE can be reduced to the heat equation \n",
    "    \n",
    "    $$ \\frac{\\partial \\upsilon}{\\partial t} = \\frac{\\partial^2 \\upsilon}{\\partial x^2}$$"
   ]
  }
 ],
 "metadata": {
  "kernelspec": {
   "display_name": "Python 3 (ipykernel)",
   "language": "python",
   "name": "python3"
  },
  "language_info": {
   "codemirror_mode": {
    "name": "ipython",
    "version": 3
   },
   "file_extension": ".py",
   "mimetype": "text/x-python",
   "name": "python",
   "nbconvert_exporter": "python",
   "pygments_lexer": "ipython3",
   "version": "3.10.9"
  },
  "toc": {
   "base_numbering": 1,
   "nav_menu": {},
   "number_sections": true,
   "sideBar": true,
   "skip_h1_title": false,
   "title_cell": "Table of Contents",
   "title_sidebar": "Contents",
   "toc_cell": false,
   "toc_position": {},
   "toc_section_display": true,
   "toc_window_display": false
  },
  "varInspector": {
   "cols": {
    "lenName": 16,
    "lenType": 16,
    "lenVar": 40
   },
   "kernels_config": {
    "python": {
     "delete_cmd_postfix": "",
     "delete_cmd_prefix": "del ",
     "library": "var_list.py",
     "varRefreshCmd": "print(var_dic_list())"
    },
    "r": {
     "delete_cmd_postfix": ") ",
     "delete_cmd_prefix": "rm(",
     "library": "var_list.r",
     "varRefreshCmd": "cat(var_dic_list()) "
    }
   },
   "types_to_exclude": [
    "module",
    "function",
    "builtin_function_or_method",
    "instance",
    "_Feature"
   ],
   "window_display": false
  }
 },
 "nbformat": 4,
 "nbformat_minor": 5
}
