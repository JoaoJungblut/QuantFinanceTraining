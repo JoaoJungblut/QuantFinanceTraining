{
 "cells": [
  {
   "cell_type": "markdown",
   "id": "ddcf1f17",
   "metadata": {},
   "source": [
    " <br> <font color = black size=8>CQF Lecture One - Exercises </font> "
   ]
  },
  {
   "cell_type": "markdown",
   "id": "d5d36ab0",
   "metadata": {},
   "source": [
    "**The log-Normal random walk**.\n",
    "\n",
    "$$ dS = \\mu S dt + \\sigma S dX$$\n",
    "\n",
    "In class we have looked at Stochastic Differential Equation (SDE) as a popular model for stock price S. \n",
    "\n",
    "On the dataset of prices from the Lecture Excel file - or any equity index of your own choice, we test the robustness of the assumption that \n",
    "\n",
    "$$ R_i = [\\mu\\delta t + \\sigma\\sqrt{\\delta t}\\phi_i] $$ \n",
    "\n",
    "if the drift is a negligible, very small and non robust quantity, $\\mu\\delta t  \\simeq 0$.\n",
    "\n",
    "$$ R_i = \\sigma\\sqrt{\\delta t}\\phi_i.$$\n",
    "\n",
    "$R_i$ represents the returns over timestep $\\delta t$, the $\\phi_i$ ~ $N(0,1)$ is Standard Normal variable. The tasks below give sufficient detail to be performed on your own - the solution give more information but no separate computation provided."
   ]
  },
  {
   "cell_type": "markdown",
   "id": "95daeedc",
   "metadata": {},
   "source": [
    "1. Scaling of $\\sigma$ with time, to the size of $\\delta t$: compute column(s) of returns (1D, 2D OR 5D but no longer). For example, 5D will be $R_i = \\frac{S_{t+5} - S_t}{S_t}$. For each, compute the standard deviation of the role column. Adjust $\\sigma_{2D}$ by $1/\\sqrt{2}$ and $\\sigma_{5D}$ by $1/\\sqrt{5}$ - are these comparable to $\\sigma_{1D}$?\n",
    "\n",
    "2. Re-shuffle the dataset into two non-chronological halves (even / odd observations) and compute $\\mu$, $\\sigma$  separately for each half (1D returns only). Compare.\n",
    "\n",
    "3. Construct Quantile-Quantile plots for 1D and 5D returns. The Q-Q plot assumes Normal distribution on horizontal axis – the better the fit between of the empirical returns to Normal distribution, the more observations will be on the diagonal line.\n",
    "\n",
    "4. Construct a histogram over historical returns scaled to z-scores and compare to Normal distribution density. $$ R_i = \\frac{\\delta S}{S} = \\frac{S_{t+1} - S_t}{S_t} = \\frac{S_{t+1}}{S_t} - 1 $$ This last point is  implemented in Modeling Returns python lab (or alike content). \n"
   ]
  },
  {
   "cell_type": "markdown",
   "id": "0ef5aeff",
   "metadata": {},
   "source": [
    "**The Q-Q plot.**\n",
    "\n",
    "The plot is straightforward to build from the first principles in Excel, Python. There are ready functions, that can go as advanced as qqplot from [statsmodels.api](https://www.statsmodels.org/stable/api.html) library in Python. However, going through the principles below you will gain further understanding of what the Q-Q plots signals.\n",
    "\n",
    "Organize the data in columns that match Historic, Scaled and Standard returns. Historic stands for the actual or empirical S&P 500 return (our data and historic period, you can use any equity index). Scaled is the normalized return (also called z-score).\n",
    "\n",
    "Standard refers the Normal Percentile that corresponds to the cumulative probability given by $i/N_{obs}$. It the value on axis $X$ that cuts the requisite probability under the bell of Normal density *pdf* or the axis $Y$ result of Normal cumulative density *cdf*.\n",
    "\n",
    "| Historic  | Scaled    | i | i/N   | Standard |\n",
    "|-----------|-----------|---|-------|----------|\n",
    "| -0.22900  | -21.20462 | 1 | 0.00009 | -3.74534 |\n",
    "| -0.09470  | -8.78146  | 2 | 0.00018 | -3.56758 |\n",
    "| -0.09354  | -8.67429  | 3 | 0.00027 | -3.45987 |\n",
    "| -0.09219  | -8.54970  | 4 | 0.00036 | -3.38162 |\n",
    "| -0.08642  | -8.01584  | 5 | 0.00045 | -3.31983 |\n",
    "| -0.07922  | -7.35036  | 6 | 0.00054 | -3.26858 |\n",
    "| .         | .         | . | .     | .        |\n",
    "| Table 1: Inputs for a Q-Q plot. |\n"
   ]
  },
  {
   "cell_type": "markdown",
   "id": "763eb2eb",
   "metadata": {},
   "source": [
    "1. Scale historic log-returns $R_t$ to $Z_t = \\frac{r_t - \\mu}{\\sigma}$. Why we use log and not simple returns here is explained in Solutions. Notice our original SDE is continuous-time model.\n",
    "\n",
    "2.  Sort the scaled returns in the ascending order and create an index column $i = 1, ..., N$.\n",
    "\n",
    "3. The cumulative density – percentage of observations below this – will be simply $i/N$.\n",
    "\n",
    "4. The standardised percentile is obtained with the inverse Normal CDF $\\Phi^{-1}(i/N)$. Each observation adds’ density (probability mass) of $1/N$."
   ]
  },
  {
   "cell_type": "markdown",
   "id": "6842e7dc",
   "metadata": {},
   "source": [
    "Plot the scaled returns (Z-scores) from Step 1 against the Normal percentiles from Step 4. For the perfectly Normal log-returns the Q-Q plot would be a straight line."
   ]
  }
 ],
 "metadata": {
  "kernelspec": {
   "display_name": "Python 3 (ipykernel)",
   "language": "python",
   "name": "python3"
  },
  "language_info": {
   "codemirror_mode": {
    "name": "ipython",
    "version": 3
   },
   "file_extension": ".py",
   "mimetype": "text/x-python",
   "name": "python",
   "nbconvert_exporter": "python",
   "pygments_lexer": "ipython3",
   "version": "3.10.9"
  },
  "toc": {
   "base_numbering": 1,
   "nav_menu": {},
   "number_sections": true,
   "sideBar": true,
   "skip_h1_title": false,
   "title_cell": "Table of Contents",
   "title_sidebar": "Contents",
   "toc_cell": false,
   "toc_position": {},
   "toc_section_display": true,
   "toc_window_display": false
  },
  "varInspector": {
   "cols": {
    "lenName": 16,
    "lenType": 16,
    "lenVar": 40
   },
   "kernels_config": {
    "python": {
     "delete_cmd_postfix": "",
     "delete_cmd_prefix": "del ",
     "library": "var_list.py",
     "varRefreshCmd": "print(var_dic_list())"
    },
    "r": {
     "delete_cmd_postfix": ") ",
     "delete_cmd_prefix": "rm(",
     "library": "var_list.r",
     "varRefreshCmd": "cat(var_dic_list()) "
    }
   },
   "types_to_exclude": [
    "module",
    "function",
    "builtin_function_or_method",
    "instance",
    "_Feature"
   ],
   "window_display": false
  }
 },
 "nbformat": 4,
 "nbformat_minor": 5
}
